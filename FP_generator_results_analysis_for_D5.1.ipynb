{
 "cells": [
  {
   "cell_type": "markdown",
   "metadata": {},
   "source": [
    "## First analysis of FP generator results"
   ]
  },
  {
   "cell_type": "code",
   "execution_count": 1,
   "metadata": {
    "collapsed": true
   },
   "outputs": [],
   "source": [
    "import sys\n",
    "sys.path.insert(1,'../../../../libs')\n",
    "sys.path.insert(1,'../py')\n",
    "\n",
    "import pandas as pd\n",
    "import numpy as np\n",
    "import random\n",
    "import standard_atmosphere as sa\n",
    "import unit_conversions as uc\n",
    "import utilities as u\n",
    "import mysql_database as mysql\n",
    "import airspace_particularities as ap\n",
    "import geo_tools as gt\n",
    "import fp_generator_functions as fgf\n",
    "import matplotlib.pyplot as plt\n",
    "\n",
    "import importlib\n",
    "importlib.reload(mysql)\n",
    "importlib.reload(u)\n",
    "importlib.reload(fgf)\n",
    "\n",
    "import configparser\n",
    "\n",
    "\n",
    "\n",
    "local = 0\n",
    "\n",
    "if local==0:\n",
    "    hostname = '10.20.200.133'\n",
    "    port     = 3306\n",
    "    hostname = '10.20.198.170'\n",
    "    password = 'IamLuisIswear'\n",
    "else:\n",
    "    hostname = '127.0.0.1'\n",
    "    port     = 3306\n",
    "    password = 'UoWaero'\n",
    "    \n",
    "username = 'luis'\n",
    "database_ddr = 'airac_ddr_test'\n",
    "database_vista = 'vistaenvironment'\n",
    "database_bada3 = 'bada3'\n",
    "database_bada4_1 = 'bada4'\n",
    "database_bada4_2 = 'bada4_2'\n",
    "\n",
    "scenario_id = 1\n",
    "\n",
    "mysql_vista = mysql.DataAccessVista(hostname,port,username,password,database_vista)\n",
    "\n"
   ]
  },
  {
   "cell_type": "code",
   "execution_count": 2,
   "metadata": {
    "collapsed": true
   },
   "outputs": [],
   "source": [
    "#READ FLIGHT SELECTED AND NUMBER OF OPTIONS PER FLIGHT AVAILABLE\n",
    "fs = mysql_vista.read_flights_selected(only_first_preference=True, limit_fields=True, \n",
    "                                       other_condition=\"fs.FPS_run>=61\")\n",
    "foptions = mysql_vista.read_number_options_per_schedule()\n",
    "fs = pd.merge(fs, foptions, on=\"schedule_id\", how=\"left\")"
   ]
  },
  {
   "cell_type": "code",
   "execution_count": 3,
   "metadata": {},
   "outputs": [
    {
     "data": {
      "text/html": [
       "<div>\n",
       "<style>\n",
       "    .dataframe thead tr:only-child th {\n",
       "        text-align: right;\n",
       "    }\n",
       "\n",
       "    .dataframe thead th {\n",
       "        text-align: left;\n",
       "    }\n",
       "\n",
       "    .dataframe tbody tr th {\n",
       "        vertical-align: top;\n",
       "    }\n",
       "</style>\n",
       "<table border=\"1\" class=\"dataframe\">\n",
       "  <thead>\n",
       "    <tr style=\"text-align: right;\">\n",
       "      <th></th>\n",
       "      <th>scenario</th>\n",
       "    </tr>\n",
       "  </thead>\n",
       "  <tbody>\n",
       "    <tr>\n",
       "      <th>0</th>\n",
       "      <td>0</td>\n",
       "    </tr>\n",
       "    <tr>\n",
       "      <th>271580</th>\n",
       "      <td>4</td>\n",
       "    </tr>\n",
       "    <tr>\n",
       "      <th>543160</th>\n",
       "      <td>5</td>\n",
       "    </tr>\n",
       "    <tr>\n",
       "      <th>814740</th>\n",
       "      <td>6</td>\n",
       "    </tr>\n",
       "    <tr>\n",
       "      <th>1086320</th>\n",
       "      <td>7</td>\n",
       "    </tr>\n",
       "    <tr>\n",
       "      <th>1357900</th>\n",
       "      <td>28</td>\n",
       "    </tr>\n",
       "    <tr>\n",
       "      <th>1629480</th>\n",
       "      <td>29</td>\n",
       "    </tr>\n",
       "  </tbody>\n",
       "</table>\n",
       "</div>"
      ],
      "text/plain": [
       "         scenario\n",
       "0               0\n",
       "271580          4\n",
       "543160          5\n",
       "814740          6\n",
       "1086320         7\n",
       "1357900        28\n",
       "1629480        29"
      ]
     },
     "execution_count": 3,
     "metadata": {},
     "output_type": "execute_result"
    }
   ],
   "source": [
    "#CHECK WHICH SCENARIOS THERE ARE IN THE READ DATA\n",
    "fs[['scenario']].drop_duplicates()"
   ]
  },
  {
   "cell_type": "code",
   "execution_count": null,
   "metadata": {},
   "outputs": [],
   "source": [
    "fs"
   ]
  },
  {
   "cell_type": "markdown",
   "metadata": {},
   "source": [
    "## BOXPLOTS OF SOME METRICS"
   ]
  },
  {
   "cell_type": "code",
   "execution_count": null,
   "metadata": {
    "collapsed": true,
    "scrolled": true
   },
   "outputs": [],
   "source": [
    "#PLOT INFO IN BOXPLOTS\n",
    "def plot_in_boxplot(fs,indicator,xlabels=None,ylabel=\"\",title=\"\",figsize=None,ylim=None):\n",
    "    boxprops = dict(linestyle='-', linewidth=2, color='b')\n",
    "    medianprops = dict(linestyle='-', linewidth=2, color='r')\n",
    "    flierprops  = dict(color='#e7298a', alpha=0.5)\n",
    "    flierprops={'alpha':0.8, \n",
    "                'markersize': 5,\n",
    "                'markeredgecolor': 'None',\n",
    "                'color': '#e7298a',\n",
    "                'marker': 'o'\n",
    "                }\n",
    "    if figsize is None:\n",
    "        figsize = [10,5]\n",
    "    \n",
    "    values = []\n",
    "    scenarios = []\n",
    "    for name, group in fs[['scenario',indicator]].groupby('scenario'):\n",
    "        values = values + [group[indicator].tolist()]\n",
    "        scenarios = scenarios + [name]\n",
    "          \n",
    "    # Multiple box plots on one Axes\n",
    "    fig, ax = plt.subplots(figsize=figsize)\n",
    "    bp = ax.boxplot(values,sym='m.',showmeans=True,\n",
    "                    boxprops=boxprops,medianprops=medianprops,flierprops=flierprops)\n",
    "    \n",
    "    ax.set_xlim([0,len(fs['scenario'].drop_duplicates())+1])\n",
    "    if ylim is not None:\n",
    "        ax.set_ylim(ylim)\n",
    "        \n",
    "    if xlabels is not None:\n",
    "        xlab=[]\n",
    "        for s in scenarios:\n",
    "            xlab= xlab + [xlabels.get(s)]\n",
    "            \n",
    "    else:\n",
    "        xlab = scenarios\n",
    "    ax.set_xticklabels(xlab)\n",
    "        \n",
    "    plt.title(title)\n",
    "    plt.suptitle(\"\")\n",
    "    plt.xlabel(\"scenario\")\n",
    "    plt.ylabel(ylabel)\n",
    "    \n",
    "    plt.show()\n",
    "    \n",
    "dict_scenarios={0:'baseline',4:'low fuel',5:'high fuel',6:'FABs',7:'Homogenous',28:'very high fuel'}\n",
    "    \n",
    "plot_in_boxplot(fs,'fp_distance_nm',dict_scenarios,'NM','FP distance',ylim=None)\n",
    "plot_in_boxplot(fs[fs['num_options']>10],'fp_distance_nm',dict_scenarios,'NM','FP distance more than one option',ylim=None)\n",
    "plot_in_boxplot(fs,'schedule_buffer_min',dict_scenarios,'minutes','buffer',ylim=None)\n",
    "plot_in_boxplot(fs,'fuel_cost_EUR',dict_scenarios,'EUR','fuel cost',ylim=None)\n",
    "plot_in_boxplot(fs,'fuel_cost_EUR',dict_scenarios,'EUR','fuel cost',ylim=[-100,15000])\n",
    "plot_in_boxplot(fs,'crco_cost_EUR',dict_scenarios,'EUR','CRCO cost',ylim=None)\n",
    "plot_in_boxplot(fs[fs['num_options']>10],'crco_cost_EUR',dict_scenarios,'EUR','CRCO cost more than one option',ylim=None)\n",
    "\n",
    "\n",
    "\n"
   ]
  },
  {
   "cell_type": "code",
   "execution_count": null,
   "metadata": {
    "collapsed": true,
    "scrolled": true
   },
   "outputs": [],
   "source": [
    "dict_scenarios={0:'baseline',4:'low fuel',5:'high fuel',6:'FABs',7:'Homogenous',28:'very high fuel'}\n",
    "    \n",
    "plot_in_boxplot(fs,'fp_distance_nm',dict_scenarios,'NM','FP distance',ylim=None)\n",
    "plot_in_boxplot(fs[fs['num_options']>10],'fp_distance_nm',dict_scenarios,'NM','FP distance more than one option',ylim=None)\n",
    "plot_in_boxplot(fs,'schedule_buffer_min',dict_scenarios,'minutes','buffer',ylim=None)\n",
    "plot_in_boxplot(fs,'fuel_cost_EUR',dict_scenarios,'EUR','fuel cost',ylim=None)\n",
    "plot_in_boxplot(fs,'fuel_cost_EUR',dict_scenarios,'EUR','fuel cost',ylim=[-100,15000])\n",
    "plot_in_boxplot(fs,'crco_cost_EUR',dict_scenarios,'EUR','CRCO cost',ylim=None)\n",
    "plot_in_boxplot(fs[fs['num_options']>10],'crco_cost_EUR',dict_scenarios,'EUR','CRCO cost more than one option',ylim=None)\n",
    "\n",
    "\n"
   ]
  },
  {
   "cell_type": "markdown",
   "metadata": {},
   "source": [
    "## LINEAL PLOTS OF METRICS"
   ]
  },
  {
   "cell_type": "code",
   "execution_count": 4,
   "metadata": {
    "scrolled": false
   },
   "outputs": [
    {
     "data": {
      "image/png": "[encoded data removed]",
      "text/plain": [
       "<matplotlib.figure.Figure at 0x1a3f286bc18>"
      ]
     },
     "metadata": {},
     "output_type": "display_data"
    },
    {
     "data": {
      "image/png": "[encoded data removed]",
      "text/plain": [
       "<matplotlib.figure.Figure at 0x1a606b47ef0>"
      ]
     },
     "metadata": {},
     "output_type": "display_data"
    },
    {
     "data": {
      "image/png": "[encoded data removed]",
      "text/plain": [
       "<matplotlib.figure.Figure at 0x1a605904ba8>"
      ]
     },
     "metadata": {},
     "output_type": "display_data"
    },
    {
     "name": "stdout",
     "output_type": "stream",
     "text": [
      "120\n"
     ]
    },
    {
     "data": {
      "image/png": "[encoded data removed]",
      "text/plain": [
       "<matplotlib.figure.Figure at 0x1a603f6b588>"
      ]
     },
     "metadata": {},
     "output_type": "display_data"
    },
    {
     "data": {
      "image/png": "[encoded data removed]",
      "text/plain": [
       "<matplotlib.figure.Figure at 0x1a606b42f28>"
      ]
     },
     "metadata": {},
     "output_type": "display_data"
    }
   ],
   "source": [
    "import general_tools3 as gt3\n",
    "importlib.reload(gt3)\n",
    "importlib.reload(u)\n",
    "\n",
    "def dataframe_results(df,case):\n",
    "    dfresults = pd.DataFrame([{'case':case,\n",
    "                    'buffer min':df['schedule_buffer_min'].mean(),\n",
    "                    'avg dist nm': df['fp_distance_nm'].mean(),\n",
    "                    'total dist nm': df['fp_distance_nm'].sum()/10,\n",
    "                    'avg crco': df['crco_cost_EUR'].mean(),\n",
    "                    'total crco K EUR':df['crco_cost_EUR'].sum()/1000/10,\n",
    "                    'avg time min': df['fp_min'].mean(),\n",
    "                    'total time K min': df['fp_min'].sum()/1000/10,\n",
    "                    'avg fuel kg': df['fp_fuel_kg'].mean(),\n",
    "                    'total cost K EUR':df['crco_cost_EUR'].sum()/1000/10+df['fuel_cost_EUR'].sum()/1000/10}])\n",
    "    \n",
    "    return dfresults\n",
    "\n",
    "\n",
    "df=dataframe_results(fs.loc[(fs['scenario']==0)],'baseline').append(\n",
    "             dataframe_results(fs.loc[(fs['scenario']==4)],'low fuel').append(\n",
    "             dataframe_results(fs.loc[(fs['scenario']==5)],'high fuel')))\n",
    "\n",
    "u.plot_results_line(df[['case','buffer min','avg dist nm','avg crco', 'avg time min', 'avg fuel kg',\n",
    "                       'total cost K EUR']],'case','')\n",
    "\n",
    "\n",
    "\n",
    "df=dataframe_results(fs.loc[(fs['scenario']==0) & (fs['num_options']==1)],'baseline').append(\n",
    "             dataframe_results(fs.loc[(fs['scenario']==4) & (fs['num_options']==1)],'low fuel').append(\n",
    "             dataframe_results(fs.loc[(fs['scenario']==5) & (fs['num_options']==1)],'high fuel')))\n",
    "\n",
    "u.plot_results_line(df[['case','buffer min','avg dist nm','avg crco', 'avg time min', 'avg fuel kg',\n",
    "                       'total cost K EUR']],'case','only 1 option')\n",
    "\n",
    "df=dataframe_results(fs.loc[(fs['scenario']==0) & (fs['num_options']>1)],'baseline').append(\n",
    "             dataframe_results(fs.loc[(fs['scenario']==4) & (fs['num_options']>1)],'low fuel').append(\n",
    "             dataframe_results(fs.loc[(fs['scenario']==5) & (fs['num_options']>1)],'high fuel')))\n",
    "\n",
    "u.plot_results_line(df[['case','buffer min','avg dist nm','avg crco', 'avg time min', 'avg fuel kg',\n",
    "                       'total cost K EUR']],'case','more than 1 option')\n",
    "\n",
    "\n",
    "orig=\"EGNT\"\n",
    "dest=\"GCTS\"\n",
    "\n",
    "print(len(fs.loc[(fs['scenario']==0) & \n",
    "                            (fs['icao_orig'].str.startswith(orig)) &\n",
    "                            (fs['icao_dest'].str.startswith(dest))]))\n",
    "\n",
    "df=dataframe_results(fs.loc[(fs['scenario']==0) & \n",
    "                            (fs['icao_orig'].str.startswith(orig)) &\n",
    "                            (fs['icao_dest'].str.startswith(dest))],'baseline').append(\n",
    "             dataframe_results(fs.loc[(fs['scenario']==4) & \n",
    "                            (fs['icao_orig'].str.startswith(orig)) &\n",
    "                            (fs['icao_dest'].str.startswith(dest))],'low fuel').append(\n",
    "             dataframe_results(fs.loc[(fs['scenario']==5) & \n",
    "                            (fs['icao_orig'].str.startswith(orig)) &\n",
    "                            (fs['icao_dest'].str.startswith(dest))],'high fuel')))\n",
    "\n",
    "u.plot_results_line(df[['case','buffer min','avg dist nm','avg crco', 'avg time min', 'avg fuel kg',\n",
    "                       'total cost K EUR']],'case',orig+\"_\"+dest)\n",
    "\n",
    "\n",
    "\n",
    "\n",
    "\n",
    "df=dataframe_results(fs.loc[(fs['scenario']==0)],'baseline').append(\n",
    "             dataframe_results(fs.loc[(fs['scenario']==6)],'FABs').append(\n",
    "             dataframe_results(fs.loc[(fs['scenario']==7)],'Homogeneous')))\n",
    "\n",
    "\n",
    "u.plot_results_line(df[['case','buffer min','avg dist nm','avg crco', 'avg time min', 'avg fuel kg',\n",
    "                       'total cost K EUR']],'case','')\n",
    "\n"
   ]
  },
  {
   "cell_type": "code",
   "execution_count": 5,
   "metadata": {},
   "outputs": [
    {
     "name": "stdout",
     "output_type": "stream",
     "text": [
      "160\n"
     ]
    },
    {
     "data": {
      "image/png": "[encoded data removed]",
      "text/plain": [
       "<matplotlib.figure.Figure at 0x1a3f0e64fd0>"
      ]
     },
     "metadata": {},
     "output_type": "display_data"
    }
   ],
   "source": [
    "\n",
    "orig=\"EBBR\"\n",
    "dest=\"LTBA\"\n",
    "\n",
    "print(len(fs.loc[(fs['scenario']==0) & \n",
    "                            (fs['icao_orig'].str.startswith(orig)) &\n",
    "                            (fs['icao_dest'].str.startswith(dest))]))\n",
    "\n",
    "df=dataframe_results(fs.loc[(fs['scenario']==0) & \n",
    "                            (fs['icao_orig'].str.startswith(orig)) &\n",
    "                            (fs['icao_dest'].str.startswith(dest))],'baseline').append(\n",
    "             dataframe_results(fs.loc[(fs['scenario']==4) & \n",
    "                            (fs['icao_orig'].str.startswith(orig)) &\n",
    "                            (fs['icao_dest'].str.startswith(dest))],'low fuel').append(\n",
    "             dataframe_results(fs.loc[(fs['scenario']==5) & \n",
    "                            (fs['icao_orig'].str.startswith(orig)) &\n",
    "                            (fs['icao_dest'].str.startswith(dest))],'high fuel')))\n",
    "\n",
    "u.plot_results_line(df[['case','buffer min','avg dist nm','avg crco', 'avg time min', 'avg fuel kg',\n",
    "                       'total cost K EUR']],'case',orig+\"_\"+dest)\n"
   ]
  },
  {
   "cell_type": "code",
   "execution_count": null,
   "metadata": {
    "collapsed": true
   },
   "outputs": [],
   "source": [
    "\n",
    "df=dataframe_results(fs.loc[(fs['scenario']==0)],'baseline').append(\n",
    "             dataframe_results(fs.loc[(fs['scenario']==4)],'low fuel').append(\n",
    "             dataframe_results(fs.loc[(fs['scenario']==5)],'high fuel')))\n",
    "\n",
    "u.plot_results_line(df[['case','buffer min','avg dist nm','avg crco', 'avg time min', 'avg fuel kg',\n",
    "                       'total cost K EUR']],'case','')\n",
    "\n"
   ]
  },
  {
   "cell_type": "code",
   "execution_count": null,
   "metadata": {
    "collapsed": true
   },
   "outputs": [],
   "source": [
    "\n",
    "gt3.bootstrap_mean_test(fs.loc[(fs['scenario']==5) & (fs['icao_orig']==\"LTBA\")\n",
    "                               & (fs['icao_dest']==\"EGKK\") ,'crco_cost_EUR'].tolist(),\n",
    "                        fs.loc[(fs['scenario']==4) & (fs['icao_orig']==\"LTBA\")\n",
    "                               & (fs['icao_dest']==\"EGKK\"),'crco_cost_EUR'].tolist())\n",
    "\n"
   ]
  },
  {
   "cell_type": "code",
   "execution_count": 7,
   "metadata": {},
   "outputs": [
    {
     "name": "stdout",
     "output_type": "stream",
     "text": [
      "440\n"
     ]
    },
    {
     "data": {
      "image/png": "[encoded data removed]",
      "text/plain": [
       "<matplotlib.figure.Figure at 0x1a607192c88>"
      ]
     },
     "metadata": {},
     "output_type": "display_data"
    }
   ],
   "source": [
    "orig=\"LPPT\"\n",
    "dest=\"EGLL\"\n",
    "\n",
    "orig=\"\"\n",
    "dest=\"\"\n",
    "\n",
    "orig=\"GCTS\"\n",
    "dest=\"EGKK\"\n",
    "\n",
    "importlib.reload(u)\n",
    "\n",
    "print(len(fs.loc[(fs['scenario']==0) & \n",
    "                            (fs['icao_orig'].str.startswith(orig)) &\n",
    "                            (fs['icao_dest'].str.startswith(dest))]))\n",
    "\n",
    "df=dataframe_results(fs.loc[(fs['scenario']==0) & \n",
    "                            (fs['icao_orig'].str.startswith(orig)) &\n",
    "                            (fs['icao_dest'].str.startswith(dest))],'baseline').append(\n",
    "             dataframe_results(fs.loc[(fs['scenario']==4) & \n",
    "                            (fs['icao_orig'].str.startswith(orig)) &\n",
    "                            (fs['icao_dest'].str.startswith(dest))],'low fuel').append(\n",
    "             dataframe_results(fs.loc[(fs['scenario']==5) & \n",
    "                            (fs['icao_orig'].str.startswith(orig)) &\n",
    "                            (fs['icao_dest'].str.startswith(dest))],'high fuel').append(\n",
    "             dataframe_results(fs.loc[(fs['scenario']==28) & \n",
    "                            (fs['icao_orig'].str.startswith(orig)) &\n",
    "                            (fs['icao_dest'].str.startswith(dest))],'very high fuel').append(\n",
    "             dataframe_results(fs.loc[(fs['scenario']==29) & \n",
    "                            (fs['icao_orig'].str.startswith(orig)) &\n",
    "                            (fs['icao_dest'].str.startswith(dest))],'very low fuel')))))\n",
    "\n",
    "u.plot_results_line(df[['case','buffer min','avg dist nm','avg crco', 'avg time min', 'avg fuel kg',\n",
    "                       'total cost K EUR']],'case',orig+\"_\"+dest)\n"
   ]
  },
  {
   "cell_type": "code",
   "execution_count": null,
   "metadata": {
    "collapsed": true
   },
   "outputs": [],
   "source": [
    "orig=\"GCTS\"\n",
    "dest=\"EGKK\"\n",
    "\n",
    "print(len(fs.loc[(fs['scenario']==0) & \n",
    "                            (fs['icao_orig'].str.startswith(orig)) &\n",
    "                            (fs['icao_dest'].str.startswith(dest))]))\n",
    "\n",
    "df=dataframe_results(fs.loc[(fs['scenario']==0) & \n",
    "                            (fs['icao_orig'].str.startswith(orig)) &\n",
    "                            (fs['icao_dest'].str.startswith(dest))],'baseline').append(\n",
    "             dataframe_results(fs.loc[(fs['scenario']==4) & \n",
    "                            (fs['icao_orig'].str.startswith(orig)) &\n",
    "                            (fs['icao_dest'].str.startswith(dest))],'low fuel').append(\n",
    "             dataframe_results(fs.loc[(fs['scenario']==5) & \n",
    "                            (fs['icao_orig'].str.startswith(orig)) &\n",
    "                            (fs['icao_dest'].str.startswith(dest))],'high fuel').append(\n",
    "             dataframe_results(fs.loc[(fs['scenario']==28) & \n",
    "                            (fs['icao_orig'].str.startswith(orig)) &\n",
    "                            (fs['icao_dest'].str.startswith(dest))],'very high fuel'))))\n",
    "\n",
    "u.plot_results_line(df[['case','buffer min','avg dist nm','avg crco', 'avg time min', 'avg fuel kg',\n",
    "                       'total cost K EUR']],'case',orig+\"_\"+dest)\n"
   ]
  },
  {
   "cell_type": "code",
   "execution_count": null,
   "metadata": {
    "collapsed": true
   },
   "outputs": [],
   "source": [
    "\n",
    "\n",
    "df=dataframe_results(fs.loc[(fs['scenario']==0)],'baseline').append(\n",
    "             dataframe_results(fs.loc[(fs['scenario']==4)],'low fuel').append(\n",
    "             dataframe_results(fs.loc[(fs['scenario']==5)],'high fuel').append(\n",
    "             dataframe_results(fs.loc[(fs['scenario']==28)],'very high fuel'))))\n",
    "\n",
    "u.plot_results_line(df[['case','buffer min','avg dist nm','avg crco', 'avg time min', 'avg fuel kg',\n",
    "                       'total cost K EUR']],'case','')\n"
   ]
  },
  {
   "cell_type": "code",
   "execution_count": null,
   "metadata": {
    "collapsed": true
   },
   "outputs": [],
   "source": [
    "#gt3.bootstrap_mean_test(fs.loc[(fs['scenario']==28) ,'fp_fuel_kg'].tolist(),\n",
    "#                        fs.loc[(fs['scenario']==4) ,'fp_fuel_kg'].tolist())\n",
    "\n",
    "gt3.bootstrap_mean_test(fs.loc[(fs['scenario']==28) & (fs['num_options']>1) ,'crco_cost_EUR'].tolist(),\n",
    "                        fs.loc[(fs['scenario']==4) & (fs['num_options']>1),'crco_cost_EUR'].tolist())\n"
   ]
  },
  {
   "cell_type": "code",
   "execution_count": null,
   "metadata": {
    "collapsed": true
   },
   "outputs": [],
   "source": [
    "importlib.reload(u)\n",
    "intensity=[0.05073502850735363,\n",
    "0.07887848457848254,\n",
    "0.21389724909266864,\n",
    "0.04426497577679454,\n",
    "0.61222426204470066]\n",
    "\n",
    "u.order_option(intensity)"
   ]
  },
  {
   "cell_type": "code",
   "execution_count": null,
   "metadata": {
    "collapsed": true
   },
   "outputs": [],
   "source": [
    "order_values"
   ]
  },
  {
   "cell_type": "code",
   "execution_count": null,
   "metadata": {
    "collapsed": true
   },
   "outputs": [],
   "source": [
    "np.argsort(order_values)+1"
   ]
  },
  {
   "cell_type": "code",
   "execution_count": null,
   "metadata": {
    "collapsed": true
   },
   "outputs": [],
   "source": []
  },
  {
   "cell_type": "code",
   "execution_count": null,
   "metadata": {
    "collapsed": true
   },
   "outputs": [],
   "source": []
  },
  {
   "cell_type": "code",
   "execution_count": null,
   "metadata": {
    "collapsed": true
   },
   "outputs": [],
   "source": [
    "\n",
    "df=dataframe_results(fs.loc[(fs['scenario']==0) & \n",
    "                            (fs['icao_orig'].str.startswith(orig)) &\n",
    "                            (fs['icao_dest'].str.startswith(dest))],'baseline').append(\n",
    "             dataframe_results(fs.loc[(fs['scenario']==6) & \n",
    "                            (fs['icao_orig'].str.startswith(orig)) &\n",
    "                            (fs['icao_dest'].str.startswith(dest))],'low fuel').append(\n",
    "             dataframe_results(fs.loc[(fs['scenario']==7) & \n",
    "                            (fs['icao_orig'].str.startswith(orig)) &\n",
    "                            (fs['icao_dest'].str.startswith(dest))],'high fuel')))\n",
    "\n",
    "u.plot_results_line(df[['case','buffer min','avg dist nm','avg crco', 'avg time min', 'avg fuel kg',\n",
    "                       'total cost K EUR']],'case',orig+\"_\"+dest)"
   ]
  },
  {
   "cell_type": "markdown",
   "metadata": {},
   "source": [
    " ## MAPS O-D PAIR AND DEMAND BETWEEN ROUTES"
   ]
  },
  {
   "cell_type": "code",
   "execution_count": 8,
   "metadata": {},
   "outputs": [
    {
     "ename": "InterfaceError",
     "evalue": "(mysql.connector.errors.InterfaceError) 2003: Can't connect to MySQL server on '10.20.198.170:3306' (10060 A connection attempt failed because the connected party did not properly respond after a period of time, or established connection failed because connected host has failed to respond)",
     "output_type": "error",
     "traceback": [
      "\u001b[0;31m---------------------------------------------------------------------------\u001b[0m",
      "\u001b[0;31mTimeoutError\u001b[0m                              Traceback (most recent call last)",
      "\u001b[0;32mC:\\Anaconda3\\lib\\site-packages\\mysql\\connector\\network.py\u001b[0m in \u001b[0;36mopen_connection\u001b[0;34m(self)\u001b[0m\n\u001b[1;32m    471\u001b[0m             \u001b[0mself\u001b[0m\u001b[1;33m.\u001b[0m\u001b[0msock\u001b[0m\u001b[1;33m.\u001b[0m\u001b[0msettimeout\u001b[0m\u001b[1;33m(\u001b[0m\u001b[0mself\u001b[0m\u001b[1;33m.\u001b[0m\u001b[0m_connection_timeout\u001b[0m\u001b[1;33m)\u001b[0m\u001b[1;33m\u001b[0m\u001b[0m\n\u001b[0;32m--> 472\u001b[0;31m             \u001b[0mself\u001b[0m\u001b[1;33m.\u001b[0m\u001b[0msock\u001b[0m\u001b[1;33m.\u001b[0m\u001b[0mconnect\u001b[0m\u001b[1;33m(\u001b[0m\u001b[0msockaddr\u001b[0m\u001b[1;33m)\u001b[0m\u001b[1;33m\u001b[0m\u001b[0m\n\u001b[0m\u001b[1;32m    473\u001b[0m         \u001b[1;32mexcept\u001b[0m \u001b[0mIOError\u001b[0m \u001b[1;32mas\u001b[0m \u001b[0merr\u001b[0m\u001b[1;33m:\u001b[0m\u001b[1;33m\u001b[0m\u001b[0m\n",
      "\u001b[0;31mTimeoutError\u001b[0m: [WinError 10060] A connection attempt failed because the connected party did not properly respond after a period of time, or established connection failed because connected host has failed to respond",
      "\nDuring handling of the above exception, another exception occurred:\n",
      "\u001b[0;31mInterfaceError\u001b[0m                            Traceback (most recent call last)",
      "\u001b[0;32mC:\\Anaconda3\\lib\\site-packages\\sqlalchemy\\engine\\base.py\u001b[0m in \u001b[0;36m_wrap_pool_connect\u001b[0;34m(self, fn, connection)\u001b[0m\n\u001b[1;32m   2137\u001b[0m         \u001b[1;32mtry\u001b[0m\u001b[1;33m:\u001b[0m\u001b[1;33m\u001b[0m\u001b[0m\n\u001b[0;32m-> 2138\u001b[0;31m             \u001b[1;32mreturn\u001b[0m \u001b[0mfn\u001b[0m\u001b[1;33m(\u001b[0m\u001b[1;33m)\u001b[0m\u001b[1;33m\u001b[0m\u001b[0m\n\u001b[0m\u001b[1;32m   2139\u001b[0m         \u001b[1;32mexcept\u001b[0m \u001b[0mdialect\u001b[0m\u001b[1;33m.\u001b[0m\u001b[0mdbapi\u001b[0m\u001b[1;33m.\u001b[0m\u001b[0mError\u001b[0m \u001b[1;32mas\u001b[0m \u001b[0me\u001b[0m\u001b[1;33m:\u001b[0m\u001b[1;33m\u001b[0m\u001b[0m\n",
      "\u001b[0;32mC:\\Anaconda3\\lib\\site-packages\\sqlalchemy\\pool.py\u001b[0m in \u001b[0;36mconnect\u001b[0;34m(self)\u001b[0m\n\u001b[1;32m    386\u001b[0m         \u001b[1;32mif\u001b[0m \u001b[1;32mnot\u001b[0m \u001b[0mself\u001b[0m\u001b[1;33m.\u001b[0m\u001b[0m_use_threadlocal\u001b[0m\u001b[1;33m:\u001b[0m\u001b[1;33m\u001b[0m\u001b[0m\n\u001b[0;32m--> 387\u001b[0;31m             \u001b[1;32mreturn\u001b[0m \u001b[0m_ConnectionFairy\u001b[0m\u001b[1;33m.\u001b[0m\u001b[0m_checkout\u001b[0m\u001b[1;33m(\u001b[0m\u001b[0mself\u001b[0m\u001b[1;33m)\u001b[0m\u001b[1;33m\u001b[0m\u001b[0m\n\u001b[0m\u001b[1;32m    388\u001b[0m \u001b[1;33m\u001b[0m\u001b[0m\n",
      "\u001b[0;32mC:\\Anaconda3\\lib\\site-packages\\sqlalchemy\\pool.py\u001b[0m in \u001b[0;36m_checkout\u001b[0;34m(cls, pool, threadconns, fairy)\u001b[0m\n\u001b[1;32m    765\u001b[0m         \u001b[1;32mif\u001b[0m \u001b[1;32mnot\u001b[0m \u001b[0mfairy\u001b[0m\u001b[1;33m:\u001b[0m\u001b[1;33m\u001b[0m\u001b[0m\n\u001b[0;32m--> 766\u001b[0;31m             \u001b[0mfairy\u001b[0m \u001b[1;33m=\u001b[0m \u001b[0m_ConnectionRecord\u001b[0m\u001b[1;33m.\u001b[0m\u001b[0mcheckout\u001b[0m\u001b[1;33m(\u001b[0m\u001b[0mpool\u001b[0m\u001b[1;33m)\u001b[0m\u001b[1;33m\u001b[0m\u001b[0m\n\u001b[0m\u001b[1;32m    767\u001b[0m \u001b[1;33m\u001b[0m\u001b[0m\n",
      "\u001b[0;32mC:\\Anaconda3\\lib\\site-packages\\sqlalchemy\\pool.py\u001b[0m in \u001b[0;36mcheckout\u001b[0;34m(cls, pool)\u001b[0m\n\u001b[1;32m    520\u001b[0m             \u001b[1;32mwith\u001b[0m \u001b[0mutil\u001b[0m\u001b[1;33m.\u001b[0m\u001b[0msafe_reraise\u001b[0m\u001b[1;33m(\u001b[0m\u001b[1;33m)\u001b[0m\u001b[1;33m:\u001b[0m\u001b[1;33m\u001b[0m\u001b[0m\n\u001b[0;32m--> 521\u001b[0;31m                 \u001b[0mrec\u001b[0m\u001b[1;33m.\u001b[0m\u001b[0mcheckin\u001b[0m\u001b[1;33m(\u001b[0m\u001b[1;33m)\u001b[0m\u001b[1;33m\u001b[0m\u001b[0m\n\u001b[0m\u001b[1;32m    522\u001b[0m         \u001b[0mecho\u001b[0m \u001b[1;33m=\u001b[0m \u001b[0mpool\u001b[0m\u001b[1;33m.\u001b[0m\u001b[0m_should_log_debug\u001b[0m\u001b[1;33m(\u001b[0m\u001b[1;33m)\u001b[0m\u001b[1;33m\u001b[0m\u001b[0m\n",
      "\u001b[0;32mC:\\Anaconda3\\lib\\site-packages\\sqlalchemy\\util\\langhelpers.py\u001b[0m in \u001b[0;36m__exit__\u001b[0;34m(self, type_, value, traceback)\u001b[0m\n\u001b[1;32m     59\u001b[0m             \u001b[0mself\u001b[0m\u001b[1;33m.\u001b[0m\u001b[0m_exc_info\u001b[0m \u001b[1;33m=\u001b[0m \u001b[1;32mNone\u001b[0m   \u001b[1;31m# remove potential circular references\u001b[0m\u001b[1;33m\u001b[0m\u001b[0m\n\u001b[0;32m---> 60\u001b[0;31m             \u001b[0mcompat\u001b[0m\u001b[1;33m.\u001b[0m\u001b[0mreraise\u001b[0m\u001b[1;33m(\u001b[0m\u001b[0mexc_type\u001b[0m\u001b[1;33m,\u001b[0m \u001b[0mexc_value\u001b[0m\u001b[1;33m,\u001b[0m \u001b[0mexc_tb\u001b[0m\u001b[1;33m)\u001b[0m\u001b[1;33m\u001b[0m\u001b[0m\n\u001b[0m\u001b[1;32m     61\u001b[0m         \u001b[1;32melse\u001b[0m\u001b[1;33m:\u001b[0m\u001b[1;33m\u001b[0m\u001b[0m\n",
      "\u001b[0;32mC:\\Anaconda3\\lib\\site-packages\\sqlalchemy\\util\\compat.py\u001b[0m in \u001b[0;36mreraise\u001b[0;34m(tp, value, tb, cause)\u001b[0m\n\u001b[1;32m    186\u001b[0m             \u001b[1;32mraise\u001b[0m \u001b[0mvalue\u001b[0m\u001b[1;33m.\u001b[0m\u001b[0mwith_traceback\u001b[0m\u001b[1;33m(\u001b[0m\u001b[0mtb\u001b[0m\u001b[1;33m)\u001b[0m\u001b[1;33m\u001b[0m\u001b[0m\n\u001b[0;32m--> 187\u001b[0;31m         \u001b[1;32mraise\u001b[0m \u001b[0mvalue\u001b[0m\u001b[1;33m\u001b[0m\u001b[0m\n\u001b[0m\u001b[1;32m    188\u001b[0m \u001b[1;33m\u001b[0m\u001b[0m\n",
      "\u001b[0;32mC:\\Anaconda3\\lib\\site-packages\\sqlalchemy\\pool.py\u001b[0m in \u001b[0;36mcheckout\u001b[0;34m(cls, pool)\u001b[0m\n\u001b[1;32m    517\u001b[0m         \u001b[1;32mtry\u001b[0m\u001b[1;33m:\u001b[0m\u001b[1;33m\u001b[0m\u001b[0m\n\u001b[0;32m--> 518\u001b[0;31m             \u001b[0mdbapi_connection\u001b[0m \u001b[1;33m=\u001b[0m \u001b[0mrec\u001b[0m\u001b[1;33m.\u001b[0m\u001b[0mget_connection\u001b[0m\u001b[1;33m(\u001b[0m\u001b[1;33m)\u001b[0m\u001b[1;33m\u001b[0m\u001b[0m\n\u001b[0m\u001b[1;32m    519\u001b[0m         \u001b[1;32mexcept\u001b[0m\u001b[1;33m:\u001b[0m\u001b[1;33m\u001b[0m\u001b[0m\n",
      "\u001b[0;32mC:\\Anaconda3\\lib\\site-packages\\sqlalchemy\\pool.py\u001b[0m in \u001b[0;36mget_connection\u001b[0;34m(self)\u001b[0m\n\u001b[1;32m    606\u001b[0m             \u001b[0mself\u001b[0m\u001b[1;33m.\u001b[0m\u001b[0minfo\u001b[0m\u001b[1;33m.\u001b[0m\u001b[0mclear\u001b[0m\u001b[1;33m(\u001b[0m\u001b[1;33m)\u001b[0m\u001b[1;33m\u001b[0m\u001b[0m\n\u001b[0;32m--> 607\u001b[0;31m             \u001b[0mself\u001b[0m\u001b[1;33m.\u001b[0m\u001b[0m__connect\u001b[0m\u001b[1;33m(\u001b[0m\u001b[1;33m)\u001b[0m\u001b[1;33m\u001b[0m\u001b[0m\n\u001b[0m\u001b[1;32m    608\u001b[0m         \u001b[1;32melif\u001b[0m \u001b[0mself\u001b[0m\u001b[1;33m.\u001b[0m\u001b[0m__pool\u001b[0m\u001b[1;33m.\u001b[0m\u001b[0m_recycle\u001b[0m \u001b[1;33m>\u001b[0m \u001b[1;33m-\u001b[0m\u001b[1;36m1\u001b[0m \u001b[1;32mand\u001b[0m\u001b[0;31m \u001b[0m\u001b[0;31m\\\u001b[0m\u001b[1;33m\u001b[0m\u001b[0m\n",
      "\u001b[0;32mC:\\Anaconda3\\lib\\site-packages\\sqlalchemy\\pool.py\u001b[0m in \u001b[0;36m__connect\u001b[0;34m(self, first_connect_check)\u001b[0m\n\u001b[1;32m    650\u001b[0m             \u001b[0mself\u001b[0m\u001b[1;33m.\u001b[0m\u001b[0mstarttime\u001b[0m \u001b[1;33m=\u001b[0m \u001b[0mtime\u001b[0m\u001b[1;33m.\u001b[0m\u001b[0mtime\u001b[0m\u001b[1;33m(\u001b[0m\u001b[1;33m)\u001b[0m\u001b[1;33m\u001b[0m\u001b[0m\n\u001b[0;32m--> 651\u001b[0;31m             \u001b[0mconnection\u001b[0m \u001b[1;33m=\u001b[0m \u001b[0mpool\u001b[0m\u001b[1;33m.\u001b[0m\u001b[0m_invoke_creator\u001b[0m\u001b[1;33m(\u001b[0m\u001b[0mself\u001b[0m\u001b[1;33m)\u001b[0m\u001b[1;33m\u001b[0m\u001b[0m\n\u001b[0m\u001b[1;32m    652\u001b[0m             \u001b[0mpool\u001b[0m\u001b[1;33m.\u001b[0m\u001b[0mlogger\u001b[0m\u001b[1;33m.\u001b[0m\u001b[0mdebug\u001b[0m\u001b[1;33m(\u001b[0m\u001b[1;34m\"Created new connection %r\"\u001b[0m\u001b[1;33m,\u001b[0m \u001b[0mconnection\u001b[0m\u001b[1;33m)\u001b[0m\u001b[1;33m\u001b[0m\u001b[0m\n",
      "\u001b[0;32mC:\\Anaconda3\\lib\\site-packages\\sqlalchemy\\engine\\strategies.py\u001b[0m in \u001b[0;36mconnect\u001b[0;34m(connection_record)\u001b[0m\n\u001b[1;32m    104\u001b[0m                             \u001b[1;32mreturn\u001b[0m \u001b[0mconnection\u001b[0m\u001b[1;33m\u001b[0m\u001b[0m\n\u001b[0;32m--> 105\u001b[0;31m                 \u001b[1;32mreturn\u001b[0m \u001b[0mdialect\u001b[0m\u001b[1;33m.\u001b[0m\u001b[0mconnect\u001b[0m\u001b[1;33m(\u001b[0m\u001b[1;33m*\u001b[0m\u001b[0mcargs\u001b[0m\u001b[1;33m,\u001b[0m \u001b[1;33m**\u001b[0m\u001b[0mcparams\u001b[0m\u001b[1;33m)\u001b[0m\u001b[1;33m\u001b[0m\u001b[0m\n\u001b[0m\u001b[1;32m    106\u001b[0m \u001b[1;33m\u001b[0m\u001b[0m\n",
      "\u001b[0;32mC:\\Anaconda3\\lib\\site-packages\\sqlalchemy\\engine\\default.py\u001b[0m in \u001b[0;36mconnect\u001b[0;34m(self, *cargs, **cparams)\u001b[0m\n\u001b[1;32m    392\u001b[0m     \u001b[1;32mdef\u001b[0m \u001b[0mconnect\u001b[0m\u001b[1;33m(\u001b[0m\u001b[0mself\u001b[0m\u001b[1;33m,\u001b[0m \u001b[1;33m*\u001b[0m\u001b[0mcargs\u001b[0m\u001b[1;33m,\u001b[0m \u001b[1;33m**\u001b[0m\u001b[0mcparams\u001b[0m\u001b[1;33m)\u001b[0m\u001b[1;33m:\u001b[0m\u001b[1;33m\u001b[0m\u001b[0m\n\u001b[0;32m--> 393\u001b[0;31m         \u001b[1;32mreturn\u001b[0m \u001b[0mself\u001b[0m\u001b[1;33m.\u001b[0m\u001b[0mdbapi\u001b[0m\u001b[1;33m.\u001b[0m\u001b[0mconnect\u001b[0m\u001b[1;33m(\u001b[0m\u001b[1;33m*\u001b[0m\u001b[0mcargs\u001b[0m\u001b[1;33m,\u001b[0m \u001b[1;33m**\u001b[0m\u001b[0mcparams\u001b[0m\u001b[1;33m)\u001b[0m\u001b[1;33m\u001b[0m\u001b[0m\n\u001b[0m\u001b[1;32m    394\u001b[0m \u001b[1;33m\u001b[0m\u001b[0m\n",
      "\u001b[0;32mC:\\Anaconda3\\lib\\site-packages\\mysql\\connector\\__init__.py\u001b[0m in \u001b[0;36mconnect\u001b[0;34m(*args, **kwargs)\u001b[0m\n\u001b[1;32m    161\u001b[0m     \u001b[1;31m# Regular connection\u001b[0m\u001b[1;33m\u001b[0m\u001b[1;33m\u001b[0m\u001b[0m\n\u001b[0;32m--> 162\u001b[0;31m     \u001b[1;32mreturn\u001b[0m \u001b[0mMySQLConnection\u001b[0m\u001b[1;33m(\u001b[0m\u001b[1;33m*\u001b[0m\u001b[0margs\u001b[0m\u001b[1;33m,\u001b[0m \u001b[1;33m**\u001b[0m\u001b[0mkwargs\u001b[0m\u001b[1;33m)\u001b[0m\u001b[1;33m\u001b[0m\u001b[0m\n\u001b[0m\u001b[1;32m    163\u001b[0m \u001b[0mConnect\u001b[0m \u001b[1;33m=\u001b[0m \u001b[0mconnect\u001b[0m  \u001b[1;31m# pylint: disable=C0103\u001b[0m\u001b[1;33m\u001b[0m\u001b[0m\n",
      "\u001b[0;32mC:\\Anaconda3\\lib\\site-packages\\mysql\\connector\\connection.py\u001b[0m in \u001b[0;36m__init__\u001b[0;34m(self, *args, **kwargs)\u001b[0m\n\u001b[1;32m    128\u001b[0m         \u001b[1;32mif\u001b[0m \u001b[0mlen\u001b[0m\u001b[1;33m(\u001b[0m\u001b[0mkwargs\u001b[0m\u001b[1;33m)\u001b[0m \u001b[1;33m>\u001b[0m \u001b[1;36m0\u001b[0m\u001b[1;33m:\u001b[0m\u001b[1;33m\u001b[0m\u001b[0m\n\u001b[0;32m--> 129\u001b[0;31m             \u001b[0mself\u001b[0m\u001b[1;33m.\u001b[0m\u001b[0mconnect\u001b[0m\u001b[1;33m(\u001b[0m\u001b[1;33m**\u001b[0m\u001b[0mkwargs\u001b[0m\u001b[1;33m)\u001b[0m\u001b[1;33m\u001b[0m\u001b[0m\n\u001b[0m\u001b[1;32m    130\u001b[0m \u001b[1;33m\u001b[0m\u001b[0m\n",
      "\u001b[0;32mC:\\Anaconda3\\lib\\site-packages\\mysql\\connector\\connection.py\u001b[0m in \u001b[0;36mconnect\u001b[0;34m(self, **kwargs)\u001b[0m\n\u001b[1;32m    453\u001b[0m         \u001b[0mself\u001b[0m\u001b[1;33m.\u001b[0m\u001b[0mdisconnect\u001b[0m\u001b[1;33m(\u001b[0m\u001b[1;33m)\u001b[0m\u001b[1;33m\u001b[0m\u001b[0m\n\u001b[0;32m--> 454\u001b[0;31m         \u001b[0mself\u001b[0m\u001b[1;33m.\u001b[0m\u001b[0m_open_connection\u001b[0m\u001b[1;33m(\u001b[0m\u001b[1;33m)\u001b[0m\u001b[1;33m\u001b[0m\u001b[0m\n\u001b[0m\u001b[1;32m    455\u001b[0m         \u001b[0mself\u001b[0m\u001b[1;33m.\u001b[0m\u001b[0m_post_connection\u001b[0m\u001b[1;33m(\u001b[0m\u001b[1;33m)\u001b[0m\u001b[1;33m\u001b[0m\u001b[0m\n",
      "\u001b[0;32mC:\\Anaconda3\\lib\\site-packages\\mysql\\connector\\connection.py\u001b[0m in \u001b[0;36m_open_connection\u001b[0;34m(self)\u001b[0m\n\u001b[1;32m    416\u001b[0m         \u001b[0mself\u001b[0m\u001b[1;33m.\u001b[0m\u001b[0m_socket\u001b[0m \u001b[1;33m=\u001b[0m \u001b[0mself\u001b[0m\u001b[1;33m.\u001b[0m\u001b[0m_get_connection\u001b[0m\u001b[1;33m(\u001b[0m\u001b[1;33m)\u001b[0m\u001b[1;33m\u001b[0m\u001b[0m\n\u001b[0;32m--> 417\u001b[0;31m         \u001b[0mself\u001b[0m\u001b[1;33m.\u001b[0m\u001b[0m_socket\u001b[0m\u001b[1;33m.\u001b[0m\u001b[0mopen_connection\u001b[0m\u001b[1;33m(\u001b[0m\u001b[1;33m)\u001b[0m\u001b[1;33m\u001b[0m\u001b[0m\n\u001b[0m\u001b[1;32m    418\u001b[0m         \u001b[0mself\u001b[0m\u001b[1;33m.\u001b[0m\u001b[0m_do_handshake\u001b[0m\u001b[1;33m(\u001b[0m\u001b[1;33m)\u001b[0m\u001b[1;33m\u001b[0m\u001b[0m\n",
      "\u001b[0;32mC:\\Anaconda3\\lib\\site-packages\\mysql\\connector\\network.py\u001b[0m in \u001b[0;36mopen_connection\u001b[0;34m(self)\u001b[0m\n\u001b[1;32m    474\u001b[0m             raise errors.InterfaceError(\n\u001b[0;32m--> 475\u001b[0;31m                 errno=2003, values=(self.get_address(), _strioerror(err)))\n\u001b[0m\u001b[1;32m    476\u001b[0m         \u001b[1;32mexcept\u001b[0m \u001b[0mException\u001b[0m \u001b[1;32mas\u001b[0m \u001b[0merr\u001b[0m\u001b[1;33m:\u001b[0m\u001b[1;33m\u001b[0m\u001b[0m\n",
      "\u001b[0;31mInterfaceError\u001b[0m: 2003: Can't connect to MySQL server on '10.20.198.170:3306' (10060 A connection attempt failed because the connected party did not properly respond after a period of time, or established connection failed because connected host has failed to respond)",
      "\nThe above exception was the direct cause of the following exception:\n",
      "\u001b[0;31mInterfaceError\u001b[0m                            Traceback (most recent call last)",
      "\u001b[0;32m<ipython-input-8-b099f7bf743c>\u001b[0m in \u001b[0;36m<module>\u001b[0;34m()\u001b[0m\n\u001b[1;32m      3\u001b[0m \u001b[0micao_dest\u001b[0m\u001b[1;33m=\u001b[0m\u001b[1;34m\"GCTS\"\u001b[0m\u001b[1;33m\u001b[0m\u001b[0m\n\u001b[1;32m      4\u001b[0m \u001b[1;33m\u001b[0m\u001b[0m\n\u001b[0;32m----> 5\u001b[0;31m \u001b[0md_coords_route_pool\u001b[0m \u001b[1;33m=\u001b[0m \u001b[0mmysql_vista\u001b[0m\u001b[1;33m.\u001b[0m\u001b[0mread_coord_trajectory_route\u001b[0m\u001b[1;33m(\u001b[0m\u001b[0micao_orig\u001b[0m\u001b[1;33m,\u001b[0m\u001b[0micao_dest\u001b[0m\u001b[1;33m)\u001b[0m\u001b[1;33m\u001b[0m\u001b[0m\n\u001b[0m\u001b[1;32m      6\u001b[0m \u001b[1;33m\u001b[0m\u001b[0m\n\u001b[1;32m      7\u001b[0m \u001b[0munique_id\u001b[0m \u001b[1;33m=\u001b[0m \u001b[0md_coords_route_pool\u001b[0m\u001b[1;33m[\u001b[0m\u001b[1;34m'id'\u001b[0m\u001b[1;33m]\u001b[0m\u001b[1;33m.\u001b[0m\u001b[0mdrop_duplicates\u001b[0m\u001b[1;33m(\u001b[0m\u001b[1;33m)\u001b[0m\u001b[1;33m\u001b[0m\u001b[0m\n",
      "\u001b[0;32mC:\\Users\\luis\\Google Drive\\Github\\vista-simulator\\libs\\mysql_database.py\u001b[0m in \u001b[0;36mread_coord_trajectory_route\u001b[0;34m(self, icao_orig, icao_dest, table_pool, table_airspace)\u001b[0m\n\u001b[1;32m   3208\u001b[0m             \u001b[0morder\u001b[0m \u001b[0mby\u001b[0m \u001b[0mcoords\u001b[0m\u001b[1;33m.\u001b[0m\u001b[0mid\u001b[0m\u001b[1;33m,\u001b[0m \u001b[0mcoords\u001b[0m\u001b[1;33m.\u001b[0m\u001b[0mdistance\u001b[0m \u001b[0mASC\u001b[0m\u001b[0;31m\"\u001b[0m\u001b[1;33m\u001b[0m\u001b[0m\n\u001b[1;32m   3209\u001b[0m \u001b[1;33m\u001b[0m\u001b[0m\n\u001b[0;32m-> 3210\u001b[0;31m         \u001b[0md_coords\u001b[0m \u001b[1;33m=\u001b[0m \u001b[0mpd\u001b[0m\u001b[1;33m.\u001b[0m\u001b[0mread_sql\u001b[0m\u001b[1;33m(\u001b[0m\u001b[0msql\u001b[0m\u001b[1;33m,\u001b[0m\u001b[0mself\u001b[0m\u001b[1;33m.\u001b[0m\u001b[0mengine\u001b[0m\u001b[1;33m)\u001b[0m\u001b[1;33m\u001b[0m\u001b[0m\n\u001b[0m\u001b[1;32m   3211\u001b[0m \u001b[1;33m\u001b[0m\u001b[0m\n\u001b[1;32m   3212\u001b[0m         \u001b[0md_coords\u001b[0m \u001b[1;33m=\u001b[0m \u001b[0md_coords\u001b[0m\u001b[1;33m.\u001b[0m\u001b[0mdrop_duplicates\u001b[0m\u001b[1;33m(\u001b[0m\u001b[1;33m)\u001b[0m\u001b[1;33m\u001b[0m\u001b[0m\n",
      "\u001b[0;32mC:\\Anaconda3\\lib\\site-packages\\pandas\\io\\sql.py\u001b[0m in \u001b[0;36mread_sql\u001b[0;34m(sql, con, index_col, coerce_float, params, parse_dates, columns, chunksize)\u001b[0m\n\u001b[1;32m    414\u001b[0m             \u001b[0msql\u001b[0m\u001b[1;33m,\u001b[0m \u001b[0mindex_col\u001b[0m\u001b[1;33m=\u001b[0m\u001b[0mindex_col\u001b[0m\u001b[1;33m,\u001b[0m \u001b[0mparams\u001b[0m\u001b[1;33m=\u001b[0m\u001b[0mparams\u001b[0m\u001b[1;33m,\u001b[0m\u001b[1;33m\u001b[0m\u001b[0m\n\u001b[1;32m    415\u001b[0m             \u001b[0mcoerce_float\u001b[0m\u001b[1;33m=\u001b[0m\u001b[0mcoerce_float\u001b[0m\u001b[1;33m,\u001b[0m \u001b[0mparse_dates\u001b[0m\u001b[1;33m=\u001b[0m\u001b[0mparse_dates\u001b[0m\u001b[1;33m,\u001b[0m\u001b[1;33m\u001b[0m\u001b[0m\n\u001b[0;32m--> 416\u001b[0;31m             chunksize=chunksize)\n\u001b[0m\u001b[1;32m    417\u001b[0m \u001b[1;33m\u001b[0m\u001b[0m\n\u001b[1;32m    418\u001b[0m \u001b[1;33m\u001b[0m\u001b[0m\n",
      "\u001b[0;32mC:\\Anaconda3\\lib\\site-packages\\pandas\\io\\sql.py\u001b[0m in \u001b[0;36mread_query\u001b[0;34m(self, sql, index_col, coerce_float, parse_dates, params, chunksize)\u001b[0m\n\u001b[1;32m   1085\u001b[0m         \u001b[0margs\u001b[0m \u001b[1;33m=\u001b[0m \u001b[0m_convert_params\u001b[0m\u001b[1;33m(\u001b[0m\u001b[0msql\u001b[0m\u001b[1;33m,\u001b[0m \u001b[0mparams\u001b[0m\u001b[1;33m)\u001b[0m\u001b[1;33m\u001b[0m\u001b[0m\n\u001b[1;32m   1086\u001b[0m \u001b[1;33m\u001b[0m\u001b[0m\n\u001b[0;32m-> 1087\u001b[0;31m         \u001b[0mresult\u001b[0m \u001b[1;33m=\u001b[0m \u001b[0mself\u001b[0m\u001b[1;33m.\u001b[0m\u001b[0mexecute\u001b[0m\u001b[1;33m(\u001b[0m\u001b[1;33m*\u001b[0m\u001b[0margs\u001b[0m\u001b[1;33m)\u001b[0m\u001b[1;33m\u001b[0m\u001b[0m\n\u001b[0m\u001b[1;32m   1088\u001b[0m         \u001b[0mcolumns\u001b[0m \u001b[1;33m=\u001b[0m \u001b[0mresult\u001b[0m\u001b[1;33m.\u001b[0m\u001b[0mkeys\u001b[0m\u001b[1;33m(\u001b[0m\u001b[1;33m)\u001b[0m\u001b[1;33m\u001b[0m\u001b[0m\n\u001b[1;32m   1089\u001b[0m \u001b[1;33m\u001b[0m\u001b[0m\n",
      "\u001b[0;32mC:\\Anaconda3\\lib\\site-packages\\pandas\\io\\sql.py\u001b[0m in \u001b[0;36mexecute\u001b[0;34m(self, *args, **kwargs)\u001b[0m\n\u001b[1;32m    976\u001b[0m     \u001b[1;32mdef\u001b[0m \u001b[0mexecute\u001b[0m\u001b[1;33m(\u001b[0m\u001b[0mself\u001b[0m\u001b[1;33m,\u001b[0m \u001b[1;33m*\u001b[0m\u001b[0margs\u001b[0m\u001b[1;33m,\u001b[0m \u001b[1;33m**\u001b[0m\u001b[0mkwargs\u001b[0m\u001b[1;33m)\u001b[0m\u001b[1;33m:\u001b[0m\u001b[1;33m\u001b[0m\u001b[0m\n\u001b[1;32m    977\u001b[0m         \u001b[1;34m\"\"\"Simple passthrough to SQLAlchemy connectable\"\"\"\u001b[0m\u001b[1;33m\u001b[0m\u001b[0m\n\u001b[0;32m--> 978\u001b[0;31m         \u001b[1;32mreturn\u001b[0m \u001b[0mself\u001b[0m\u001b[1;33m.\u001b[0m\u001b[0mconnectable\u001b[0m\u001b[1;33m.\u001b[0m\u001b[0mexecute\u001b[0m\u001b[1;33m(\u001b[0m\u001b[1;33m*\u001b[0m\u001b[0margs\u001b[0m\u001b[1;33m,\u001b[0m \u001b[1;33m**\u001b[0m\u001b[0mkwargs\u001b[0m\u001b[1;33m)\u001b[0m\u001b[1;33m\u001b[0m\u001b[0m\n\u001b[0m\u001b[1;32m    979\u001b[0m \u001b[1;33m\u001b[0m\u001b[0m\n\u001b[1;32m    980\u001b[0m     def read_table(self, table_name, index_col=None, coerce_float=True,\n",
      "\u001b[0;32mC:\\Anaconda3\\lib\\site-packages\\sqlalchemy\\engine\\base.py\u001b[0m in \u001b[0;36mexecute\u001b[0;34m(self, statement, *multiparams, **params)\u001b[0m\n\u001b[1;32m   2052\u001b[0m         \"\"\"\n\u001b[1;32m   2053\u001b[0m \u001b[1;33m\u001b[0m\u001b[0m\n\u001b[0;32m-> 2054\u001b[0;31m         \u001b[0mconnection\u001b[0m \u001b[1;33m=\u001b[0m \u001b[0mself\u001b[0m\u001b[1;33m.\u001b[0m\u001b[0mcontextual_connect\u001b[0m\u001b[1;33m(\u001b[0m\u001b[0mclose_with_result\u001b[0m\u001b[1;33m=\u001b[0m\u001b[1;32mTrue\u001b[0m\u001b[1;33m)\u001b[0m\u001b[1;33m\u001b[0m\u001b[0m\n\u001b[0m\u001b[1;32m   2055\u001b[0m         \u001b[1;32mreturn\u001b[0m \u001b[0mconnection\u001b[0m\u001b[1;33m.\u001b[0m\u001b[0mexecute\u001b[0m\u001b[1;33m(\u001b[0m\u001b[0mstatement\u001b[0m\u001b[1;33m,\u001b[0m \u001b[1;33m*\u001b[0m\u001b[0mmultiparams\u001b[0m\u001b[1;33m,\u001b[0m \u001b[1;33m**\u001b[0m\u001b[0mparams\u001b[0m\u001b[1;33m)\u001b[0m\u001b[1;33m\u001b[0m\u001b[0m\n\u001b[1;32m   2056\u001b[0m \u001b[1;33m\u001b[0m\u001b[0m\n",
      "\u001b[0;32mC:\\Anaconda3\\lib\\site-packages\\sqlalchemy\\engine\\base.py\u001b[0m in \u001b[0;36mcontextual_connect\u001b[0;34m(self, close_with_result, **kwargs)\u001b[0m\n\u001b[1;32m   2101\u001b[0m         return self._connection_cls(\n\u001b[1;32m   2102\u001b[0m             \u001b[0mself\u001b[0m\u001b[1;33m,\u001b[0m\u001b[1;33m\u001b[0m\u001b[0m\n\u001b[0;32m-> 2103\u001b[0;31m             \u001b[0mself\u001b[0m\u001b[1;33m.\u001b[0m\u001b[0m_wrap_pool_connect\u001b[0m\u001b[1;33m(\u001b[0m\u001b[0mself\u001b[0m\u001b[1;33m.\u001b[0m\u001b[0mpool\u001b[0m\u001b[1;33m.\u001b[0m\u001b[0mconnect\u001b[0m\u001b[1;33m,\u001b[0m \u001b[1;32mNone\u001b[0m\u001b[1;33m)\u001b[0m\u001b[1;33m,\u001b[0m\u001b[1;33m\u001b[0m\u001b[0m\n\u001b[0m\u001b[1;32m   2104\u001b[0m             \u001b[0mclose_with_result\u001b[0m\u001b[1;33m=\u001b[0m\u001b[0mclose_with_result\u001b[0m\u001b[1;33m,\u001b[0m\u001b[1;33m\u001b[0m\u001b[0m\n\u001b[1;32m   2105\u001b[0m             **kwargs)\n",
      "\u001b[0;32mC:\\Anaconda3\\lib\\site-packages\\sqlalchemy\\engine\\base.py\u001b[0m in \u001b[0;36m_wrap_pool_connect\u001b[0;34m(self, fn, connection)\u001b[0m\n\u001b[1;32m   2140\u001b[0m             \u001b[1;32mif\u001b[0m \u001b[0mconnection\u001b[0m \u001b[1;32mis\u001b[0m \u001b[1;32mNone\u001b[0m\u001b[1;33m:\u001b[0m\u001b[1;33m\u001b[0m\u001b[0m\n\u001b[1;32m   2141\u001b[0m                 Connection._handle_dbapi_exception_noconnection(\n\u001b[0;32m-> 2142\u001b[0;31m                     e, dialect, self)\n\u001b[0m\u001b[1;32m   2143\u001b[0m             \u001b[1;32melse\u001b[0m\u001b[1;33m:\u001b[0m\u001b[1;33m\u001b[0m\u001b[0m\n\u001b[1;32m   2144\u001b[0m                 \u001b[0mutil\u001b[0m\u001b[1;33m.\u001b[0m\u001b[0mreraise\u001b[0m\u001b[1;33m(\u001b[0m\u001b[1;33m*\u001b[0m\u001b[0msys\u001b[0m\u001b[1;33m.\u001b[0m\u001b[0mexc_info\u001b[0m\u001b[1;33m(\u001b[0m\u001b[1;33m)\u001b[0m\u001b[1;33m)\u001b[0m\u001b[1;33m\u001b[0m\u001b[0m\n",
      "\u001b[0;32mC:\\Anaconda3\\lib\\site-packages\\sqlalchemy\\engine\\base.py\u001b[0m in \u001b[0;36m_handle_dbapi_exception_noconnection\u001b[0;34m(cls, e, dialect, engine)\u001b[0m\n\u001b[1;32m   1454\u001b[0m             util.raise_from_cause(\n\u001b[1;32m   1455\u001b[0m                 \u001b[0msqlalchemy_exception\u001b[0m\u001b[1;33m,\u001b[0m\u001b[1;33m\u001b[0m\u001b[0m\n\u001b[0;32m-> 1456\u001b[0;31m                 \u001b[0mexc_info\u001b[0m\u001b[1;33m\u001b[0m\u001b[0m\n\u001b[0m\u001b[1;32m   1457\u001b[0m             )\n\u001b[1;32m   1458\u001b[0m         \u001b[1;32melse\u001b[0m\u001b[1;33m:\u001b[0m\u001b[1;33m\u001b[0m\u001b[0m\n",
      "\u001b[0;32mC:\\Anaconda3\\lib\\site-packages\\sqlalchemy\\util\\compat.py\u001b[0m in \u001b[0;36mraise_from_cause\u001b[0;34m(exception, exc_info)\u001b[0m\n\u001b[1;32m    201\u001b[0m     \u001b[0mexc_type\u001b[0m\u001b[1;33m,\u001b[0m \u001b[0mexc_value\u001b[0m\u001b[1;33m,\u001b[0m \u001b[0mexc_tb\u001b[0m \u001b[1;33m=\u001b[0m \u001b[0mexc_info\u001b[0m\u001b[1;33m\u001b[0m\u001b[0m\n\u001b[1;32m    202\u001b[0m     \u001b[0mcause\u001b[0m \u001b[1;33m=\u001b[0m \u001b[0mexc_value\u001b[0m \u001b[1;32mif\u001b[0m \u001b[0mexc_value\u001b[0m \u001b[1;32mis\u001b[0m \u001b[1;32mnot\u001b[0m \u001b[0mexception\u001b[0m \u001b[1;32melse\u001b[0m \u001b[1;32mNone\u001b[0m\u001b[1;33m\u001b[0m\u001b[0m\n\u001b[0;32m--> 203\u001b[0;31m     \u001b[0mreraise\u001b[0m\u001b[1;33m(\u001b[0m\u001b[0mtype\u001b[0m\u001b[1;33m(\u001b[0m\u001b[0mexception\u001b[0m\u001b[1;33m)\u001b[0m\u001b[1;33m,\u001b[0m \u001b[0mexception\u001b[0m\u001b[1;33m,\u001b[0m \u001b[0mtb\u001b[0m\u001b[1;33m=\u001b[0m\u001b[0mexc_tb\u001b[0m\u001b[1;33m,\u001b[0m \u001b[0mcause\u001b[0m\u001b[1;33m=\u001b[0m\u001b[0mcause\u001b[0m\u001b[1;33m)\u001b[0m\u001b[1;33m\u001b[0m\u001b[0m\n\u001b[0m\u001b[1;32m    204\u001b[0m \u001b[1;33m\u001b[0m\u001b[0m\n\u001b[1;32m    205\u001b[0m \u001b[1;32mif\u001b[0m \u001b[0mpy3k\u001b[0m\u001b[1;33m:\u001b[0m\u001b[1;33m\u001b[0m\u001b[0m\n",
      "\u001b[0;32mC:\\Anaconda3\\lib\\site-packages\\sqlalchemy\\util\\compat.py\u001b[0m in \u001b[0;36mreraise\u001b[0;34m(tp, value, tb, cause)\u001b[0m\n\u001b[1;32m    184\u001b[0m             \u001b[0mvalue\u001b[0m\u001b[1;33m.\u001b[0m\u001b[0m__cause__\u001b[0m \u001b[1;33m=\u001b[0m \u001b[0mcause\u001b[0m\u001b[1;33m\u001b[0m\u001b[0m\n\u001b[1;32m    185\u001b[0m         \u001b[1;32mif\u001b[0m \u001b[0mvalue\u001b[0m\u001b[1;33m.\u001b[0m\u001b[0m__traceback__\u001b[0m \u001b[1;32mis\u001b[0m \u001b[1;32mnot\u001b[0m \u001b[0mtb\u001b[0m\u001b[1;33m:\u001b[0m\u001b[1;33m\u001b[0m\u001b[0m\n\u001b[0;32m--> 186\u001b[0;31m             \u001b[1;32mraise\u001b[0m \u001b[0mvalue\u001b[0m\u001b[1;33m.\u001b[0m\u001b[0mwith_traceback\u001b[0m\u001b[1;33m(\u001b[0m\u001b[0mtb\u001b[0m\u001b[1;33m)\u001b[0m\u001b[1;33m\u001b[0m\u001b[0m\n\u001b[0m\u001b[1;32m    187\u001b[0m         \u001b[1;32mraise\u001b[0m \u001b[0mvalue\u001b[0m\u001b[1;33m\u001b[0m\u001b[0m\n\u001b[1;32m    188\u001b[0m \u001b[1;33m\u001b[0m\u001b[0m\n",
      "\u001b[0;32mC:\\Anaconda3\\lib\\site-packages\\sqlalchemy\\engine\\base.py\u001b[0m in \u001b[0;36m_wrap_pool_connect\u001b[0;34m(self, fn, connection)\u001b[0m\n\u001b[1;32m   2136\u001b[0m         \u001b[0mdialect\u001b[0m \u001b[1;33m=\u001b[0m \u001b[0mself\u001b[0m\u001b[1;33m.\u001b[0m\u001b[0mdialect\u001b[0m\u001b[1;33m\u001b[0m\u001b[0m\n\u001b[1;32m   2137\u001b[0m         \u001b[1;32mtry\u001b[0m\u001b[1;33m:\u001b[0m\u001b[1;33m\u001b[0m\u001b[0m\n\u001b[0;32m-> 2138\u001b[0;31m             \u001b[1;32mreturn\u001b[0m \u001b[0mfn\u001b[0m\u001b[1;33m(\u001b[0m\u001b[1;33m)\u001b[0m\u001b[1;33m\u001b[0m\u001b[0m\n\u001b[0m\u001b[1;32m   2139\u001b[0m         \u001b[1;32mexcept\u001b[0m \u001b[0mdialect\u001b[0m\u001b[1;33m.\u001b[0m\u001b[0mdbapi\u001b[0m\u001b[1;33m.\u001b[0m\u001b[0mError\u001b[0m \u001b[1;32mas\u001b[0m \u001b[0me\u001b[0m\u001b[1;33m:\u001b[0m\u001b[1;33m\u001b[0m\u001b[0m\n\u001b[1;32m   2140\u001b[0m             \u001b[1;32mif\u001b[0m \u001b[0mconnection\u001b[0m \u001b[1;32mis\u001b[0m \u001b[1;32mNone\u001b[0m\u001b[1;33m:\u001b[0m\u001b[1;33m\u001b[0m\u001b[0m\n",
      "\u001b[0;32mC:\\Anaconda3\\lib\\site-packages\\sqlalchemy\\pool.py\u001b[0m in \u001b[0;36mconnect\u001b[0;34m(self)\u001b[0m\n\u001b[1;32m    385\u001b[0m         \"\"\"\n\u001b[1;32m    386\u001b[0m         \u001b[1;32mif\u001b[0m \u001b[1;32mnot\u001b[0m \u001b[0mself\u001b[0m\u001b[1;33m.\u001b[0m\u001b[0m_use_threadlocal\u001b[0m\u001b[1;33m:\u001b[0m\u001b[1;33m\u001b[0m\u001b[0m\n\u001b[0;32m--> 387\u001b[0;31m             \u001b[1;32mreturn\u001b[0m \u001b[0m_ConnectionFairy\u001b[0m\u001b[1;33m.\u001b[0m\u001b[0m_checkout\u001b[0m\u001b[1;33m(\u001b[0m\u001b[0mself\u001b[0m\u001b[1;33m)\u001b[0m\u001b[1;33m\u001b[0m\u001b[0m\n\u001b[0m\u001b[1;32m    388\u001b[0m \u001b[1;33m\u001b[0m\u001b[0m\n\u001b[1;32m    389\u001b[0m         \u001b[1;32mtry\u001b[0m\u001b[1;33m:\u001b[0m\u001b[1;33m\u001b[0m\u001b[0m\n",
      "\u001b[0;32mC:\\Anaconda3\\lib\\site-packages\\sqlalchemy\\pool.py\u001b[0m in \u001b[0;36m_checkout\u001b[0;34m(cls, pool, threadconns, fairy)\u001b[0m\n\u001b[1;32m    764\u001b[0m     \u001b[1;32mdef\u001b[0m \u001b[0m_checkout\u001b[0m\u001b[1;33m(\u001b[0m\u001b[0mcls\u001b[0m\u001b[1;33m,\u001b[0m \u001b[0mpool\u001b[0m\u001b[1;33m,\u001b[0m \u001b[0mthreadconns\u001b[0m\u001b[1;33m=\u001b[0m\u001b[1;32mNone\u001b[0m\u001b[1;33m,\u001b[0m \u001b[0mfairy\u001b[0m\u001b[1;33m=\u001b[0m\u001b[1;32mNone\u001b[0m\u001b[1;33m)\u001b[0m\u001b[1;33m:\u001b[0m\u001b[1;33m\u001b[0m\u001b[0m\n\u001b[1;32m    765\u001b[0m         \u001b[1;32mif\u001b[0m \u001b[1;32mnot\u001b[0m \u001b[0mfairy\u001b[0m\u001b[1;33m:\u001b[0m\u001b[1;33m\u001b[0m\u001b[0m\n\u001b[0;32m--> 766\u001b[0;31m             \u001b[0mfairy\u001b[0m \u001b[1;33m=\u001b[0m \u001b[0m_ConnectionRecord\u001b[0m\u001b[1;33m.\u001b[0m\u001b[0mcheckout\u001b[0m\u001b[1;33m(\u001b[0m\u001b[0mpool\u001b[0m\u001b[1;33m)\u001b[0m\u001b[1;33m\u001b[0m\u001b[0m\n\u001b[0m\u001b[1;32m    767\u001b[0m \u001b[1;33m\u001b[0m\u001b[0m\n\u001b[1;32m    768\u001b[0m             \u001b[0mfairy\u001b[0m\u001b[1;33m.\u001b[0m\u001b[0m_pool\u001b[0m \u001b[1;33m=\u001b[0m \u001b[0mpool\u001b[0m\u001b[1;33m\u001b[0m\u001b[0m\n",
      "\u001b[0;32mC:\\Anaconda3\\lib\\site-packages\\sqlalchemy\\pool.py\u001b[0m in \u001b[0;36mcheckout\u001b[0;34m(cls, pool)\u001b[0m\n\u001b[1;32m    519\u001b[0m         \u001b[1;32mexcept\u001b[0m\u001b[1;33m:\u001b[0m\u001b[1;33m\u001b[0m\u001b[0m\n\u001b[1;32m    520\u001b[0m             \u001b[1;32mwith\u001b[0m \u001b[0mutil\u001b[0m\u001b[1;33m.\u001b[0m\u001b[0msafe_reraise\u001b[0m\u001b[1;33m(\u001b[0m\u001b[1;33m)\u001b[0m\u001b[1;33m:\u001b[0m\u001b[1;33m\u001b[0m\u001b[0m\n\u001b[0;32m--> 521\u001b[0;31m                 \u001b[0mrec\u001b[0m\u001b[1;33m.\u001b[0m\u001b[0mcheckin\u001b[0m\u001b[1;33m(\u001b[0m\u001b[1;33m)\u001b[0m\u001b[1;33m\u001b[0m\u001b[0m\n\u001b[0m\u001b[1;32m    522\u001b[0m         \u001b[0mecho\u001b[0m \u001b[1;33m=\u001b[0m \u001b[0mpool\u001b[0m\u001b[1;33m.\u001b[0m\u001b[0m_should_log_debug\u001b[0m\u001b[1;33m(\u001b[0m\u001b[1;33m)\u001b[0m\u001b[1;33m\u001b[0m\u001b[0m\n\u001b[1;32m    523\u001b[0m         \u001b[0mfairy\u001b[0m \u001b[1;33m=\u001b[0m \u001b[0m_ConnectionFairy\u001b[0m\u001b[1;33m(\u001b[0m\u001b[0mdbapi_connection\u001b[0m\u001b[1;33m,\u001b[0m \u001b[0mrec\u001b[0m\u001b[1;33m,\u001b[0m \u001b[0mecho\u001b[0m\u001b[1;33m)\u001b[0m\u001b[1;33m\u001b[0m\u001b[0m\n",
      "\u001b[0;32mC:\\Anaconda3\\lib\\site-packages\\sqlalchemy\\util\\langhelpers.py\u001b[0m in \u001b[0;36m__exit__\u001b[0;34m(self, type_, value, traceback)\u001b[0m\n\u001b[1;32m     58\u001b[0m             \u001b[0mexc_type\u001b[0m\u001b[1;33m,\u001b[0m \u001b[0mexc_value\u001b[0m\u001b[1;33m,\u001b[0m \u001b[0mexc_tb\u001b[0m \u001b[1;33m=\u001b[0m \u001b[0mself\u001b[0m\u001b[1;33m.\u001b[0m\u001b[0m_exc_info\u001b[0m\u001b[1;33m\u001b[0m\u001b[0m\n\u001b[1;32m     59\u001b[0m             \u001b[0mself\u001b[0m\u001b[1;33m.\u001b[0m\u001b[0m_exc_info\u001b[0m \u001b[1;33m=\u001b[0m \u001b[1;32mNone\u001b[0m   \u001b[1;31m# remove potential circular references\u001b[0m\u001b[1;33m\u001b[0m\u001b[0m\n\u001b[0;32m---> 60\u001b[0;31m             \u001b[0mcompat\u001b[0m\u001b[1;33m.\u001b[0m\u001b[0mreraise\u001b[0m\u001b[1;33m(\u001b[0m\u001b[0mexc_type\u001b[0m\u001b[1;33m,\u001b[0m \u001b[0mexc_value\u001b[0m\u001b[1;33m,\u001b[0m \u001b[0mexc_tb\u001b[0m\u001b[1;33m)\u001b[0m\u001b[1;33m\u001b[0m\u001b[0m\n\u001b[0m\u001b[1;32m     61\u001b[0m         \u001b[1;32melse\u001b[0m\u001b[1;33m:\u001b[0m\u001b[1;33m\u001b[0m\u001b[0m\n\u001b[1;32m     62\u001b[0m             \u001b[1;32mif\u001b[0m \u001b[1;32mnot\u001b[0m \u001b[0mcompat\u001b[0m\u001b[1;33m.\u001b[0m\u001b[0mpy3k\u001b[0m \u001b[1;32mand\u001b[0m \u001b[0mself\u001b[0m\u001b[1;33m.\u001b[0m\u001b[0m_exc_info\u001b[0m \u001b[1;32mand\u001b[0m \u001b[0mself\u001b[0m\u001b[1;33m.\u001b[0m\u001b[0m_exc_info\u001b[0m\u001b[1;33m[\u001b[0m\u001b[1;36m1\u001b[0m\u001b[1;33m]\u001b[0m\u001b[1;33m:\u001b[0m\u001b[1;33m\u001b[0m\u001b[0m\n",
      "\u001b[0;32mC:\\Anaconda3\\lib\\site-packages\\sqlalchemy\\util\\compat.py\u001b[0m in \u001b[0;36mreraise\u001b[0;34m(tp, value, tb, cause)\u001b[0m\n\u001b[1;32m    185\u001b[0m         \u001b[1;32mif\u001b[0m \u001b[0mvalue\u001b[0m\u001b[1;33m.\u001b[0m\u001b[0m__traceback__\u001b[0m \u001b[1;32mis\u001b[0m \u001b[1;32mnot\u001b[0m \u001b[0mtb\u001b[0m\u001b[1;33m:\u001b[0m\u001b[1;33m\u001b[0m\u001b[0m\n\u001b[1;32m    186\u001b[0m             \u001b[1;32mraise\u001b[0m \u001b[0mvalue\u001b[0m\u001b[1;33m.\u001b[0m\u001b[0mwith_traceback\u001b[0m\u001b[1;33m(\u001b[0m\u001b[0mtb\u001b[0m\u001b[1;33m)\u001b[0m\u001b[1;33m\u001b[0m\u001b[0m\n\u001b[0;32m--> 187\u001b[0;31m         \u001b[1;32mraise\u001b[0m \u001b[0mvalue\u001b[0m\u001b[1;33m\u001b[0m\u001b[0m\n\u001b[0m\u001b[1;32m    188\u001b[0m \u001b[1;33m\u001b[0m\u001b[0m\n\u001b[1;32m    189\u001b[0m \u001b[1;32melse\u001b[0m\u001b[1;33m:\u001b[0m\u001b[1;33m\u001b[0m\u001b[0m\n",
      "\u001b[0;32mC:\\Anaconda3\\lib\\site-packages\\sqlalchemy\\pool.py\u001b[0m in \u001b[0;36mcheckout\u001b[0;34m(cls, pool)\u001b[0m\n\u001b[1;32m    516\u001b[0m         \u001b[0mrec\u001b[0m \u001b[1;33m=\u001b[0m \u001b[0mpool\u001b[0m\u001b[1;33m.\u001b[0m\u001b[0m_do_get\u001b[0m\u001b[1;33m(\u001b[0m\u001b[1;33m)\u001b[0m\u001b[1;33m\u001b[0m\u001b[0m\n\u001b[1;32m    517\u001b[0m         \u001b[1;32mtry\u001b[0m\u001b[1;33m:\u001b[0m\u001b[1;33m\u001b[0m\u001b[0m\n\u001b[0;32m--> 518\u001b[0;31m             \u001b[0mdbapi_connection\u001b[0m \u001b[1;33m=\u001b[0m \u001b[0mrec\u001b[0m\u001b[1;33m.\u001b[0m\u001b[0mget_connection\u001b[0m\u001b[1;33m(\u001b[0m\u001b[1;33m)\u001b[0m\u001b[1;33m\u001b[0m\u001b[0m\n\u001b[0m\u001b[1;32m    519\u001b[0m         \u001b[1;32mexcept\u001b[0m\u001b[1;33m:\u001b[0m\u001b[1;33m\u001b[0m\u001b[0m\n\u001b[1;32m    520\u001b[0m             \u001b[1;32mwith\u001b[0m \u001b[0mutil\u001b[0m\u001b[1;33m.\u001b[0m\u001b[0msafe_reraise\u001b[0m\u001b[1;33m(\u001b[0m\u001b[1;33m)\u001b[0m\u001b[1;33m:\u001b[0m\u001b[1;33m\u001b[0m\u001b[0m\n",
      "\u001b[0;32mC:\\Anaconda3\\lib\\site-packages\\sqlalchemy\\pool.py\u001b[0m in \u001b[0;36mget_connection\u001b[0;34m(self)\u001b[0m\n\u001b[1;32m    605\u001b[0m         \u001b[1;32mif\u001b[0m \u001b[0mself\u001b[0m\u001b[1;33m.\u001b[0m\u001b[0mconnection\u001b[0m \u001b[1;32mis\u001b[0m \u001b[1;32mNone\u001b[0m\u001b[1;33m:\u001b[0m\u001b[1;33m\u001b[0m\u001b[0m\n\u001b[1;32m    606\u001b[0m             \u001b[0mself\u001b[0m\u001b[1;33m.\u001b[0m\u001b[0minfo\u001b[0m\u001b[1;33m.\u001b[0m\u001b[0mclear\u001b[0m\u001b[1;33m(\u001b[0m\u001b[1;33m)\u001b[0m\u001b[1;33m\u001b[0m\u001b[0m\n\u001b[0;32m--> 607\u001b[0;31m             \u001b[0mself\u001b[0m\u001b[1;33m.\u001b[0m\u001b[0m__connect\u001b[0m\u001b[1;33m(\u001b[0m\u001b[1;33m)\u001b[0m\u001b[1;33m\u001b[0m\u001b[0m\n\u001b[0m\u001b[1;32m    608\u001b[0m         \u001b[1;32melif\u001b[0m \u001b[0mself\u001b[0m\u001b[1;33m.\u001b[0m\u001b[0m__pool\u001b[0m\u001b[1;33m.\u001b[0m\u001b[0m_recycle\u001b[0m \u001b[1;33m>\u001b[0m \u001b[1;33m-\u001b[0m\u001b[1;36m1\u001b[0m \u001b[1;32mand\u001b[0m\u001b[0;31m \u001b[0m\u001b[0;31m\\\u001b[0m\u001b[1;33m\u001b[0m\u001b[0m\n\u001b[1;32m    609\u001b[0m                 \u001b[0mtime\u001b[0m\u001b[1;33m.\u001b[0m\u001b[0mtime\u001b[0m\u001b[1;33m(\u001b[0m\u001b[1;33m)\u001b[0m \u001b[1;33m-\u001b[0m \u001b[0mself\u001b[0m\u001b[1;33m.\u001b[0m\u001b[0mstarttime\u001b[0m \u001b[1;33m>\u001b[0m \u001b[0mself\u001b[0m\u001b[1;33m.\u001b[0m\u001b[0m__pool\u001b[0m\u001b[1;33m.\u001b[0m\u001b[0m_recycle\u001b[0m\u001b[1;33m:\u001b[0m\u001b[1;33m\u001b[0m\u001b[0m\n",
      "\u001b[0;32mC:\\Anaconda3\\lib\\site-packages\\sqlalchemy\\pool.py\u001b[0m in \u001b[0;36m__connect\u001b[0;34m(self, first_connect_check)\u001b[0m\n\u001b[1;32m    649\u001b[0m         \u001b[1;32mtry\u001b[0m\u001b[1;33m:\u001b[0m\u001b[1;33m\u001b[0m\u001b[0m\n\u001b[1;32m    650\u001b[0m             \u001b[0mself\u001b[0m\u001b[1;33m.\u001b[0m\u001b[0mstarttime\u001b[0m \u001b[1;33m=\u001b[0m \u001b[0mtime\u001b[0m\u001b[1;33m.\u001b[0m\u001b[0mtime\u001b[0m\u001b[1;33m(\u001b[0m\u001b[1;33m)\u001b[0m\u001b[1;33m\u001b[0m\u001b[0m\n\u001b[0;32m--> 651\u001b[0;31m             \u001b[0mconnection\u001b[0m \u001b[1;33m=\u001b[0m \u001b[0mpool\u001b[0m\u001b[1;33m.\u001b[0m\u001b[0m_invoke_creator\u001b[0m\u001b[1;33m(\u001b[0m\u001b[0mself\u001b[0m\u001b[1;33m)\u001b[0m\u001b[1;33m\u001b[0m\u001b[0m\n\u001b[0m\u001b[1;32m    652\u001b[0m             \u001b[0mpool\u001b[0m\u001b[1;33m.\u001b[0m\u001b[0mlogger\u001b[0m\u001b[1;33m.\u001b[0m\u001b[0mdebug\u001b[0m\u001b[1;33m(\u001b[0m\u001b[1;34m\"Created new connection %r\"\u001b[0m\u001b[1;33m,\u001b[0m \u001b[0mconnection\u001b[0m\u001b[1;33m)\u001b[0m\u001b[1;33m\u001b[0m\u001b[0m\n\u001b[1;32m    653\u001b[0m             \u001b[0mself\u001b[0m\u001b[1;33m.\u001b[0m\u001b[0mconnection\u001b[0m \u001b[1;33m=\u001b[0m \u001b[0mconnection\u001b[0m\u001b[1;33m\u001b[0m\u001b[0m\n",
      "\u001b[0;32mC:\\Anaconda3\\lib\\site-packages\\sqlalchemy\\engine\\strategies.py\u001b[0m in \u001b[0;36mconnect\u001b[0;34m(connection_record)\u001b[0m\n\u001b[1;32m    103\u001b[0m                         \u001b[1;32mif\u001b[0m \u001b[0mconnection\u001b[0m \u001b[1;32mis\u001b[0m \u001b[1;32mnot\u001b[0m \u001b[1;32mNone\u001b[0m\u001b[1;33m:\u001b[0m\u001b[1;33m\u001b[0m\u001b[0m\n\u001b[1;32m    104\u001b[0m                             \u001b[1;32mreturn\u001b[0m \u001b[0mconnection\u001b[0m\u001b[1;33m\u001b[0m\u001b[0m\n\u001b[0;32m--> 105\u001b[0;31m                 \u001b[1;32mreturn\u001b[0m \u001b[0mdialect\u001b[0m\u001b[1;33m.\u001b[0m\u001b[0mconnect\u001b[0m\u001b[1;33m(\u001b[0m\u001b[1;33m*\u001b[0m\u001b[0mcargs\u001b[0m\u001b[1;33m,\u001b[0m \u001b[1;33m**\u001b[0m\u001b[0mcparams\u001b[0m\u001b[1;33m)\u001b[0m\u001b[1;33m\u001b[0m\u001b[0m\n\u001b[0m\u001b[1;32m    106\u001b[0m \u001b[1;33m\u001b[0m\u001b[0m\n\u001b[1;32m    107\u001b[0m             \u001b[0mcreator\u001b[0m \u001b[1;33m=\u001b[0m \u001b[0mpop_kwarg\u001b[0m\u001b[1;33m(\u001b[0m\u001b[1;34m'creator'\u001b[0m\u001b[1;33m,\u001b[0m \u001b[0mconnect\u001b[0m\u001b[1;33m)\u001b[0m\u001b[1;33m\u001b[0m\u001b[0m\n",
      "\u001b[0;32mC:\\Anaconda3\\lib\\site-packages\\sqlalchemy\\engine\\default.py\u001b[0m in \u001b[0;36mconnect\u001b[0;34m(self, *cargs, **cparams)\u001b[0m\n\u001b[1;32m    391\u001b[0m \u001b[1;33m\u001b[0m\u001b[0m\n\u001b[1;32m    392\u001b[0m     \u001b[1;32mdef\u001b[0m \u001b[0mconnect\u001b[0m\u001b[1;33m(\u001b[0m\u001b[0mself\u001b[0m\u001b[1;33m,\u001b[0m \u001b[1;33m*\u001b[0m\u001b[0mcargs\u001b[0m\u001b[1;33m,\u001b[0m \u001b[1;33m**\u001b[0m\u001b[0mcparams\u001b[0m\u001b[1;33m)\u001b[0m\u001b[1;33m:\u001b[0m\u001b[1;33m\u001b[0m\u001b[0m\n\u001b[0;32m--> 393\u001b[0;31m         \u001b[1;32mreturn\u001b[0m \u001b[0mself\u001b[0m\u001b[1;33m.\u001b[0m\u001b[0mdbapi\u001b[0m\u001b[1;33m.\u001b[0m\u001b[0mconnect\u001b[0m\u001b[1;33m(\u001b[0m\u001b[1;33m*\u001b[0m\u001b[0mcargs\u001b[0m\u001b[1;33m,\u001b[0m \u001b[1;33m**\u001b[0m\u001b[0mcparams\u001b[0m\u001b[1;33m)\u001b[0m\u001b[1;33m\u001b[0m\u001b[0m\n\u001b[0m\u001b[1;32m    394\u001b[0m \u001b[1;33m\u001b[0m\u001b[0m\n\u001b[1;32m    395\u001b[0m     \u001b[1;32mdef\u001b[0m \u001b[0mcreate_connect_args\u001b[0m\u001b[1;33m(\u001b[0m\u001b[0mself\u001b[0m\u001b[1;33m,\u001b[0m \u001b[0murl\u001b[0m\u001b[1;33m)\u001b[0m\u001b[1;33m:\u001b[0m\u001b[1;33m\u001b[0m\u001b[0m\n",
      "\u001b[0;32mC:\\Anaconda3\\lib\\site-packages\\mysql\\connector\\__init__.py\u001b[0m in \u001b[0;36mconnect\u001b[0;34m(*args, **kwargs)\u001b[0m\n\u001b[1;32m    160\u001b[0m \u001b[1;33m\u001b[0m\u001b[0m\n\u001b[1;32m    161\u001b[0m     \u001b[1;31m# Regular connection\u001b[0m\u001b[1;33m\u001b[0m\u001b[1;33m\u001b[0m\u001b[0m\n\u001b[0;32m--> 162\u001b[0;31m     \u001b[1;32mreturn\u001b[0m \u001b[0mMySQLConnection\u001b[0m\u001b[1;33m(\u001b[0m\u001b[1;33m*\u001b[0m\u001b[0margs\u001b[0m\u001b[1;33m,\u001b[0m \u001b[1;33m**\u001b[0m\u001b[0mkwargs\u001b[0m\u001b[1;33m)\u001b[0m\u001b[1;33m\u001b[0m\u001b[0m\n\u001b[0m\u001b[1;32m    163\u001b[0m \u001b[0mConnect\u001b[0m \u001b[1;33m=\u001b[0m \u001b[0mconnect\u001b[0m  \u001b[1;31m# pylint: disable=C0103\u001b[0m\u001b[1;33m\u001b[0m\u001b[0m\n\u001b[1;32m    164\u001b[0m \u001b[1;33m\u001b[0m\u001b[0m\n",
      "\u001b[0;32mC:\\Anaconda3\\lib\\site-packages\\mysql\\connector\\connection.py\u001b[0m in \u001b[0;36m__init__\u001b[0;34m(self, *args, **kwargs)\u001b[0m\n\u001b[1;32m    127\u001b[0m \u001b[1;33m\u001b[0m\u001b[0m\n\u001b[1;32m    128\u001b[0m         \u001b[1;32mif\u001b[0m \u001b[0mlen\u001b[0m\u001b[1;33m(\u001b[0m\u001b[0mkwargs\u001b[0m\u001b[1;33m)\u001b[0m \u001b[1;33m>\u001b[0m \u001b[1;36m0\u001b[0m\u001b[1;33m:\u001b[0m\u001b[1;33m\u001b[0m\u001b[0m\n\u001b[0;32m--> 129\u001b[0;31m             \u001b[0mself\u001b[0m\u001b[1;33m.\u001b[0m\u001b[0mconnect\u001b[0m\u001b[1;33m(\u001b[0m\u001b[1;33m**\u001b[0m\u001b[0mkwargs\u001b[0m\u001b[1;33m)\u001b[0m\u001b[1;33m\u001b[0m\u001b[0m\n\u001b[0m\u001b[1;32m    130\u001b[0m \u001b[1;33m\u001b[0m\u001b[0m\n\u001b[1;32m    131\u001b[0m     \u001b[1;32mdef\u001b[0m \u001b[0m_get_self\u001b[0m\u001b[1;33m(\u001b[0m\u001b[0mself\u001b[0m\u001b[1;33m)\u001b[0m\u001b[1;33m:\u001b[0m\u001b[1;33m\u001b[0m\u001b[0m\n",
      "\u001b[0;32mC:\\Anaconda3\\lib\\site-packages\\mysql\\connector\\connection.py\u001b[0m in \u001b[0;36mconnect\u001b[0;34m(self, **kwargs)\u001b[0m\n\u001b[1;32m    452\u001b[0m \u001b[1;33m\u001b[0m\u001b[0m\n\u001b[1;32m    453\u001b[0m         \u001b[0mself\u001b[0m\u001b[1;33m.\u001b[0m\u001b[0mdisconnect\u001b[0m\u001b[1;33m(\u001b[0m\u001b[1;33m)\u001b[0m\u001b[1;33m\u001b[0m\u001b[0m\n\u001b[0;32m--> 454\u001b[0;31m         \u001b[0mself\u001b[0m\u001b[1;33m.\u001b[0m\u001b[0m_open_connection\u001b[0m\u001b[1;33m(\u001b[0m\u001b[1;33m)\u001b[0m\u001b[1;33m\u001b[0m\u001b[0m\n\u001b[0m\u001b[1;32m    455\u001b[0m         \u001b[0mself\u001b[0m\u001b[1;33m.\u001b[0m\u001b[0m_post_connection\u001b[0m\u001b[1;33m(\u001b[0m\u001b[1;33m)\u001b[0m\u001b[1;33m\u001b[0m\u001b[0m\n\u001b[1;32m    456\u001b[0m \u001b[1;33m\u001b[0m\u001b[0m\n",
      "\u001b[0;32mC:\\Anaconda3\\lib\\site-packages\\mysql\\connector\\connection.py\u001b[0m in \u001b[0;36m_open_connection\u001b[0;34m(self)\u001b[0m\n\u001b[1;32m    415\u001b[0m         \"\"\"\n\u001b[1;32m    416\u001b[0m         \u001b[0mself\u001b[0m\u001b[1;33m.\u001b[0m\u001b[0m_socket\u001b[0m \u001b[1;33m=\u001b[0m \u001b[0mself\u001b[0m\u001b[1;33m.\u001b[0m\u001b[0m_get_connection\u001b[0m\u001b[1;33m(\u001b[0m\u001b[1;33m)\u001b[0m\u001b[1;33m\u001b[0m\u001b[0m\n\u001b[0;32m--> 417\u001b[0;31m         \u001b[0mself\u001b[0m\u001b[1;33m.\u001b[0m\u001b[0m_socket\u001b[0m\u001b[1;33m.\u001b[0m\u001b[0mopen_connection\u001b[0m\u001b[1;33m(\u001b[0m\u001b[1;33m)\u001b[0m\u001b[1;33m\u001b[0m\u001b[0m\n\u001b[0m\u001b[1;32m    418\u001b[0m         \u001b[0mself\u001b[0m\u001b[1;33m.\u001b[0m\u001b[0m_do_handshake\u001b[0m\u001b[1;33m(\u001b[0m\u001b[1;33m)\u001b[0m\u001b[1;33m\u001b[0m\u001b[0m\n\u001b[1;32m    419\u001b[0m         self._do_auth(self._user, self._password,\n",
      "\u001b[0;32mC:\\Anaconda3\\lib\\site-packages\\mysql\\connector\\network.py\u001b[0m in \u001b[0;36mopen_connection\u001b[0;34m(self)\u001b[0m\n\u001b[1;32m    473\u001b[0m         \u001b[1;32mexcept\u001b[0m \u001b[0mIOError\u001b[0m \u001b[1;32mas\u001b[0m \u001b[0merr\u001b[0m\u001b[1;33m:\u001b[0m\u001b[1;33m\u001b[0m\u001b[0m\n\u001b[1;32m    474\u001b[0m             raise errors.InterfaceError(\n\u001b[0;32m--> 475\u001b[0;31m                 errno=2003, values=(self.get_address(), _strioerror(err)))\n\u001b[0m\u001b[1;32m    476\u001b[0m         \u001b[1;32mexcept\u001b[0m \u001b[0mException\u001b[0m \u001b[1;32mas\u001b[0m \u001b[0merr\u001b[0m\u001b[1;33m:\u001b[0m\u001b[1;33m\u001b[0m\u001b[0m\n\u001b[1;32m    477\u001b[0m             \u001b[1;32mraise\u001b[0m \u001b[0merrors\u001b[0m\u001b[1;33m.\u001b[0m\u001b[0mOperationalError\u001b[0m\u001b[1;33m(\u001b[0m\u001b[0mstr\u001b[0m\u001b[1;33m(\u001b[0m\u001b[0merr\u001b[0m\u001b[1;33m)\u001b[0m\u001b[1;33m)\u001b[0m\u001b[1;33m\u001b[0m\u001b[0m\n",
      "\u001b[0;31mInterfaceError\u001b[0m: (mysql.connector.errors.InterfaceError) 2003: Can't connect to MySQL server on '10.20.198.170:3306' (10060 A connection attempt failed because the connected party did not properly respond after a period of time, or established connection failed because connected host has failed to respond)"
     ]
    }
   ],
   "source": [
    "import cartopy.crs as ccrs\n",
    "icao_orig=\"EGNT\"\n",
    "icao_dest=\"GCTS\"\n",
    "\n",
    "d_coords_route_pool = mysql_vista.read_coord_trajectory_route(icao_orig,icao_dest)\n",
    "\n",
    "unique_id = d_coords_route_pool['id'].drop_duplicates()\n",
    "\n",
    "min_lon = min(d_coords_route_pool['lon'])\n",
    "max_lon = max(d_coords_route_pool['lon'])\n",
    "min_lat = min(d_coords_route_pool['lat'])\n",
    "max_lat = max(d_coords_route_pool['lat'])\n",
    "\n",
    "scale = 5\n",
    "\n",
    "fig=plt.figure(figsize=(2.61538461538*scale, 3*scale))\n",
    "ax = plt.axes(projection=ccrs.PlateCarree())\n",
    "ax.set_extent([min_lon-3,max_lon+3,min_lat-3,max_lat+3],\n",
    "             crs=ccrs.PlateCarree())\n",
    "ax.coastlines(resolution='50m')\n",
    "\n",
    "for i in unique_id:\n",
    "    ax.plot(d_coords_route_pool.loc[d_coords_route_pool['id']==i,'lon'],\n",
    "             d_coords_route_pool.loc[d_coords_route_pool['id']==i,'lat'], linewidth=1,\n",
    "             transform=ccrs.Geodetic()\n",
    "             )\n",
    "    \n",
    "    ax.scatter(d_coords_route_pool.loc[d_coords_route_pool['id']==i,'lon'],\n",
    "             d_coords_route_pool.loc[d_coords_route_pool['id']==i,'lat'], linewidth=1,\n",
    "             transform=ccrs.Geodetic()\n",
    "             )\n",
    "    \n",
    "    \n",
    "    \n",
    "plt.show()\n"
   ]
  },
  {
   "cell_type": "code",
   "execution_count": null,
   "metadata": {
    "collapsed": true
   },
   "outputs": [],
   "source": [
    "d_coords_route_pool['id'].drop_duplicates()"
   ]
  },
  {
   "cell_type": "code",
   "execution_count": null,
   "metadata": {
    "collapsed": true,
    "scrolled": false
   },
   "outputs": [],
   "source": [
    "import cartopy.crs as ccrs\n",
    "importlib.reload(mysql)\n",
    "\n",
    "mysql_vista = mysql.DataAccessVista(hostname,port,username,password,database_vista)\n",
    "\n",
    "def plot_usage_routes(icao_orig,icao_dest,scenario_id,title=\"\",max_widht=20):\n",
    "\n",
    "    d_f_p_route = mysql_vista.read_number_flights_per_route(scenario_id,icao_orig,icao_dest,other_conditions=\"fps.FPS_run>=61\")\n",
    "    d_f_p_route['per_flights_using']=d_f_p_route['num_flights_per_route']/d_f_p_route['num_flights_per_route'].sum()\n",
    "    dict_usage = d_f_p_route.set_index('route_pool_id').to_dict()['per_flights_using']\n",
    "\n",
    "    d_coords_route_pool = mysql_vista.read_coord_trajectory_route(icao_orig,icao_dest)\n",
    "\n",
    "    unique_id = d_coords_route_pool['id'].drop_duplicates()\n",
    "\n",
    "    min_lon = min(d_coords_route_pool['lon'])\n",
    "    max_lon = max(d_coords_route_pool['lon'])\n",
    "    min_lat = min(d_coords_route_pool['lat'])\n",
    "    max_lat = max(d_coords_route_pool['lat'])\n",
    "\n",
    "    scale = 3\n",
    "    resolution = '50m'\n",
    "    category = 'cultural'\n",
    "    name = 'admin_0_countries'\n",
    "    \n",
    "    shpfilename = shapereader.natural_earth(resolution, category, name)\n",
    "    # read the shapefile using geopandas\n",
    "    df = geopandas.read_file(shpfilename)\n",
    "    \n",
    "    # read the European borders\n",
    "    poly = df.loc[(df['CONTINENT'] == 'Europe') | \n",
    "                  ((df['CONTINENT']==\"Africa\") &\n",
    "                   (df['SUBREGION']==\"Northern Africa\") | \n",
    "                  ((df['CONTINENT']==\"Asia\") &\n",
    "                   (df['SUBREGION']==\"Western Asia\")))]['geometry']\n",
    "\n",
    "    \n",
    "\n",
    "    fig=plt.figure(figsize=(2.61538461538*scale, 3*scale))\n",
    "    ax = plt.axes(projection=ccrs.PlateCarree())\n",
    "    ax.set_extent([min_lon-3,max_lon+3,min_lat-3,max_lat+3],\n",
    "                 crs=ccrs.PlateCarree())\n",
    "    ax.add_geometries(poly, crs=ccrs.PlateCarree(), facecolor='none', \n",
    "                      edgecolor='0.9')\n",
    "    ax.coastlines(resolution='50m')\n",
    "\n",
    "    \n",
    "    \n",
    "    \n",
    "\n",
    "    for i in unique_id:\n",
    "        lw=dict_usage.get(i,0)*20\n",
    "        \n",
    "        ax.plot(d_coords_route_pool.loc[d_coords_route_pool['id']==i,'lon'],\n",
    "                     d_coords_route_pool.loc[d_coords_route_pool['id']==i,'lat']+random.randint(0,10)/20, linewidth=lw,alpha=0.6,\n",
    "                     transform=ccrs.Geodetic()\n",
    "                     )\n",
    "        \n",
    "        print(i)\n",
    "        #if i>9228:\n",
    "        #    break\n",
    "        \n",
    "\n",
    "\n",
    "        ax.scatter(d_coords_route_pool.loc[d_coords_route_pool['id']==i,'lon'],\n",
    "                 d_coords_route_pool.loc[d_coords_route_pool['id']==i,'lat'], linewidth=lw,\n",
    "                 transform=ccrs.Geodetic()\n",
    "             )\n",
    "\n",
    "\n",
    "    plt.title(title)\n",
    "    plt.show()\n",
    "\n",
    "\n",
    "icao_orig=\"EGKK\"\n",
    "icao_dest=\"GCTS\"\n",
    "icao_orig=\"LFPG\"\n",
    "icao_dest=\"LTBA\"\n",
    "\n",
    "icao_orig=\"EGKK\"\n",
    "icao_dest=\"GCTS\"\n",
    "\n",
    "icao_orig=\"EDDB\"\n",
    "icao_dest=\"LIMC\"\n",
    "\n",
    "icao_orig=\"LEMD\"\n",
    "icao_dest=\"EDDB\"\n",
    "\n",
    "\n",
    "icao_orig=\"EGKK\"\n",
    "icao_dest=\"GCTS\"\n",
    "\n",
    "icao_orig=\"LGAV\"\n",
    "icao_dest=\"LFPG\"\n",
    "\n",
    "max_width=15\n",
    "plot_usage_routes(icao_orig,icao_dest,0,'baseline',max_width)\n",
    "plot_usage_routes(icao_orig,icao_dest,4,'low fuel',max_width)\n",
    "plot_usage_routes(icao_orig,icao_dest,5, 'high fuel',max_width)\n",
    "plot_usage_routes(icao_orig,icao_dest,28, 'very high fuel',max_width)\n",
    "plot_usage_routes(icao_orig,icao_dest,29, 'very low fuel',max_width)\n",
    "plot_usage_routes(icao_orig,icao_dest,6, 'FAB',max_width)\n",
    "plot_usage_routes(icao_orig,icao_dest,7, 'Homogeneous',max_width)\n",
    "\n"
   ]
  },
  {
   "cell_type": "code",
   "execution_count": null,
   "metadata": {
    "collapsed": true
   },
   "outputs": [],
   "source": [
    "importlib.reload(u)\n",
    "importlib.reload(mysql)\n",
    "mysql_vista = mysql.DataAccessVista(hostname,port,username,password,database_vista)\n",
    "\n",
    "scenario_id=29\n",
    "d_f_p_route = mysql_vista.read_number_flights_per_route(scenario_id,icao_orig,icao_dest,other_conditions=\"fps.FPS_run>=61\")\n",
    "d_f_p_route['per_flights_using']=20*d_f_p_route['num_flights_per_route']/d_f_p_route['num_flights_per_route'].sum()\n",
    "dict_usage = d_f_p_route.set_index('route_pool_id').to_dict()['per_flights_using']\n",
    "\n",
    "d_coords_route_pool = mysql_vista.read_coord_trajectory_route(icao_orig,icao_dest)\n",
    "\n",
    "u.plot_trajectory_in_map(d_coords_route_pool,title=\"Test\",scale=3, linewidth=1.5, linewidth_dict=dict_usage,\n",
    "                         plot_markers=True, add_random=True)"
   ]
  },
  {
   "cell_type": "code",
   "execution_count": null,
   "metadata": {
    "collapsed": true
   },
   "outputs": [],
   "source": [
    "icao_orig=\"LEMD\"\n",
    "icao_dest=\"EDDB\"\n",
    "icao_orig=\"EGKK\"\n",
    "icao_dest=\"GCTS\"\n",
    "icao_orig=\"LGAV\"\n",
    "icao_dest=\"LFPG\"\n",
    "scenario_id=29\n",
    "d_f_p_route = mysql_vista.read_number_flights_per_route(scenario_id,icao_orig,icao_dest,other_conditions=\"fps.FPS_run>=61\")\n",
    "d_f_p_route['per_flights_using']=20*d_f_p_route['num_flights_per_route']/d_f_p_route['num_flights_per_route'].sum()\n",
    "\n",
    "d_f_p_route"
   ]
  },
  {
   "cell_type": "code",
   "execution_count": null,
   "metadata": {
    "collapsed": true
   },
   "outputs": [],
   "source": [
    "from cartopy.io import shapereader\n",
    "import numpy as np\n",
    "import geopandas\n",
    "import matplotlib.pyplot as plt\n",
    "\n",
    "import cartopy.crs as ccrs\n",
    "\n",
    "# get natural earth data (http://www.naturalearthdata.com/)\n",
    "\n",
    "# get country borders\n",
    "resolution = '50m'\n",
    "category = 'cultural'\n",
    "name = 'admin_0_countries'\n",
    "\n",
    "shpfilename = shapereader.natural_earth(resolution, category, name)\n",
    "\n",
    "# read the shapefile using geopandas\n",
    "df = geopandas.read_file(shpfilename)\n",
    "\n",
    "# read the german borders\n",
    "poly = df.loc[(df['CONTINENT'] == 'Europe') | \n",
    "              ((df['CONTINENT']==\"Africa\") &\n",
    "               (df['SUBREGION']==\"Northern Africa\") | \n",
    "              ((df['CONTINENT']==\"Asia\") &\n",
    "               (df['SUBREGION']==\"Western Asia\")))]['geometry']#.values[0]\n",
    "\n",
    "\n",
    "fig=plt.figure(figsize=(20, 15))\n",
    "\n",
    "ax = plt.axes(projection=ccrs.PlateCarree())\n",
    "\n",
    "ax.add_geometries(poly, crs=ccrs.PlateCarree(), facecolor='none', \n",
    "                  edgecolor='0.9')\n",
    "\n",
    "ax.coastlines(resolution='50m')\n",
    "\n",
    "ax.set_extent([-40, 70, 30, 70], crs=ccrs.PlateCarree())\n",
    "\n",
    "plt.show()"
   ]
  },
  {
   "cell_type": "code",
   "execution_count": null,
   "metadata": {
    "collapsed": true
   },
   "outputs": [],
   "source": [
    "df.columns"
   ]
  },
  {
   "cell_type": "code",
   "execution_count": null,
   "metadata": {
    "collapsed": true
   },
   "outputs": [],
   "source": [
    "df.loc[(df['CONTINENT']==\"Europe\"),['TYPE']]\n",
    "df.loc[(df['CONTINENT']==\"Asia\"),['SUBREGION']].drop_duplicates()\n"
   ]
  },
  {
   "cell_type": "markdown",
   "metadata": {},
   "source": [
    "## REVENUE METRICS PER NAS"
   ]
  },
  {
   "cell_type": "code",
   "execution_count": null,
   "metadata": {
    "collapsed": true
   },
   "outputs": [],
   "source": [
    "def revenues_per_NAS_scenario(scenario_id,scenario_name,other_conditions):\n",
    "    drev, drev_avg=mysql_vista.read_revenue_per_NAS(scenario_id,other_condition=\"fps.FPS_run>=61\")\n",
    "    \n",
    "    drev_avg=drev_avg.T\n",
    "    drev_avg.columns = drev_avg.iloc[0]\n",
    "    drev_avg=drev_avg.reindex(drev_avg.index.drop('nas_sid'))\n",
    "    drev_avg.rename(columns={'index':'scenario'})\n",
    "    drev_avg['scenario']=scenario_name\n",
    "    drev_avg.reset_index(inplace=True)\n",
    "\n",
    "\n",
    "    return drev_avg\n",
    "    \n",
    "    \n",
    "other_condition=\"fps.FPS_run>=61\"\n",
    "drev = revenues_per_NAS_scenario(0,'baseline',other_condition).append(\n",
    "       revenues_per_NAS_scenario(4,'low fuel',other_condition).append(\n",
    "       revenues_per_NAS_scenario(5,'high fuel',other_condition).append(\n",
    "       revenues_per_NAS_scenario(28,'very high fuel',other_condition).append(\n",
    "       revenues_per_NAS_scenario(29,'very low fuel',other_condition))))).drop([\"index\"],axis=1)\n",
    "           \n",
    "\n",
    "\n",
    "filter_col = [x for x in drev.columns if (not x.startswith('O')) and (not x.startswith('U')) \n",
    "              and (not x.startswith('D')) and (not x.startswith('B')) and (not x.startswith('G'))\n",
    "              and (not x.startswith('H')) and (len(x)>1) or x==\"GC\"]\n",
    "\n",
    "#u.plot_results_radial(d[['scenario','LE','EG','AZ','LF','LP']],case_column=\"scenario\",vmin=0.9)\n",
    "u.plot_results_radial(drev[filter_col],case_column=\"scenario\",vmin=0.95)"
   ]
  },
  {
   "cell_type": "code",
   "execution_count": null,
   "metadata": {
    "collapsed": true
   },
   "outputs": [],
   "source": [
    "importlib.reload(u)\n",
    "u.plot_results_radial(drev[filter_col],case_column=\"scenario\",vmin=0.80)"
   ]
  },
  {
   "cell_type": "code",
   "execution_count": null,
   "metadata": {
    "collapsed": true
   },
   "outputs": [],
   "source": [
    "drev"
   ]
  },
  {
   "cell_type": "code",
   "execution_count": null,
   "metadata": {
    "collapsed": true
   },
   "outputs": [],
   "source": []
  },
  {
   "cell_type": "markdown",
   "metadata": {},
   "source": [
    "## DEMAND IN NAS"
   ]
  },
  {
   "cell_type": "code",
   "execution_count": null,
   "metadata": {
    "collapsed": true
   },
   "outputs": [],
   "source": [
    "importlib.reload(mysql)\n",
    "mysql_vista = mysql.DataAccessVista(hostname,port,username,password,database_vista)\n",
    "\n",
    "d_ansp=mysql_vista.read_airspace_entry_on_selection(0,\"fps.FPS_run>=61\")"
   ]
  },
  {
   "cell_type": "code",
   "execution_count": null,
   "metadata": {
    "collapsed": true
   },
   "outputs": [],
   "source": [
    "d_ansp"
   ]
  },
  {
   "cell_type": "code",
   "execution_count": null,
   "metadata": {
    "collapsed": true
   },
   "outputs": [],
   "source": [
    "demand_0=d_a_0.groupby(\"nas_sid\",as_index=False)['fp_option_id'].count().T\n",
    "demand_0.columns = demand_0.iloc[0]\n",
    "demand_0=demand_0.reindex(demand_0.index.drop('nas_sid'))\n",
    "demand_0.rename(columns={'index':'scenario'})\n",
    "demand_0['scenario']=\"baseline\"\n",
    "demand_0.reset_index(inplace=True)"
   ]
  },
  {
   "cell_type": "code",
   "execution_count": null,
   "metadata": {
    "collapsed": true
   },
   "outputs": [],
   "source": []
  },
  {
   "cell_type": "markdown",
   "metadata": {},
   "source": [
    "## OTHER - OLD"
   ]
  },
  {
   "cell_type": "code",
   "execution_count": null,
   "metadata": {
    "collapsed": true
   },
   "outputs": [],
   "source": []
  },
  {
   "cell_type": "code",
   "execution_count": null,
   "metadata": {
    "collapsed": true
   },
   "outputs": [],
   "source": [
    "import sys\n",
    "sys.path.insert(1,'../../../../libs')\n",
    "sys.path.insert(1,'../py')\n",
    "import importlib\n",
    "\n",
    "import fp_generator_functions as fgf\n",
    "importlib.reload(mysql)\n",
    "importlib.reload(fgf)\n",
    "importlib.reload(u)\n",
    "\n",
    "for i in range(0,10):\n",
    "    print(i)\n",
    "    fp_o= fgf.flight_plan_option_selection(hostname,port,username,password,database_vista,scenario_id = 6,FPG_run=14)\n",
    "\n",
    "print(\"Done\")"
   ]
  },
  {
   "cell_type": "code",
   "execution_count": null,
   "metadata": {
    "collapsed": true
   },
   "outputs": [],
   "source": [
    "fs_old = fs.copy()"
   ]
  },
  {
   "cell_type": "code",
   "execution_count": null,
   "metadata": {
    "collapsed": true
   },
   "outputs": [],
   "source": [
    "fs = mysql_vista.read_flights_selected(other_condition=\"fo.FPG_run>=11\",only_first_preference=True)"
   ]
  },
  {
   "cell_type": "code",
   "execution_count": null,
   "metadata": {
    "collapsed": true
   },
   "outputs": [],
   "source": [
    "foptions = mysql_vista.read_number_options_per_schedule()"
   ]
  },
  {
   "cell_type": "code",
   "execution_count": null,
   "metadata": {
    "collapsed": true
   },
   "outputs": [],
   "source": [
    "foptions.head()"
   ]
  },
  {
   "cell_type": "code",
   "execution_count": null,
   "metadata": {
    "collapsed": true
   },
   "outputs": [],
   "source": [
    "fs = pd.merge(fs, foptions, on=\"schedule_id\", how=\"left\")"
   ]
  },
  {
   "cell_type": "code",
   "execution_count": null,
   "metadata": {
    "collapsed": true
   },
   "outputs": [],
   "source": [
    "fs.columns"
   ]
  },
  {
   "cell_type": "code",
   "execution_count": null,
   "metadata": {
    "collapsed": true
   },
   "outputs": [],
   "source": []
  },
  {
   "cell_type": "code",
   "execution_count": null,
   "metadata": {
    "collapsed": true
   },
   "outputs": [],
   "source": [
    "fs[['scenario','FPO_run']].drop_duplicates()"
   ]
  },
  {
   "cell_type": "code",
   "execution_count": null,
   "metadata": {
    "collapsed": true,
    "scrolled": true
   },
   "outputs": [],
   "source": [
    "\n"
   ]
  },
  {
   "cell_type": "code",
   "execution_count": null,
   "metadata": {
    "collapsed": true,
    "scrolled": false
   },
   "outputs": [],
   "source": [
    "importlib.reload(u)\n",
    "def dataframe_results(df,case):\n",
    "    dfresults = pd.DataFrame([{'case':case,\n",
    "                    'buffer min':df['schedule_buffer_min'].mean(),\n",
    "                    'avg dist nm': df['fp_distance_nm'].mean(),\n",
    "                    'total dist nm': df['fp_distance_nm'].sum()/1000000,\n",
    "                    'avg crco': df['crco_cost_EUR'].mean(),\n",
    "                    'total crco M EUR':df['crco_cost_EUR'].sum()/1000000,\n",
    "                    'avg time min': df['fp_min'].mean(),\n",
    "                    'total time M min': df['fp_min'].sum()/1000000,\n",
    "                    'avg fuel kg': df['fp_fuel_kg'].mean()}])\n",
    "    \n",
    "    return dfresults\n",
    "\n",
    "\n",
    "\n",
    "df=dataframe_results(fs.loc[(fs['scenario']==0) & (fs['num_options']==1)],'baseline').append(\n",
    "             dataframe_results(fs.loc[(fs['scenario']==4) & (fs['num_options']==1)],'low fuel').append(\n",
    "             dataframe_results(fs.loc[(fs['scenario']==5) & (fs['num_options']==1)],'high fuel')))\n",
    "\n",
    "u.plot_results_line(df[['case','buffer min','avg dist nm','avg crco', 'avg time min', 'avg fuel kg']],'case','only 1 option')\n",
    "\n",
    "#u.plot_results_radial(df,'case',vmin=0.95)\n",
    "\n",
    "\n",
    "\n",
    "df=dataframe_results(fs.loc[(fs['scenario']==0) & (fs['num_options']>1)],'baseline').append(\n",
    "             dataframe_results(fs.loc[(fs['scenario']==4) & (fs['num_options']>1)],'low fuel').append(\n",
    "             dataframe_results(fs.loc[(fs['scenario']==5) & (fs['num_options']>1)],'high fuel')))\n",
    "\n",
    "u.plot_results_line(df[['case','buffer min','avg dist nm','avg crco', 'avg time min', 'avg fuel kg']],'case','more that 1 option')\n",
    "\n",
    "#u.plot_results_radial(df,'case',vmin=0.95)\n",
    "\n",
    "\n",
    "\n",
    "df=dataframe_results(fs.loc[(fs['scenario']==0) & (fs['num_options']>5)],'baseline').append(\n",
    "             dataframe_results(fs.loc[(fs['scenario']==4) & (fs['num_options']>5)],'low fuel').append(\n",
    "             dataframe_results(fs.loc[(fs['scenario']==5) & (fs['num_options']>5)],'high fuel')))\n",
    "\n",
    "u.plot_results_line(df[['case','buffer min','avg dist nm','avg crco', 'avg time min', 'avg fuel kg']],'case','more than 5 options')\n",
    "\n",
    "\n",
    "#u.plot_results_radial(df,'case',vmin=0.95)\n",
    "\n",
    "\n",
    "\n",
    "\n",
    "\n",
    "df=dataframe_results(fs.loc[fs['scenario']==0],'baseline').append(\n",
    "             dataframe_results(fs.loc[fs['scenario']==4],'low fuel').append(\n",
    "             dataframe_results(fs.loc[fs['scenario']==5],'high fuel')))\n",
    "\n",
    "u.plot_results_line(df,'case')\n",
    "\n",
    "\n",
    "df=dataframe_results(fs.loc[fs['scenario']==0],'baseline').append(\n",
    "             dataframe_results(fs.loc[fs['scenario']==6],'FABs'))\n",
    "\n",
    "u.plot_results_line(df,'case')\n",
    "\n",
    "#u.plot_results_radial(df,'case',vmin=0.95)\n",
    "\n",
    "\n",
    "\n",
    "\n",
    "#u.plot_results_radial(df,'case',vmin=0.95)\n",
    "\n",
    "\n",
    "\n",
    "#df = dataframe_results(fp_sched_fnom,'baseline').append(\n",
    "#             dataframe_results(fp_sched_fcrcohigh,'crco high'))\n",
    "#u.plot_results_line(df,'case')\n",
    "\n",
    "print(\"A\")"
   ]
  },
  {
   "cell_type": "code",
   "execution_count": null,
   "metadata": {
    "collapsed": true
   },
   "outputs": [],
   "source": [
    "\n",
    "orig=\"EN\"\n",
    "dest=\"LE\"\n",
    "\n",
    "orig=\"EGKK\"\n",
    "dest=\"GCTS\"\n",
    "\n",
    "orig=\"\"\n",
    "dest=\"\"\n",
    "\n",
    "orig=\"EGKK\"\n",
    "dest=\"GCTS\"\n",
    "\n",
    "'''\n",
    "df=dataframe_results(fs.loc[(fs['scenario']==0) & \n",
    "                            (fs['icao_orig'].str.startswith(orig)) &\n",
    "                            (fs['icao_dest'].str.startswith(dest))],'baseline').append(\n",
    "             dataframe_results(fs.loc[(fs['scenario']==4) & \n",
    "                            (fs['icao_orig'].str.startswith(orig)) &\n",
    "                            (fs['icao_dest'].str.startswith(dest))],'low fuel').append(\n",
    "             dataframe_results(fs.loc[(fs['scenario']==5) & \n",
    "                            (fs['icao_orig'].str.startswith(orig)) &\n",
    "                            (fs['icao_dest'].str.startswith(dest))],'high fuel')))\n",
    "\n",
    "u.plot_results_line(df[['case','buffer min','avg dist nm','avg crco', 'avg time min', 'avg fuel kg']],'case',orig+\"_\"+dest)\n",
    "\n",
    "\n",
    "\n",
    "\n",
    "df=dataframe_results(fs.loc[(fs['scenario']==0) & \n",
    "                            (fs['icao_orig'].str.startswith(orig)) &\n",
    "                            (fs['icao_dest'].str.startswith(dest))],'baseline').append(\n",
    "             dataframe_results(fs.loc[(fs['scenario']==7) & \n",
    "                            (fs['icao_orig'].str.startswith(orig)) &\n",
    "                            (fs['icao_dest'].str.startswith(dest))],'homo').append(\n",
    "             dataframe_results(fs.loc[(fs['scenario']==25) & \n",
    "                            (fs['icao_orig'].str.startswith(orig)) &\n",
    "                            (fs['icao_dest'].str.startswith(dest))],'homo low fuel').append(\n",
    "             dataframe_results(fs.loc[(fs['scenario']==27) & \n",
    "                            (fs['icao_orig'].str.startswith(orig)) &\n",
    "                            (fs['icao_dest'].str.startswith(dest))],'homo high fuel'))))\n",
    "\n",
    "u.plot_results_line(df[['case','buffer min','avg dist nm','avg crco', 'avg time min', 'avg fuel kg']],'case',orig+\"_\"+dest)\n",
    "\n",
    "'''\n",
    "\n",
    "orig=\"E\"\n",
    "dest=\"G\"\n",
    "\n",
    "df=dataframe_results(fs.loc[(fs['scenario']==0) & \n",
    "                            (fs['icao_orig'].str.startswith(orig)) &\n",
    "                            (fs['icao_dest'].str.startswith(dest))],'baseline').append(\n",
    "             dataframe_results(fs.loc[(fs['scenario']==4) & \n",
    "                            (fs['icao_orig'].str.startswith(orig)) &\n",
    "                            (fs['icao_dest'].str.startswith(dest))],'low fuel').append(\n",
    "             dataframe_results(fs.loc[(fs['scenario']==5) & \n",
    "                            (fs['icao_orig'].str.startswith(orig)) &\n",
    "                            (fs['icao_dest'].str.startswith(dest))],'high fuel')))\n",
    "\n",
    "u.plot_results_line(df[['case','buffer min','avg dist nm','avg crco', 'avg time min', 'avg fuel kg']],'case',orig+\"_\"+dest)\n",
    "\n",
    "'''\n",
    "\n",
    "df=dataframe_results(fs.loc[(fs['scenario']==0) & \n",
    "                            (fs['icao_orig'].str.startswith(orig)) &\n",
    "                            (fs['icao_dest'].str.startswith(dest))],'baseline').append(\n",
    "             dataframe_results(fs.loc[(fs['scenario']==7) & \n",
    "                            (fs['icao_orig'].str.startswith(orig)) &\n",
    "                            (fs['icao_dest'].str.startswith(dest))],'homo').append(\n",
    "             dataframe_results(fs.loc[(fs['scenario']==6) & \n",
    "                            (fs['icao_orig'].str.startswith(orig)) &\n",
    "                            (fs['icao_dest'].str.startswith(dest))],'FAB')))\n",
    "\n",
    "u.plot_results_line(df[['case','buffer min','avg dist nm','avg crco', 'avg time min', 'avg fuel kg']],'case',orig+\"_\"+dest)\n",
    "'''\n",
    "\n",
    "print(\"A\")"
   ]
  },
  {
   "cell_type": "code",
   "execution_count": null,
   "metadata": {
    "collapsed": true
   },
   "outputs": [],
   "source": [
    "drev_0, num_runs_0=mysql_vista.read_revenue_per_NAS(scenario_id=0,other_condition=\"fo.FPG_run>=11\")\n",
    "\n"
   ]
  },
  {
   "cell_type": "code",
   "execution_count": null,
   "metadata": {
    "collapsed": true
   },
   "outputs": [],
   "source": [
    "drev_4, drev_4_avg=mysql_vista.read_revenue_per_NAS(scenario_id=4,other_condition=\"fo.FPG_run>=11\")"
   ]
  },
  {
   "cell_type": "code",
   "execution_count": null,
   "metadata": {
    "collapsed": true
   },
   "outputs": [],
   "source": [
    "drev_5, drev_5_avg=mysql_vista.read_revenue_per_NAS(scenario_id=5,other_condition=\"fo.FPG_run>=11\")"
   ]
  },
  {
   "cell_type": "code",
   "execution_count": null,
   "metadata": {
    "collapsed": true
   },
   "outputs": [],
   "source": [
    "rev_0=drev_0.T\n",
    "rev_0.columns = rev_0.iloc[0]\n",
    "rev_0=rev_0.reindex(rev_0.index.drop('nas_sid'))\n",
    "rev_0.rename(columns={'index':'scenario'})\n",
    "rev_0['scenario']=\"baseline\"\n",
    "rev_0.reset_index(inplace=True)\n",
    "\n",
    "rev_4=drev_4.T\n",
    "rev_4.columns = rev_4.iloc[0]\n",
    "rev_4=rev_4.reindex(rev_4.index.drop('nas_sid'))\n",
    "rev_4.rename(columns={'index':'scenario'})\n",
    "rev_4['scenario']=\"low fuel\"\n",
    "rev_4.reset_index(inplace=True)\n",
    "\n",
    "rev_5=drev_5.T\n",
    "rev_5.columns = rev_5.iloc[0]\n",
    "rev_5=rev_5.reindex(rev_5.index.drop('nas_sid'))\n",
    "rev_5.rename(columns={'index':'scenario'})\n",
    "rev_5['scenario']=\"high fuel\"\n",
    "rev_5.reset_index(inplace=True)\n",
    "\n"
   ]
  },
  {
   "cell_type": "code",
   "execution_count": null,
   "metadata": {
    "collapsed": true,
    "scrolled": false
   },
   "outputs": [],
   "source": [
    "drev_0, num_runs_0=mysql_vista.read_revenue_per_NAS(scenario_id=0,other_condition=\"fo.FPG_run>=11\")\n",
    "importlib.reload(u)\n",
    "drev=rev_0.append(rev_4).append(rev_5).drop([\"index\"],axis=1)\n",
    "filter_col = [x for x in drev.columns if (not x.startswith('O')) and (not x.startswith('U')) \n",
    "              and (not x.startswith('D')) and (not x.startswith('B')) and (not x.startswith('G'))\n",
    "              and (not x.startswith('H')) and (len(x)>1) or x==\"GC\"]\n",
    "\n",
    "#u.plot_results_radial(d[['scenario','LE','EG','AZ','LF','LP']],case_column=\"scenario\",vmin=0.9)\n",
    "u.plot_results_radial(drev[filter_col],case_column=\"scenario\",vmin=0.95)"
   ]
  },
  {
   "cell_type": "code",
   "execution_count": null,
   "metadata": {
    "collapsed": true
   },
   "outputs": [],
   "source": [
    "importlib.reload(u)\n",
    "drev=rev_0.append(rev_4).append(rev_5).drop([\"index\"],axis=1)\n",
    "filter_col = [x for x in drev.columns if (not x.startswith('O')) and (not x.startswith('U')) \n",
    "              and (not x.startswith('D')) and (not x.startswith('B')) and (not x.startswith('G'))\n",
    "              and (not x.startswith('H')) and (len(x)>1) or x==\"GC\"]\n",
    "\n",
    "#u.plot_results_radial(d[['scenario','LE','EG','AZ','LF','LP']],case_column=\"scenario\",vmin=0.9)\n",
    "u.plot_results_radial(drev[filter_col],case_column=\"scenario\",vmin=0.95)"
   ]
  },
  {
   "cell_type": "code",
   "execution_count": null,
   "metadata": {
    "collapsed": true
   },
   "outputs": [],
   "source": []
  },
  {
   "cell_type": "code",
   "execution_count": null,
   "metadata": {
    "collapsed": true
   },
   "outputs": [],
   "source": []
  },
  {
   "cell_type": "code",
   "execution_count": null,
   "metadata": {
    "collapsed": true
   },
   "outputs": [],
   "source": [
    "drev_4.head()"
   ]
  },
  {
   "cell_type": "code",
   "execution_count": null,
   "metadata": {
    "collapsed": true
   },
   "outputs": [],
   "source": [
    "num_runs_0.loc[0].item()"
   ]
  },
  {
   "cell_type": "code",
   "execution_count": null,
   "metadata": {
    "collapsed": true
   },
   "outputs": [],
   "source": [
    "drev_0_avg = drev_0.copy()\n",
    "drev_0_avg['crco_kEUR']=drev_0_avg['crco_kEUR'].apply(lambda x: x/num_runs_0.loc[0].item())\n",
    "drev_0_avg.head()"
   ]
  },
  {
   "cell_type": "code",
   "execution_count": null,
   "metadata": {
    "collapsed": true
   },
   "outputs": [],
   "source": []
  },
  {
   "cell_type": "code",
   "execution_count": null,
   "metadata": {
    "collapsed": true
   },
   "outputs": [],
   "source": []
  },
  {
   "cell_type": "code",
   "execution_count": null,
   "metadata": {
    "collapsed": true
   },
   "outputs": [],
   "source": []
  },
  {
   "cell_type": "code",
   "execution_count": null,
   "metadata": {
    "collapsed": true
   },
   "outputs": [],
   "source": []
  },
  {
   "cell_type": "code",
   "execution_count": null,
   "metadata": {
    "collapsed": true
   },
   "outputs": [],
   "source": [
    "t=fs.loc[(fs['scenario']==6) & \n",
    "                            (fs['icao_orig'].str.startswith(orig)) &\n",
    "                            (fs['icao_dest'].str.startswith(dest))]"
   ]
  },
  {
   "cell_type": "code",
   "execution_count": null,
   "metadata": {
    "collapsed": true
   },
   "outputs": [],
   "source": []
  },
  {
   "cell_type": "code",
   "execution_count": null,
   "metadata": {
    "collapsed": true
   },
   "outputs": [],
   "source": []
  },
  {
   "cell_type": "code",
   "execution_count": null,
   "metadata": {
    "collapsed": true
   },
   "outputs": [],
   "source": []
  },
  {
   "cell_type": "code",
   "execution_count": null,
   "metadata": {
    "collapsed": true
   },
   "outputs": [],
   "source": [
    "doc=[31147.5,\n",
    "29284.89,\n",
    "24990.420000000002,\n",
    "26545.96,\n",
    "30156.62,\n",
    "29443.96,\n",
    "30245.23,\n",
    "28772.67,\n",
    "32318.649999999998,\n",
    "29253.239999999998,\n",
    "29687.78,\n",
    "28195.3,\n",
    "28534.91,\n",
    "29045.15,\n",
    "34186.4,\n",
    "31433.36,\n",
    "32232.489999999998,\n",
    "27265.43]\n",
    "print(doc)\n",
    "print(np.round(100*u.intensity_function(doc,2000),2))\n",
    "\n",
    "doc=[14075.699999999999,\n",
    "12810.96,\n",
    "12820.32,\n",
    "14982.23,\n",
    "14658.82,\n",
    "14599.31,\n",
    "14840.75]\n",
    "print(doc)\n",
    "print(np.round(100*u.intensity_function(doc,2000),2))\n"
   ]
  },
  {
   "cell_type": "code",
   "execution_count": null,
   "metadata": {
    "collapsed": true
   },
   "outputs": [],
   "source": [
    "df"
   ]
  },
  {
   "cell_type": "code",
   "execution_count": null,
   "metadata": {
    "collapsed": true
   },
   "outputs": [],
   "source": [
    "fs.loc[(fs['scenario']==5) & (fs['num_options']==1)]['schedule_buffer_min'].mean()"
   ]
  },
  {
   "cell_type": "code",
   "execution_count": null,
   "metadata": {
    "collapsed": true
   },
   "outputs": [],
   "source": [
    "fs.loc[(fs['scenario']==0) & (fs['num_options']==1)]['schedule_buffer_min'].mean()"
   ]
  },
  {
   "cell_type": "code",
   "execution_count": null,
   "metadata": {
    "collapsed": true
   },
   "outputs": [],
   "source": [
    "fs.loc[(fs['scenario']==4) & (fs['num_options']==1)]['schedule_buffer_min'].mean()"
   ]
  },
  {
   "cell_type": "code",
   "execution_count": null,
   "metadata": {
    "collapsed": true
   },
   "outputs": [],
   "source": [
    "len(fs.loc[(fs['scenario']==0) & (fs['num_options']==4)]['schedule_buffer_min'])"
   ]
  },
  {
   "cell_type": "code",
   "execution_count": null,
   "metadata": {
    "collapsed": true
   },
   "outputs": [],
   "source": [
    "len(fs.loc[(fs['scenario']==0) & (fs['num_options']==1)]['schedule_buffer_min'])"
   ]
  },
  {
   "cell_type": "code",
   "execution_count": null,
   "metadata": {
    "collapsed": true
   },
   "outputs": [],
   "source": []
  },
  {
   "cell_type": "code",
   "execution_count": null,
   "metadata": {
    "collapsed": true
   },
   "outputs": [],
   "source": [
    "'''\n",
    "f=plt.figure(figsize=(200,10))\n",
    "\n",
    "\n",
    "fs.loc[((fs['scenario']==0) & (fs['schedule_buffer_min']>-50)\n",
    "       & (fs['schedule_buffer_min']<120)),['schedule_buffer_min']].hist(alpha=0.5, bins=100, axes=f.get_axes())#figsize=(20,10))\n",
    "fs.loc[((fs['scenario']==4) & (fs['schedule_buffer_min']>-50)\n",
    "       & (fs['schedule_buffer_min']<120)),['schedule_buffer_min']].hist(alpha=0.5, bins=100)\n",
    "fs.loc[((fs['scenario']==5) & (fs['schedule_buffer_min']>-50)\n",
    "       & (fs['schedule_buffer_min']<120)),['schedule_buffer_min']].hist(alpha=0.5, bins=100)\n",
    "'''\n",
    "#fs.hist(column='schedule_buffer_min', bins=100, by='scenario', sharex=True, sharey=True)\n",
    "'''\n",
    "#fs.loc[(fs['scenario']==4,'schedule_buffer_min'].hist(alpha=0.5, bins=100)\n",
    "#fs.loc[(fs['scenario']==5,'schedule_buffer_min'].hist(alpha=0.5, bins=100)\n",
    "#plt.figure(figsize=(20,100))\n",
    "#plt.gcf().clear()\n",
    "\n",
    "'''\n",
    "#plt.show()\n",
    "\n",
    "min_buffer=-30\n",
    "max_buffer=100\n",
    "\n",
    "f=plt.figure(figsize=(20,10))\n",
    "\n",
    "\n",
    "#count, division = np.histogram(fs.loc[((fs['scenario']==0) & (fs['schedule_buffer_min']>min_buffer)\n",
    "#       & (fs['schedule_buffer_min']<max_buffer)),['schedule_buffer_min']],bins=100)\n",
    "\n",
    "plt.hist(fs.loc[((fs['scenario']==0) & (fs['schedule_buffer_min']>min_buffer)\n",
    "       & (fs['schedule_buffer_min']<max_buffer)),'schedule_buffer_min'])\n",
    "\n",
    "plt.hist(fs.loc[((fs['scenario']==4) & (fs['schedule_buffer_min']>min_buffer)\n",
    "       & (fs['schedule_buffer_min']<max_buffer)),'schedule_buffer_min'],bins=100,alpha=0.5)\n",
    "\n",
    "\n",
    "#plt.plot([(a+b)/2 for a, b in zip(division, division[1:])],count/sum(count))\n",
    "\n",
    "count, division = np.histogram(fs.loc[((fs['scenario']==4) & (fs['schedule_buffer_min']>min_buffer)\n",
    "       & (fs['schedule_buffer_min']<max_buffer)),['schedule_buffer_min']],bins=100)\n",
    "#plt.plot([(a+b)/2 for a, b in zip(division, division[1:])],count/sum(count))\n",
    "\n",
    "count, division = np.histogram(fs.loc[((fs['scenario']==5) & (fs['schedule_buffer_min']>min_buffer)\n",
    "       & (fs['schedule_buffer_min']<max_buffer)),['schedule_buffer_min']],bins=100)\n",
    "#plt.plot([(a+b)/2 for a, b in zip(division, division[1:])],count/sum(count))\n",
    "\n",
    "#plt.legend(['a','b','c'])\n",
    "\n",
    "plt.show()\n",
    "\n",
    "\n"
   ]
  },
  {
   "cell_type": "code",
   "execution_count": null,
   "metadata": {
    "collapsed": true
   },
   "outputs": [],
   "source": [
    "min_buffer=-30\n",
    "max_buffer=100\n",
    "\n",
    "A = fs.loc[((fs['scenario']==0) & (fs['schedule_buffer_min']>min_buffer)\n",
    "       & (fs['schedule_buffer_min']<max_buffer)),'schedule_buffer_min'].tolist()\n",
    "\n",
    "B = fs.loc[((fs['scenario']==4) & (fs['schedule_buffer_min']>min_buffer)\n",
    "       & (fs['schedule_buffer_min']<max_buffer)),'schedule_buffer_min'].tolist()\n",
    "\n",
    "C = fs.loc[((fs['scenario']==5) & (fs['schedule_buffer_min']>min_buffer)\n",
    "       & (fs['schedule_buffer_min']<max_buffer)),'schedule_buffer_min'].tolist()\n",
    "\n",
    "\n",
    "fig=plt.figure(figsize=(20,10))\n",
    "#ax = plt.axes()\n",
    "#plt.hold(True)\n",
    "\n",
    "# first boxplot pair\n",
    "bp = plt.boxplot(A, positions = [1], widths = 0.6)\n",
    "#plt.setBoxColors(bp)\n",
    "\n",
    "# second boxplot pair\n",
    "bp = plt.boxplot(B, positions = [2], widths = 0.6)\n",
    "#setBoxColors(bp)\n",
    "\n",
    "# thrid boxplot pair\n",
    "bp = plt.boxplot(C, positions = [3], widths = 0.6)\n",
    "#setBoxColors(bp)\n",
    "\n",
    "'''\n",
    "# set axes limits and labels\n",
    "xlim(0,9)\n",
    "ylim(0,9)\n",
    "ax.set_xticklabels(['A', 'B', 'C'])\n",
    "ax.set_xticks([1.5, 4.5, 7.5])\n",
    "\n",
    "# draw temporary red and blue lines and use them to create a legend\n",
    "hB, = plot([1,1],'b-')\n",
    "hR, = plot([1,1],'r-')\n",
    "legend((hB, hR),('Apples', 'Oranges'))\n",
    "hB.set_visible(False)\n",
    "hR.set_visible(False)\n",
    "\n",
    "savefig('boxcompare.png')\n",
    "'''\n",
    "plt.show()\n"
   ]
  },
  {
   "cell_type": "code",
   "execution_count": null,
   "metadata": {
    "collapsed": true
   },
   "outputs": [],
   "source": []
  },
  {
   "cell_type": "code",
   "execution_count": null,
   "metadata": {
    "collapsed": true
   },
   "outputs": [],
   "source": [
    "count, division = np.histogram(fs['schedule_buffer_min'],bins=100)\n"
   ]
  },
  {
   "cell_type": "code",
   "execution_count": null,
   "metadata": {
    "collapsed": true
   },
   "outputs": [],
   "source": [
    "\n",
    "len([(a+b)/2 for a, b in zip(division, division[1:])])"
   ]
  },
  {
   "cell_type": "code",
   "execution_count": null,
   "metadata": {
    "collapsed": true
   },
   "outputs": [],
   "source": []
  },
  {
   "cell_type": "code",
   "execution_count": null,
   "metadata": {
    "collapsed": true
   },
   "outputs": [],
   "source": []
  },
  {
   "cell_type": "code",
   "execution_count": null,
   "metadata": {
    "collapsed": true
   },
   "outputs": [],
   "source": [
    "\n",
    "plt.style.use('seaborn-deep')\n",
    "\n",
    "x = np.random.normal(1, 2, 5000)\n",
    "y = np.random.normal(-1, 3, 5000)\n",
    "data = np.vstack([x, y]).T\n",
    "bins = np.linspace(-10, 10, 30)\n",
    "\n",
    "plt.hist(data, bins, alpha=0.7, label=['x', 'y'])\n",
    "plt.legend(loc='upper right')\n",
    "plt.show()"
   ]
  },
  {
   "cell_type": "code",
   "execution_count": null,
   "metadata": {
    "collapsed": true
   },
   "outputs": [],
   "source": []
  },
  {
   "cell_type": "code",
   "execution_count": null,
   "metadata": {
    "collapsed": true
   },
   "outputs": [],
   "source": [
    "fp_schedules=mysql_vista.read_historical_schedules_with_block_time()"
   ]
  },
  {
   "cell_type": "code",
   "execution_count": null,
   "metadata": {
    "collapsed": true
   },
   "outputs": [],
   "source": [
    "fp_options=mysql_vista.read_fp_options()#\"WHERE fp_generator_run=2\")"
   ]
  },
  {
   "cell_type": "code",
   "execution_count": null,
   "metadata": {
    "collapsed": true
   },
   "outputs": [],
   "source": [
    "fp_options['fp_generator_run'].drop_duplicates()"
   ]
  },
  {
   "cell_type": "code",
   "execution_count": null,
   "metadata": {
    "collapsed": true
   },
   "outputs": [],
   "source": [
    "fp_options_clean=fp_options[~fp_options['tow'].isnull()]\n",
    "fp_options_clean.reset_index(drop=True)\n",
    "print(len(fp_options))\n",
    "print(len(fp_options_clean))"
   ]
  },
  {
   "cell_type": "code",
   "execution_count": null,
   "metadata": {
    "collapsed": true
   },
   "outputs": [],
   "source": [
    "fp_options_clean.columns"
   ]
  },
  {
   "cell_type": "code",
   "execution_count": null,
   "metadata": {
    "collapsed": true
   },
   "outputs": [],
   "source": [
    "def apply_fuel_crco_cost(dfp,fuel_cost,crco=1):\n",
    "    fp = dfp.copy()\n",
    "    fp['fuel_cost'] = fp['fp_fuel_kg'] * fuel_cost\n",
    "    fp['crco_cost'] = fp['crco_cost'] *crco\n",
    "    fp['doc'] = fp['fuel_cost'] + fp['crco_cost']\n",
    "    return fp\n",
    "\n",
    "\n",
    "fp_fnom = apply_fuel_crco_cost(fp_options_clean,0.5)\n",
    "fp_flow = apply_fuel_crco_cost(fp_options_clean,0.1)\n",
    "fp_fhigh = apply_fuel_crco_cost(fp_options_clean,1)\n",
    "fp_fvhigh = apply_fuel_crco_cost(fp_options_clean,2)\n",
    "fp_crcohigh = apply_fuel_crco_cost(fp_options_clean,0.5,2)\n",
    "\n"
   ]
  },
  {
   "cell_type": "code",
   "execution_count": null,
   "metadata": {
    "collapsed": true
   },
   "outputs": [],
   "source": [
    "def intensity_function(cs):\n",
    "        smoothness_fp=1000\n",
    "        if len(cs)>1:\n",
    "            st = np.exp(-(np.array(cs)-min(cs))/smoothness_fp)\n",
    "            ints = st/st.sum()\n",
    "        else:\n",
    "            ints = np.array([1.])\n",
    "        return ints\n",
    "    \n",
    "def choose_option(cs):\n",
    "    ints=intensity_function(cs)\n",
    "    sel=ints==np.random.choice(ints,1,p=ints)\n",
    "    \n",
    "    return sel\n",
    "\n",
    "def select_flights(df):\n",
    "    df['selected'] = df.groupby(['schedule_id','fp_generator_run'])['doc'].transform(choose_option)\n",
    "    df_selected = df.loc[df['selected']==1]\n",
    "    return df_selected\n",
    "\n",
    "fp_sel_fnom = select_flights(fp_fnom)\n",
    "fp_sel_flow = select_flights(fp_flow)\n",
    "fp_sel_fhigh = select_flights(fp_fhigh)\n",
    "fp_sel_fvhigh = select_flights(fp_fvhigh)\n",
    "fp_sel_fcrcohigh = select_flights(fp_crcohigh)\n",
    "    \n",
    "    \n",
    "#fp_options_clean['prob_selected']=fp_options_clean.groupby(['schedule_id','fp_generator_run'])['doc'].transform(intensity_function)\n"
   ]
  },
  {
   "cell_type": "code",
   "execution_count": null,
   "metadata": {
    "collapsed": true
   },
   "outputs": [],
   "source": [
    "len(fp_sel_fnom)"
   ]
  },
  {
   "cell_type": "code",
   "execution_count": null,
   "metadata": {
    "collapsed": true
   },
   "outputs": [],
   "source": [
    "def add_schedules_compute_buffer(df, ds):\n",
    "    df = pd.merge(df, ds, left_on=\"schedule_id\", right_on=\"nid\", how=\"inner\", suffixes=(\"_fp\",\"_s\"))\n",
    "    df['buffer'] = df['block_time']-df['fp_min']\n",
    "    return df\n",
    "\n",
    "fp_sched_fnom = add_schedules_compute_buffer(fp_sel_fnom,fp_schedules)\n",
    "fp_sched_flow = add_schedules_compute_buffer(fp_sel_flow,fp_schedules)\n",
    "fp_sched_fhigh = add_schedules_compute_buffer(fp_sel_fhigh,fp_schedules)\n",
    "fp_sched_fvhigh = add_schedules_compute_buffer(fp_sel_fvhigh,fp_schedules)\n",
    "fp_sched_fcrcohigh = add_schedules_compute_buffer(fp_sel_fcrcohigh,fp_schedules)\n"
   ]
  },
  {
   "cell_type": "code",
   "execution_count": null,
   "metadata": {
    "collapsed": true
   },
   "outputs": [],
   "source": []
  },
  {
   "cell_type": "code",
   "execution_count": null,
   "metadata": {
    "collapsed": true
   },
   "outputs": [],
   "source": []
  },
  {
   "cell_type": "code",
   "execution_count": null,
   "metadata": {
    "collapsed": true
   },
   "outputs": [],
   "source": [
    "df=pd.merge(pd.merge(pd.merge(fp_sched_fnom.groupby('fp_generator_run', as_index=False)['buffer'].mean(),\n",
    "fp_sched_fnom.groupby('fp_generator_run', as_index=False)['fp_distance_nm'].mean(), on=\"fp_generator_run\"),\n",
    "fp_sched_fnom.groupby('fp_generator_run', as_index=False)['crco_cost'].mean(), on=\"fp_generator_run\"),\n",
    "(fp_sched_fnom.groupby('fp_generator_run', as_index=False)['crco_cost'].sum()).rename(columns={'crco_cost': 'total crco M EUR'}),\n",
    "on=\"fp_generator_run\")\n",
    "df['total crco M EUR']=df['total crco M EUR']/1000000\n",
    "\n",
    "u.plot_results_line(df,'fp_generator_run')"
   ]
  },
  {
   "cell_type": "code",
   "execution_count": null,
   "metadata": {
    "collapsed": true
   },
   "outputs": [],
   "source": [
    "importlib.reload(u)\n",
    "\n",
    "def dataframe_results(df,case):\n",
    "    dfresults = pd.DataFrame([{'case':case,'buffer':df['buffer'].mean(),\n",
    "                    'avg dist nm': df['fp_distance_nm'].mean(),\n",
    "                    'total dist nm': df['fp_distance_nm'].sum()/1000000,\n",
    "                    'avg crco': df['crco_cost'].mean(),\n",
    "                    'total crco M EUR':df['crco_cost'].sum()/1000000,\n",
    "                    'avg time min': df['fp_min'].mean(),\n",
    "                    'total time M min': df['fp_min'].sum()/1000000,\n",
    "                    'avg fuel kg': df['fp_fuel_kg'].mean()}])\n",
    "    \n",
    "    return dfresults\n",
    "\n",
    "fp_sched_fnom = add_schedules_compute_buffer(fp_sel_fnom,fp_schedules)\n",
    "fp_sched_flow = add_schedules_compute_buffer(fp_sel_flow,fp_schedules)\n",
    "fp_sched_fhigh = add_schedules_compute_buffer(fp_sel_fhigh,fp_schedules)\n",
    "fp_sched_fvhigh = add_schedules_compute_buffer(fp_sel_fvhigh,fp_schedules)\n",
    "fp_sched_fcrcohigh = add_schedules_compute_buffer(fp_sel_fcrcohigh,fp_schedules)\n",
    "\n",
    "\n",
    "df=dataframe_results(fp_sched_fnom,'baseline').append(\n",
    "             dataframe_results(fp_sched_flow,'low fuel').append(\n",
    "             dataframe_results(fp_sched_fhigh,'high fuel').append(\n",
    "             dataframe_results(fp_sched_fvhigh,'very high fuel'))))\n",
    "\n",
    "u.plot_results_line(df,'case')\n",
    "\n",
    "u.plot_results_radial(df,'case',vmin=0.9)\n",
    "\n",
    "\n",
    "df = dataframe_results(fp_sched_fnom,'baseline').append(\n",
    "             dataframe_results(fp_sched_fcrcohigh,'crco high'))\n",
    "u.plot_results_line(df,'case')"
   ]
  },
  {
   "cell_type": "code",
   "execution_count": null,
   "metadata": {
    "collapsed": true
   },
   "outputs": [],
   "source": [
    "df"
   ]
  },
  {
   "cell_type": "code",
   "execution_count": null,
   "metadata": {
    "collapsed": true
   },
   "outputs": [],
   "source": [
    "importlib.reload(u)\n",
    "\n",
    "u.plot_results_radial(df,'case')\n",
    "\n",
    "df"
   ]
  },
  {
   "cell_type": "code",
   "execution_count": null,
   "metadata": {
    "collapsed": true
   },
   "outputs": [],
   "source": []
  },
  {
   "cell_type": "code",
   "execution_count": null,
   "metadata": {
    "collapsed": true
   },
   "outputs": [],
   "source": [
    "fp_opt_sel_schedule['buffer'].mean()"
   ]
  },
  {
   "cell_type": "code",
   "execution_count": null,
   "metadata": {
    "collapsed": true
   },
   "outputs": [],
   "source": [
    "df.head()"
   ]
  },
  {
   "cell_type": "code",
   "execution_count": null,
   "metadata": {
    "collapsed": true
   },
   "outputs": [],
   "source": []
  },
  {
   "cell_type": "code",
   "execution_count": null,
   "metadata": {
    "collapsed": true
   },
   "outputs": [],
   "source": []
  },
  {
   "cell_type": "code",
   "execution_count": null,
   "metadata": {
    "collapsed": true
   },
   "outputs": [],
   "source": [
    "df = pd.DataFrame([{'case':'scenario 1','buffer':22.5,'crco':1367,'distance':3526,'other':34},\n",
    "                   {'case':'scenario 2','buffer':26.6,'crco':1561,'distance':1363,'other':63}])"
   ]
  },
  {
   "cell_type": "code",
   "execution_count": null,
   "metadata": {
    "collapsed": true
   },
   "outputs": [],
   "source": []
  },
  {
   "cell_type": "code",
   "execution_count": null,
   "metadata": {
    "collapsed": true
   },
   "outputs": [],
   "source": []
  },
  {
   "cell_type": "code",
   "execution_count": null,
   "metadata": {
    "collapsed": true
   },
   "outputs": [],
   "source": []
  },
  {
   "cell_type": "code",
   "execution_count": null,
   "metadata": {
    "collapsed": true
   },
   "outputs": [],
   "source": []
  },
  {
   "cell_type": "code",
   "execution_count": null,
   "metadata": {
    "collapsed": true
   },
   "outputs": [],
   "source": []
  },
  {
   "cell_type": "code",
   "execution_count": null,
   "metadata": {
    "collapsed": true
   },
   "outputs": [],
   "source": [
    "def radar_factory(num_vars, frame='circle'):\n",
    "    \"\"\"Create a radar chart with `num_vars` axes.\n",
    "\n",
    "    This function creates a RadarAxes projection and registers it.\n",
    "\n",
    "    Parameters\n",
    "    ----------\n",
    "    num_vars : int\n",
    "        Number of variables for radar chart.\n",
    "    frame : {'circle' | 'polygon'}\n",
    "        Shape of frame surrounding axes.\n",
    "\n",
    "    \"\"\"\n",
    "    # calculate evenly-spaced axis angles\n",
    "    theta = np.linspace(0, 2*np.pi, num_vars, endpoint=False)\n",
    "    # rotate theta such that the first axis is at the top\n",
    "    theta += np.pi/2\n",
    "\n",
    "    def draw_poly_patch(self):\n",
    "        verts = unit_poly_verts(theta)\n",
    "        return plt.Polygon(verts, closed=True, edgecolor='k')\n",
    "\n",
    "    def draw_circle_patch(self):\n",
    "        # unit circle centered on (0.5, 0.5)\n",
    "        return plt.Circle((0.5, 0.5), 0.5)\n",
    "\n",
    "    patch_dict = {'polygon': draw_poly_patch, 'circle': draw_circle_patch}\n",
    "    if frame not in patch_dict:\n",
    "        raise ValueError('unknown value for `frame`: %s' % frame)\n",
    "\n",
    "    class RadarAxes(PolarAxes):\n",
    "\n",
    "        name = 'radar'\n",
    "        # use 1 line segment to connect specified points\n",
    "        RESOLUTION = 1\n",
    "        # define draw_frame method\n",
    "        draw_patch = patch_dict[frame]\n",
    "\n",
    "        def fill(self, *args, **kwargs):\n",
    "            \"\"\"Override fill so that line is closed by default\"\"\"\n",
    "            closed = kwargs.pop('closed', True)\n",
    "            return super(RadarAxes, self).fill(closed=closed, *args, **kwargs)\n",
    "\n",
    "        def plot(self, *args, **kwargs):\n",
    "            \"\"\"Override plot so that line is closed by default\"\"\"\n",
    "            lines = super(RadarAxes, self).plot(*args, **kwargs)\n",
    "            for line in lines:\n",
    "                self._close_line(line)\n",
    "\n",
    "        def _close_line(self, line):\n",
    "            x, y = line.get_data()\n",
    "            # FIXME: markers at x[0], y[0] get doubled-up\n",
    "            if x[0] != x[-1]:\n",
    "                x = np.concatenate((x, [x[0]]))\n",
    "                y = np.concatenate((y, [y[0]]))\n",
    "                line.set_data(x, y)\n",
    "\n",
    "        def set_varlabels(self, labels):\n",
    "            self.set_thetagrids(np.degrees(theta), labels)\n",
    "\n",
    "        def _gen_axes_patch(self):\n",
    "            return self.draw_patch()\n",
    "\n",
    "        def _gen_axes_spines(self):\n",
    "            if frame == 'circle':\n",
    "                return PolarAxes._gen_axes_spines(self)\n",
    "            # The following is a hack to get the spines (i.e. the axes frame)\n",
    "            # to draw correctly for a polygon frame.\n",
    "\n",
    "            # spine_type must be 'left', 'right', 'top', 'bottom', or `circle`.\n",
    "            spine_type = 'circle'\n",
    "            verts = unit_poly_verts(theta)\n",
    "            # close off polygon by repeating first vertex\n",
    "            verts.append(verts[0])\n",
    "            path = Path(verts)\n",
    "\n",
    "            spine = Spine(self, spine_type, path)\n",
    "            spine.set_transform(self.transAxes)\n",
    "            return {'polar': spine}\n",
    "\n",
    "    register_projection(RadarAxes)\n",
    "    return theta\n",
    "\n",
    "\n",
    "def unit_poly_verts(theta):\n",
    "    \"\"\"Return vertices of polygon for subplot axes.\n",
    "\n",
    "    This polygon is circumscribed by a unit circle centered at (0.5, 0.5)\n",
    "    \"\"\"\n",
    "    x0, y0, r = [0.5] * 3\n",
    "    verts = [(r*np.cos(t) + x0, r*np.sin(t) + y0) for t in theta]\n",
    "    return verts\n",
    "\n",
    "\n",
    "def example_data():\n",
    "    # The following data is from the Denver Aerosol Sources and Health study.\n",
    "    # See  doi:10.1016/j.atmosenv.2008.12.017\n",
    "    #\n",
    "    # The data are pollution source profile estimates for five modeled\n",
    "    # pollution sources (e.g., cars, wood-burning, etc) that emit 7-9 chemical\n",
    "    # species. The radar charts are experimented with here to see if we can\n",
    "    # nicely visualize how the modeled source profiles change across four\n",
    "    # scenarios:\n",
    "    #  1) No gas-phase species present, just seven particulate counts on\n",
    "    #     Sulfate\n",
    "    #     Nitrate\n",
    "    #     Elemental Carbon (EC)\n",
    "    #     Organic Carbon fraction 1 (OC)\n",
    "    #     Organic Carbon fraction 2 (OC2)\n",
    "    #     Organic Carbon fraction 3 (OC3)\n",
    "    #     Pyrolized Organic Carbon (OP)\n",
    "    #  2)Inclusion of gas-phase specie carbon monoxide (CO)\n",
    "    #  3)Inclusion of gas-phase specie ozone (O3).\n",
    "    #  4)Inclusion of both gas-phase species is present...\n",
    "    data = [\n",
    "        ['Sulfate', 'Nitrate', 'EC', 'OC1', 'OC2', 'OC3', 'OP', 'CO', 'O3'],\n",
    "        ('Basecase', [\n",
    "            [0.88, 0.01, 0.03, 0.03, 0.00, 0.06, 0.01, 0.00, 0.00],\n",
    "            [0.07, 0.95, 0.04, 0.05, 0.00, 0.02, 0.01, 0.00, 0.00],\n",
    "            [0.01, 0.02, 0.85, 0.19, 0.05, 0.10, 0.00, 0.00, 0.00],\n",
    "            [0.02, 0.01, 0.07, 0.01, 0.21, 0.12, 0.98, 0.00, 0.00],\n",
    "            [0.01, 0.01, 0.02, 0.71, 0.74, 0.70, 0.00, 0.00, 0.00]]),\n",
    "        ('With CO', [\n",
    "            [0.88, 0.02, 0.02, 0.02, 0.00, 0.05, 0.00, 0.05, 0.00],\n",
    "            [0.08, 0.94, 0.04, 0.02, 0.00, 0.01, 0.12, 0.04, 0.00],\n",
    "            [0.01, 0.01, 0.79, 0.10, 0.00, 0.05, 0.00, 0.31, 0.00],\n",
    "            [0.00, 0.02, 0.03, 0.38, 0.31, 0.31, 0.00, 0.59, 0.00],\n",
    "            [0.02, 0.02, 0.11, 0.47, 0.69, 0.58, 0.88, 0.00, 0.00]]),\n",
    "        ('With O3', [\n",
    "            [0.89, 0.01, 0.07, 0.00, 0.00, 0.05, 0.00, 0.00, 0.03],\n",
    "            [0.07, 0.95, 0.05, 0.04, 0.00, 0.02, 0.12, 0.00, 0.00],\n",
    "            [0.01, 0.02, 0.86, 0.27, 0.16, 0.19, 0.00, 0.00, 0.00],\n",
    "            [0.01, 0.03, 0.00, 0.32, 0.29, 0.27, 0.00, 0.00, 0.95],\n",
    "            [0.02, 0.00, 0.03, 0.37, 0.56, 0.47, 0.87, 0.00, 0.00]]),\n",
    "        ('CO & O3', [\n",
    "            [0.87, 0.01, 0.08, 0.00, 0.00, 0.04, 0.00, 0.00, 0.01],\n",
    "            [0.09, 0.95, 0.02, 0.03, 0.00, 0.01, 0.13, 0.06, 0.00],\n",
    "            [0.01, 0.02, 0.71, 0.24, 0.13, 0.16, 0.00, 0.50, 0.00],\n",
    "            [0.01, 0.03, 0.00, 0.28, 0.24, 0.23, 0.00, 0.44, 0.88],\n",
    "            [0.02, 0.00, 0.18, 0.45, 0.64, 0.55, 0.86, 0.00, 0.16]])\n",
    "    ]\n",
    "    return data\n",
    "\n",
    "\n",
    "\n",
    "N = 9\n",
    "theta = radar_factory(N, frame='polygon')\n",
    "\n",
    "data = example_data()\n",
    "spoke_labels = data.pop(0)\n",
    "\n",
    "fig, axes = plt.subplots(figsize=(9, 9), nrows=2, ncols=2,\n",
    "                         subplot_kw=dict(projection='radar'))\n",
    "fig.subplots_adjust(wspace=0.25, hspace=0.20, top=0.85, bottom=0.05)\n",
    "\n",
    "colors = ['b', 'r', 'g', 'm', 'y']\n",
    "# Plot the four cases from the example data on separate axes\n",
    "for ax, (title, case_data) in zip(axes.flatten(), data):\n",
    "    ax.set_rgrids([0.2, 0.4, 0.6, 0.8])\n",
    "    ax.set_title(title, weight='bold', size='medium', position=(0.5, 1.1),\n",
    "                 horizontalalignment='center', verticalalignment='center')\n",
    "    for d, color in zip(case_data, colors):\n",
    "        ax.plot(theta, d, color=color)\n",
    "        ax.fill(theta, d, facecolor=color, alpha=0.25)\n",
    "    ax.set_varlabels(spoke_labels)\n",
    "\n",
    "# add legend relative to top-left plot\n",
    "ax = axes[0, 0]\n",
    "labels = ('Factor 1', 'Factor 2', 'Factor 3', 'Factor 4', 'Factor 5')\n",
    "legend = ax.legend(labels, loc=(0.9, .95),\n",
    "                   labelspacing=0.1, fontsize='small')\n",
    "\n",
    "fig.text(0.5, 0.965, '5-Factor Solution Profiles Across Four Scenarios',\n",
    "         horizontalalignment='center', color='black', weight='bold',\n",
    "         size='large')\n",
    "\n",
    "plt.show()"
   ]
  },
  {
   "cell_type": "code",
   "execution_count": null,
   "metadata": {
    "collapsed": true
   },
   "outputs": [],
   "source": [
    "df"
   ]
  },
  {
   "cell_type": "code",
   "execution_count": null,
   "metadata": {
    "collapsed": true
   },
   "outputs": [],
   "source": [
    "df2 = df.drop('case',axis=1).copy()\n"
   ]
  },
  {
   "cell_type": "code",
   "execution_count": null,
   "metadata": {
    "collapsed": true
   },
   "outputs": [],
   "source": [
    "df2['buffer']=df2['buffer']/df2['buffer'].max()\n",
    "df2['avg crco']=df2['avg crco']/df2['avg crco'].max()\n",
    "df2['avg dist nm']=df2['avg dist nm']/df2['avg dist nm'].max()\n",
    "df2['avg fuel kg']=df2['avg fuel kg']/df2['avg fuel kg'].max()\n",
    "df2['avg time min']=df2['avg time min']/df2['avg time min'].max()\n",
    "df2['total dist nm']=df2['total dist nm']/df2['total dist nm'].max()\n",
    "df2['total crco M EUR']=df2['total crco M EUR']/df2['total crco M EUR'].max()\n",
    "df2['total time M min']=df2['total time M min']/df2['total time M min'].max()\n",
    "\n",
    "df2"
   ]
  },
  {
   "cell_type": "code",
   "execution_count": null,
   "metadata": {
    "collapsed": true
   },
   "outputs": [],
   "source": [
    "(df2-0.2)/(1-0.2)"
   ]
  },
  {
   "cell_type": "code",
   "execution_count": null,
   "metadata": {
    "collapsed": true
   },
   "outputs": [],
   "source": [
    "#theta[-1]%(2*np.pi)\n",
    "theta"
   ]
  },
  {
   "cell_type": "code",
   "execution_count": null,
   "metadata": {
    "collapsed": true
   },
   "outputs": [],
   "source": []
  },
  {
   "cell_type": "code",
   "execution_count": null,
   "metadata": {
    "collapsed": true
   },
   "outputs": [],
   "source": []
  },
  {
   "cell_type": "code",
   "execution_count": null,
   "metadata": {
    "collapsed": true
   },
   "outputs": [],
   "source": [
    "vmin=0.2\n",
    "\n",
    "def \n",
    "df3 = (df2-vmin)/(1-vmin)\n",
    "df3 = df3.drop('total dist nm', axis=1)\n",
    "N = len(df3.columns)\n",
    "theta = radar_factory(N, frame='circle')\n",
    "spoke_labels=df3.columns.tolist()\n",
    "\n",
    "fig, axes = plt.subplots(figsize=(9, 9), nrows=1, ncols=1,\n",
    "                         subplot_kw=dict(projection='radar'))\n",
    "fig.subplots_adjust(wspace=0.25, hspace=0.20, top=0.85, bottom=0.05)\n",
    "\n",
    "\n",
    "for i in range(len(df3)):\n",
    "    axes.plot(theta,df3.iloc[i,:].tolist())\n",
    "    axes.fill(theta,df3.iloc[i,:], alpha=0.25)\n",
    "\n",
    "\n",
    "axes.set_rgrids([0, 0.2, 0.4, 0.6, 0.8, 1])\n",
    "axes.set_yticklabels(np.round(np.append(np.arange(vmin,1,(1-vmin)/5),[1]),2))\n",
    "axes.set_xticks(theta)\n",
    "\n",
    "print(spoke_labels)\n",
    "print(theta)\n",
    "axes.set_thetalim(-np.pi,np.pi)\n",
    "axes.set_xticklabels(spoke_labels)\n",
    "\n",
    "labels = ('Factor 1', 'Factor 2')\n",
    "legend = axes.legend(labels, loc=(0.9, .95),\n",
    "                   labelspacing=0.1, fontsize='small')\n",
    "\n",
    "\n",
    "plt.show()\n",
    "\n",
    "\n",
    "\n",
    "\n",
    "'''\n",
    ", axes = plt.subplots(figsize=(9, 9), nrows=2, ncols=2,\n",
    "                         subplot_kw=dict(projection='radar'))\n",
    "fig.subplots_adjust(wspace=0.25, hspace=0.20, top=0.85, bottom=0.05)\n",
    "\n",
    "colors = ['b', 'r', 'g', 'm', 'y']\n",
    "# Plot the four cases from the example data on separate axes\n",
    "for ax, (title, case_data) in zip(axes.flatten(), data):\n",
    "    ax.set_rgrids([0.2, 0.4, 0.6, 0.8])\n",
    "    ax.set_title(title, weight='bold', size='medium', position=(0.5, 1.1),\n",
    "                 horizontalalignment='center', verticalalignment='center')\n",
    "    for d, color in zip(case_data, colors):\n",
    "        ax.plot(theta, d, color=color)\n",
    "        ax.fill(theta, d, facecolor=color, alpha=0.25)\n",
    "    ax.set_varlabels(spoke_labels)\n",
    "\n",
    "# add legend relative to top-left plot\n",
    "ax = axes[0, 0]\n",
    "labels = ('Factor 1', 'Factor 2', 'Factor 3', 'Factor 4', 'Factor 5')\n",
    "legend = ax.legend(labels, loc=(0.9, .95),\n",
    "                   labelspacing=0.1, fontsize='small')\n",
    "\n",
    "fig.text(0.5, 0.965, '5-Factor Solution Profiles Across Four Scenarios',\n",
    "         horizontalalignment='center', color='black', weight='bold',\n",
    "         size='large')\n",
    "\n",
    "plt.show()\n",
    "\n",
    "'''"
   ]
  },
  {
   "cell_type": "code",
   "execution_count": null,
   "metadata": {
    "collapsed": true
   },
   "outputs": [],
   "source": [
    "data"
   ]
  },
  {
   "cell_type": "code",
   "execution_count": null,
   "metadata": {
    "collapsed": true
   },
   "outputs": [],
   "source": []
  },
  {
   "cell_type": "code",
   "execution_count": null,
   "metadata": {
    "collapsed": true
   },
   "outputs": [],
   "source": []
  },
  {
   "cell_type": "code",
   "execution_count": null,
   "metadata": {
    "collapsed": true
   },
   "outputs": [],
   "source": []
  },
  {
   "cell_type": "code",
   "execution_count": null,
   "metadata": {
    "collapsed": true
   },
   "outputs": [],
   "source": [
    "fp_opt_sel_schedule.columns"
   ]
  },
  {
   "cell_type": "code",
   "execution_count": null,
   "metadata": {
    "collapsed": true
   },
   "outputs": [],
   "source": []
  },
  {
   "cell_type": "code",
   "execution_count": null,
   "metadata": {
    "collapsed": true
   },
   "outputs": [],
   "source": [
    "fp_options = fp_options.loc[:,~fp_options.columns.duplicated()]"
   ]
  },
  {
   "cell_type": "code",
   "execution_count": null,
   "metadata": {
    "collapsed": true
   },
   "outputs": [],
   "source": [
    "fp_opt_schedule.groupby('fp_generator_run')['buffer'].mean()"
   ]
  },
  {
   "cell_type": "code",
   "execution_count": null,
   "metadata": {
    "collapsed": true
   },
   "outputs": [],
   "source": [
    "fp_opt_min_doc=fp_opt_schedule.loc[fp_opt_schedule.groupby(['nid','fp_generator_run'])['doc'].idxmin()]\n"
   ]
  },
  {
   "cell_type": "code",
   "execution_count": null,
   "metadata": {
    "collapsed": true
   },
   "outputs": [],
   "source": [
    "fp_opt_min_doc.groupby('fp_generator_run')['crco_cost'].sum()"
   ]
  },
  {
   "cell_type": "code",
   "execution_count": null,
   "metadata": {
    "collapsed": true
   },
   "outputs": [],
   "source": []
  },
  {
   "cell_type": "code",
   "execution_count": null,
   "metadata": {
    "collapsed": true
   },
   "outputs": [],
   "source": [
    "\n",
    "    \n",
    "print(intensity_function([3,5,21,412]))\n",
    "print(intensity_function([3,5,21,412]))\n",
    "print(intensity_function([3,5,21,412]))\n",
    "print(intensity_function([3,5,21,412]))\n",
    "print(intensity_function([30,50,210,4120]))\n",
    "\n"
   ]
  },
  {
   "cell_type": "code",
   "execution_count": null,
   "metadata": {
    "collapsed": true
   },
   "outputs": [],
   "source": [
    "fp_opt_schedule"
   ]
  },
  {
   "cell_type": "code",
   "execution_count": null,
   "metadata": {
    "collapsed": true
   },
   "outputs": [],
   "source": [
    "ints = [ 0.27438777,  0.27383955,  0.26949298,  0.1822797 ]\n",
    "ints==np.random.choice(\n",
    "  ints,\n",
    "  1,\n",
    "  p=ints\n",
    ")"
   ]
  },
  {
   "cell_type": "code",
   "execution_count": null,
   "metadata": {
    "collapsed": true
   },
   "outputs": [],
   "source": [
    "fp_opt_schedule.head()"
   ]
  },
  {
   "cell_type": "code",
   "execution_count": null,
   "metadata": {
    "collapsed": true
   },
   "outputs": [],
   "source": []
  },
  {
   "cell_type": "code",
   "execution_count": null,
   "metadata": {
    "collapsed": true
   },
   "outputs": [],
   "source": []
  },
  {
   "cell_type": "code",
   "execution_count": null,
   "metadata": {
    "collapsed": true
   },
   "outputs": [],
   "source": [
    "#u.get_run_number(model='route_generator',engine=mysql_vista.engine)\n",
    "\n",
    "mysql_vista.insert_run_version(1,'fp_generator',0.1)"
   ]
  },
  {
   "cell_type": "code",
   "execution_count": null,
   "metadata": {
    "collapsed": true
   },
   "outputs": [],
   "source": [
    "pd.DataFrame([{'run':3, 'model':'pre'}])"
   ]
  },
  {
   "cell_type": "code",
   "execution_count": null,
   "metadata": {
    "collapsed": true
   },
   "outputs": [],
   "source": [
    "strategic_run=1\n",
    "route_generator_run=3\n",
    "compute_if_not_exists_routes=False\n",
    "mysql_vista.read_nas_route_pool(scenario_id,strategic_run,route_generator_run)\n"
   ]
  },
  {
   "cell_type": "code",
   "execution_count": null,
   "metadata": {
    "collapsed": true
   },
   "outputs": [],
   "source": [
    "s.background_factors"
   ]
  },
  {
   "cell_type": "code",
   "execution_count": null,
   "metadata": {
    "collapsed": true
   },
   "outputs": [],
   "source": []
  },
  {
   "cell_type": "code",
   "execution_count": null,
   "metadata": {
    "collapsed": true
   },
   "outputs": [],
   "source": []
  },
  {
   "cell_type": "code",
   "execution_count": null,
   "metadata": {
    "collapsed": true
   },
   "outputs": [],
   "source": []
  },
  {
   "cell_type": "code",
   "execution_count": null,
   "metadata": {
    "collapsed": true
   },
   "outputs": [],
   "source": [
    "def order_option(cs):\n",
    "    ints=u.intensity_function(cs)\n",
    "    print(ints)\n",
    "    order = np.random.choice(list(range(1,len(ints)+1)),len(ints),p=ints,replace=False)\n",
    "    return order\n",
    "    \n",
    "def select_flights(df):\n",
    "    df['selected'] = df.groupby(['schedule_id','fp_generator_run'])['doc'].transform(choose_option)\n",
    "    df_selected = df.loc[df['selected']==1]\n",
    "    return df_selected\n",
    "\n",
    "choose_option([1323,212,19321])"
   ]
  },
  {
   "cell_type": "code",
   "execution_count": null,
   "metadata": {
    "collapsed": true
   },
   "outputs": [],
   "source": [
    "fp_o.loc[0:10]"
   ]
  },
  {
   "cell_type": "code",
   "execution_count": null,
   "metadata": {
    "collapsed": true
   },
   "outputs": [],
   "source": []
  },
  {
   "cell_type": "code",
   "execution_count": null,
   "metadata": {
    "collapsed": true
   },
   "outputs": [],
   "source": []
  },
  {
   "cell_type": "code",
   "execution_count": null,
   "metadata": {
    "collapsed": true
   },
   "outputs": [],
   "source": []
  },
  {
   "cell_type": "code",
   "execution_count": null,
   "metadata": {
    "collapsed": true
   },
   "outputs": [],
   "source": []
  },
  {
   "cell_type": "code",
   "execution_count": null,
   "metadata": {
    "collapsed": true
   },
   "outputs": [],
   "source": []
  },
  {
   "cell_type": "code",
   "execution_count": null,
   "metadata": {
    "collapsed": true
   },
   "outputs": [],
   "source": []
  },
  {
   "cell_type": "code",
   "execution_count": null,
   "metadata": {
    "collapsed": true
   },
   "outputs": [],
   "source": [
    "\n",
    "d_nas_crco.loc[d_nas_crco['nas_sid']!=\"EX\",'d_t']=(d_nas_crco.loc[d_nas_crco['nas_sid']!=\"EX\",'d']*\\\n",
    "                                                d_nas_crco.loc[d_nas_crco['nas_sid']!=\"EX\",'t'])/100\n",
    "d_nas_crco.loc[d_nas_crco['nas_sid']==\"EX\",'d_t']=(d_nas_crco.loc[d_nas_crco['nas_sid']==\"EX\",'t']/100)\n"
   ]
  },
  {
   "cell_type": "code",
   "execution_count": null,
   "metadata": {
    "collapsed": true
   },
   "outputs": [],
   "source": [
    "crco_d_t=d_nas_crco.loc[d_nas_crco['nas_sid'] !=\"EX\", ['fp_pool_id', 'd_t']].groupby('fp_pool_id', as_index=False).sum()\n",
    "crco_d_t=pd.merge(crco_d_t,d_nas_crco.loc[d_nas_crco['nas_sid']==\"EX\",['fp_pool_id','d_t']].rename(columns={'d_t': 'extra'}).groupby('fp_pool_id', as_index=False).min(), \n",
    "         on=\"fp_pool_id\", how=\"left\")\n",
    "\n",
    "crco_d_t.loc[crco_d_t['extra'].isnull(),'extra']=0\n",
    "crco_d_t.head()"
   ]
  },
  {
   "cell_type": "code",
   "execution_count": null,
   "metadata": {
    "collapsed": true
   },
   "outputs": [],
   "source": []
  },
  {
   "cell_type": "code",
   "execution_count": null,
   "metadata": {
    "collapsed": true
   },
   "outputs": [],
   "source": []
  },
  {
   "cell_type": "code",
   "execution_count": null,
   "metadata": {
    "collapsed": true
   },
   "outputs": [],
   "source": [
    "d_nas_crco.head()"
   ]
  },
  {
   "cell_type": "code",
   "execution_count": null,
   "metadata": {
    "collapsed": true
   },
   "outputs": [],
   "source": [
    "d_nas_crco.loc[d_nas_crco['t']==0,'nas_sid'].drop_duplicates().to_csv('./nocrco.csv')"
   ]
  },
  {
   "cell_type": "code",
   "execution_count": null,
   "metadata": {
    "collapsed": true
   },
   "outputs": [],
   "source": []
  },
  {
   "cell_type": "code",
   "execution_count": null,
   "metadata": {
    "collapsed": true
   },
   "outputs": [],
   "source": []
  },
  {
   "cell_type": "code",
   "execution_count": null,
   "metadata": {
    "collapsed": true
   },
   "outputs": [],
   "source": []
  },
  {
   "cell_type": "code",
   "execution_count": null,
   "metadata": {
    "collapsed": true
   },
   "outputs": [],
   "source": [
    "crco_d_t=pd.merge(crco_d_t,d_nas_crco.loc[d_nas_crco['nas_sid']==\"EK\",['fp_pool_id','d_t']].rename(columns={'d_t': 'extra'}), \n",
    "         on=\"fp_pool_id\", how=\"left\")\n",
    "\n",
    "#crco_d_t.loc[crco_d_t['extra'].isnull(),'extra']=0\n",
    "crco_d_t.head()"
   ]
  },
  {
   "cell_type": "code",
   "execution_count": null,
   "metadata": {
    "collapsed": true
   },
   "outputs": [],
   "source": []
  },
  {
   "cell_type": "code",
   "execution_count": null,
   "metadata": {
    "collapsed": true
   },
   "outputs": [],
   "source": []
  },
  {
   "cell_type": "code",
   "execution_count": null,
   "metadata": {
    "collapsed": true
   },
   "outputs": [],
   "source": [
    "\n",
    "d_crco['sid']\n",
    "d_crco.to_sql('crco_charges',mysql_vista.engine,index=False,if_exists=\"replace\")"
   ]
  },
  {
   "cell_type": "code",
   "execution_count": null,
   "metadata": {
    "collapsed": true
   },
   "outputs": [],
   "source": [
    "d_crco.loc[d_crco['name']==\"Spain Canarias\"]['sid']"
   ]
  },
  {
   "cell_type": "code",
   "execution_count": null,
   "metadata": {
    "collapsed": true,
    "scrolled": true
   },
   "outputs": [],
   "source": []
  },
  {
   "cell_type": "code",
   "execution_count": null,
   "metadata": {
    "collapsed": true
   },
   "outputs": [],
   "source": []
  },
  {
   "cell_type": "code",
   "execution_count": null,
   "metadata": {
    "collapsed": true
   },
   "outputs": [],
   "source": [
    "\n",
    "d_s_fp.loc[d_s_fp['ac_model']==\"ATR72-200\",['avg_fl','ac_eq','ac_icao','bada_perf']]\n",
    "max(d_s_fp.loc[d_s_fp['ac_model']==\"ATR72-200\",'avg_fl'])\n"
   ]
  },
  {
   "cell_type": "code",
   "execution_count": null,
   "metadata": {
    "collapsed": true
   },
   "outputs": [],
   "source": [
    "d_s_fp[['cruise_nom_kt','cruise_nom_m']]\n",
    "\n",
    "len(d_s_fp.columns)\n",
    "len(d_s_fp)\n",
    "d_s_fp.loc[d_s_fp['cruise_nom_m']==max(d_s_fp['cruise_nom_m']),'ac_eq']\n",
    "\n",
    "max(d_s_fp['cruise_nom_m'])\n"
   ]
  },
  {
   "cell_type": "code",
   "execution_count": null,
   "metadata": {
    "collapsed": true
   },
   "outputs": [],
   "source": [
    "d_s_fp[['cruise_nom_kt','cruise_nom_m']]"
   ]
  },
  {
   "cell_type": "code",
   "execution_count": null,
   "metadata": {
    "collapsed": true
   },
   "outputs": [],
   "source": []
  },
  {
   "cell_type": "code",
   "execution_count": null,
   "metadata": {
    "collapsed": true
   },
   "outputs": [],
   "source": [
    "       "
   ]
  },
  {
   "cell_type": "code",
   "execution_count": null,
   "metadata": {
    "collapsed": true
   },
   "outputs": [],
   "source": [
    "round(2.524,0)"
   ]
  },
  {
   "cell_type": "code",
   "execution_count": null,
   "metadata": {
    "collapsed": true
   },
   "outputs": [],
   "source": [
    "estimate_cruise_weights(x['climb_fuel_kg'],x['descent_fuel_kg'],x['cruise_nom_m'],x['cruise_nm'],x['cruise_min'],x['avg_fl'], x['bada_perf'])"
   ]
  },
  {
   "cell_type": "code",
   "execution_count": null,
   "metadata": {
    "collapsed": true
   },
   "outputs": [],
   "source": [
    "d_s_fp.ix[2832, ['climb_fuel_kg', 'descent_fuel_kg', 'cruise_nom_m','cruise_nm','cruise_min','avg_fl','bada_perf',\n",
    "                'cruise_speed_request']]"
   ]
  },
  {
   "cell_type": "code",
   "execution_count": null,
   "metadata": {
    "collapsed": true
   },
   "outputs": [],
   "source": [
    "d_s_fp.ix[2832,'bada_perf'].ac_icao"
   ]
  },
  {
   "cell_type": "code",
   "execution_count": null,
   "metadata": {
    "collapsed": true
   },
   "outputs": [],
   "source": [
    "uc.kt2m(estimate_cruise_speed(365, d_s_fp.ix[2832,'cruise_speed_request']),365)\n",
    "\n"
   ]
  },
  {
   "cell_type": "code",
   "execution_count": null,
   "metadata": {
    "collapsed": true
   },
   "outputs": [],
   "source": [
    "d_s_fp[['id','option_number','ac_icao','ac_eq','bada_code_ac_model','bada_version','fp_distance_nm','climb_nm','descent_nm','cruise_nm',\n",
    "                                         'avg_fl','fp_min','climb_min','descent_min','cruise_min','cruise_nom_m','cruise_nom_kt','cruise_avg_wind_kt','cruise_ground_kt','climb_fuel_kg','descent_fuel_kg','avg_fl','cruise_nom_m']].to_csv('./t.csv')"
   ]
  },
  {
   "cell_type": "code",
   "execution_count": null,
   "metadata": {
    "collapsed": true
   },
   "outputs": [],
   "source": [
    "\n",
    "min_crco_cost=120\n",
    "max_crco_cost=250\n",
    "    \n",
    "d_s_fp['crco_cost'] = np.round((np.random.random(size=len(d_s_fp))*\n",
    "                                       (max_crco_cost-min_crco_cost)+min_crco_cost),2)\n",
    "\n",
    "\n",
    "\n",
    "d_s_fp['cruise_avg_weight_kg'] = d_s_fp['ac_perf'].apply(lambda x: x.wref if type(x)!=float else 67000)\n",
    "\n",
    "\n",
    "#Estimate climb/descent and cruise fuel\n",
    "d_s_fp['cruise_fuel_kg'] = d_s_fp.apply(lambda x: estimate_cruise_fuel(x['avg_fl'],x['cruise_nom_m'],\n",
    "                                                                x['cruise_avg_weight_kg'],x['cruise_min'],\n",
    "                                                                x['ac_perf']), axis=1)\n",
    "\n",
    "\n",
    "#Estimate total time and fuel\n",
    "\n",
    "d_s_fp['total_fuel_kg']=d_s_fp['climb_fuel_kg']+d_s_fp['cruise_fuel_kg']+d_s_fp['descent_fuel_kg']\n",
    "  \n",
    "    \n",
    "    \n",
    "    \n",
    "d_s_fp[['icao_model','ac_eq','ac_implementing','fp_distance_nm','climb_nm','climb_min',\n",
    "                                         'avg_fl','cruise_avg_weight_kg','cruise_nom_kt','cruise_nom_m',\n",
    "                                         'cruise_avg_wind_kt','cruise_ground_kt',\n",
    "                                         'cruise_nm','cruise_min',\n",
    "                                         'descent_nm','descent_min',\n",
    "                                         'climb_fuel_kg','descent_fuel_kg','cruise_fuel_kg',\n",
    "                                        'total_min','total_fuel_kg']].head()"
   ]
  },
  {
   "cell_type": "code",
   "execution_count": null,
   "metadata": {
    "collapsed": true
   },
   "outputs": [],
   "source": []
  },
  {
   "cell_type": "code",
   "execution_count": null,
   "metadata": {
    "collapsed": true
   },
   "outputs": [],
   "source": [
    "\n",
    "d_s_fp['ac_eq_dist_type'] = d_s_fp['ac_eq'] + \"_\" + d_s_fp['f_dist_type']\n"
   ]
  },
  {
   "cell_type": "code",
   "execution_count": null,
   "metadata": {
    "collapsed": true
   },
   "outputs": [],
   "source": [
    "dict_climb_iedf"
   ]
  },
  {
   "cell_type": "code",
   "execution_count": null,
   "metadata": {
    "collapsed": true
   },
   "outputs": [],
   "source": [
    "d_s_fp['iedf_climb']=d_s_fp['ac_eq_dist_type'].apply(lambda x: dict_climb_iedf.get(x).get('iedf') \n",
    "                                                     if dict_climb_iedf.get(x,None) != None\n",
    "                                                     else None)\n",
    "\n",
    "d_s_fp['iedf_descent']=d_s_fp['ac_eq_dist_type'].apply(lambda x: dict_descent_iedf.get(x).get('iedf') \n",
    "                                                     if dict_descent_iedf.get(x,None) != None\n",
    "                                                     else None)\n",
    "\n",
    "d_s_fp['iedf_fl']=d_s_fp['ac_eq_dist_type'].apply(lambda x: dict_fl_iedf.get(x).get('iedf') \n",
    "                                                     if dict_fl_iedf.get(x,None) != None\n",
    "                                                     else None)\n",
    "\n",
    "\n",
    "\n",
    "d_s_fp['iedf_wind']=d_s_fp['co_cd'].apply(lambda x: dict_w_iedf.get(x).get('iedf')\n",
    "                                                    if dict_w_iedf.get(x,None) != None\n",
    "                                                    else None)\n",
    "                         \n",
    "                                          \n",
    "d_s_fp['ac_perf']=d_s_fp['ac_implementing'].apply(lambda x: dict_ac_perf_bada4.get(x,None))\n",
    "\n",
    "\n"
   ]
  },
  {
   "cell_type": "code",
   "execution_count": null,
   "metadata": {
    "collapsed": true
   },
   "outputs": [],
   "source": [
    "d_s_fp_all_with_dict = d_s_fp.copy()"
   ]
  },
  {
   "cell_type": "code",
   "execution_count": null,
   "metadata": {
    "collapsed": true
   },
   "outputs": [],
   "source": [
    "d_s_fp=d_s_fp_all_with_dict.copy()"
   ]
  },
  {
   "cell_type": "code",
   "execution_count": null,
   "metadata": {
    "collapsed": true
   },
   "outputs": [],
   "source": [
    "d_s_fp=d_s_fp_all_with_dict.copy()\n",
    "d_s_fp=d_s_fp.loc[d_s_fp['ac_eq']==\"A340\"].copy()\n",
    "len(d_s_fp)"
   ]
  },
  {
   "cell_type": "code",
   "execution_count": null,
   "metadata": {
    "collapsed": true
   },
   "outputs": [],
   "source": [
    "d_s_fp[['orig_dest','ac_implementing','fp_distance_nm','climb_nm','climb_min',\n",
    "                                         'avg_fl','cruise_avg_weight_kg','cruise_nom_kt','cruise_nom_m',\n",
    "                                         'cruise_avg_wind_kt','cruise_ground_kt',\n",
    "                                         'cruise_nm','cruise_min',\n",
    "                                         'descent_nm','descent_min',\n",
    "                                         'climb_fuel_kg','descent_fuel_kg','cruise_fuel_kg',\n",
    "                                        'total_min','total_fuel_kg']]"
   ]
  },
  {
   "cell_type": "code",
   "execution_count": null,
   "metadata": {
    "collapsed": true
   },
   "outputs": [],
   "source": [
    "d_s_fp.head()"
   ]
  },
  {
   "cell_type": "code",
   "execution_count": null,
   "metadata": {
    "collapsed": true
   },
   "outputs": [],
   "source": []
  },
  {
   "cell_type": "code",
   "execution_count": null,
   "metadata": {
    "collapsed": true
   },
   "outputs": [],
   "source": []
  },
  {
   "cell_type": "code",
   "execution_count": null,
   "metadata": {
    "collapsed": true
   },
   "outputs": [],
   "source": [
    "#d_ac_perf_bada4.get(dict_ac_eq_perf.get(\"A340\"))\n",
    "dict_ac_eq_perf.get(\"A346\")\n",
    "\n",
    "dict_descent_iedf.get(\"A340_extra_long\")\n",
    "dict_ac_eq_perf.get(\"A346\")\n",
    "dict_fl_iedf.keys()\n",
    "dict_fl_iedf.get(\"AT42_long\")"
   ]
  },
  {
   "cell_type": "code",
   "execution_count": null,
   "metadata": {
    "collapsed": true
   },
   "outputs": [],
   "source": [
    "d_s_fp['f_dist_type'].cat.categories[d_s_fp['f_dist_type'].cat.codes].tolist()"
   ]
  },
  {
   "cell_type": "code",
   "execution_count": null,
   "metadata": {
    "collapsed": true,
    "scrolled": true
   },
   "outputs": [],
   "source": [
    "d_s_fp['ac_eq']=d_s_fp['icao_model'].apply(lambda x: dict_ac_eq_perf.get(x,'-'))\n",
    "d_s_fp['ac_implementing']=d_s_fp['icao_model'].apply(lambda x: dict_ac_implementing.get(x,'-'))\n",
    "d_s_fp['f_dist_type']=d_s_fp['f_dist_type'].cat.categories[d_s_fp['f_dist_type'].cat.codes].tolist()\n",
    "\n",
    "#if type(d_s_fp.loc[0,'f_dist_type'])==str:\n",
    "d_s_fp['p_key'] = d_s_fp['ac_eq'] + \"_\" + d_s_fp['f_dist_type']\n",
    "#else: \n",
    "#    d_s_fp['p_key'] = d_s_fp['ac_eq'] + \"_\"\\\n",
    "#                           +d_s_fp['f_dist_type'].cat.categories[d_s_fp['f_dist_type'].cat.codes].tolist()\n",
    "    \n",
    "d_s_fp = pd.merge(d_s_fp, d_climb_iedf[['p_key','iedf_climb']], on='p_key', how='inner');\n",
    "d_s_fp = pd.merge(d_s_fp, d_descent_iedf[['p_key','iedf_descent']], on='p_key', how='inner');\n",
    "d_s_fp = pd.merge(d_s_fp, d_fl_iedf[['p_key','iedf_fl']], on='p_key', how='inner');\n",
    "\n",
    "d_s_fp = pd.merge(d_s_fp, d_climb_time_lineal[['ac_eq','coef_climb', 'sd_error_climb']], on='ac_eq', how='inner')\n",
    "\n",
    "d_s_fp = pd.merge(d_s_fp, d_descent_time_lineal[['ac_eq','coef_descent', 'sd_error_descent']], on='ac_eq', how='inner')\n",
    "\n",
    "d_s_fp['cruise_speed_request']=d_s_fp['ac_eq'].apply(lambda x: d_speed_request.get(x,None))\n",
    "\n",
    "d_s_fp['ac_perf']=d_s_fp['ac_implementing'].apply(lambda x: d_ac_perf_bada4.get(x,None)) #icao_model\n",
    "d_s_fp['wind_iedf']=d_s_fp['co_cd'].apply(lambda x: dict_w_iedf.get(x,None))\n",
    "\n",
    "\n"
   ]
  },
  {
   "cell_type": "code",
   "execution_count": null,
   "metadata": {
    "collapsed": true
   },
   "outputs": [],
   "source": [
    "#d_fl_iedf[['p_key','iedf_fl']].head()\n",
    "d_s_fp.head()"
   ]
  },
  {
   "cell_type": "code",
   "execution_count": null,
   "metadata": {
    "collapsed": true
   },
   "outputs": [],
   "source": [
    "#type(d_s_fp.loc[0,'f_dist_type'])\n",
    "d_s_fp[['icao_model','ac_eq','ac_implementing','ac_perf']].head()\n",
    "'iedf_fl' in d_s_fp.columns\n",
    "\n"
   ]
  },
  {
   "cell_type": "code",
   "execution_count": null,
   "metadata": {
    "collapsed": true
   },
   "outputs": [],
   "source": [
    "d_s_fp_all=d_s_fp.copy()"
   ]
  },
  {
   "cell_type": "code",
   "execution_count": null,
   "metadata": {
    "collapsed": true
   },
   "outputs": [],
   "source": [
    "d_s_fp=d_s_fp_all.copy()"
   ]
  },
  {
   "cell_type": "code",
   "execution_count": null,
   "metadata": {
    "collapsed": true
   },
   "outputs": [],
   "source": [
    "\n",
    "d_s_fp=d_s_fp_all.copy()\n",
    "d_s_fp=d_s_fp.loc[d_s_fp['ac_eq']==\"E145\"].copy()\n",
    "len(d_s_fp)"
   ]
  },
  {
   "cell_type": "code",
   "execution_count": null,
   "metadata": {
    "collapsed": true
   },
   "outputs": [],
   "source": [
    "import math\n",
    "\n",
    "\n",
    "def random_time(dist,coef,sd_error):\n",
    "    time = round(np.random.normal(u.f_fit(dist,*coef),sd_error))\n",
    "    while time<0:\n",
    "        time = round(np.random.normal(u.f_fit(dist,*coef),sd_error))\n",
    "        \n",
    "    return time\n",
    "\n",
    "def estimate_climb_fuel(climb_min,avg_fl,ac_perf):\n",
    "    if type(ac_perf)==float:\n",
    "        min_fuel=300\n",
    "        max_fuel=2000\n",
    "        climb_f = np.round(np.random.random()*(max_fuel-min_fuel)+min_fuel)\n",
    "        \n",
    "    else:\n",
    "        climb_f = np.round(climb_min * ac_perf.estimate_climb_fuel_flow(0,avg_fl))\n",
    "        \n",
    "    return climb_f\n",
    "\n",
    "def estimate_descent_fuel(desc_min,avg_fl,ac_perf):\n",
    "    if type(ac_perf)==float:\n",
    "        min_fuel=300\n",
    "        max_fuel=2000\n",
    "        descent_f = np.round(np.random.random()*(max_fuel-min_fuel)+min_fuel)\n",
    "        \n",
    "    else:\n",
    "        descent_f = np.round(desc_min * ac_perf.estimate_descent_fuel_flow(avg_fl,0))\n",
    "        \n",
    "    return descent_f\n",
    "        \n",
    "    \n",
    "def estimate_cruise_fuel(avg_fl, m, c_avg_weight, c_min, ac_perf):\n",
    "    if type(ac_perf)==float:\n",
    "        min_fuel=900\n",
    "        max_fuel=1500\n",
    "        cruise_f = np.round(np.random.random()*(max_fuel-min_fuel)+min_fuel)\n",
    "        \n",
    "    else:\n",
    "        \n",
    "        ff = ac_perf.compute_fuel_flow(avg_fl,c_avg_weight,m)\n",
    "        \n",
    "        cruise_f = np.round(ff * c_min)\n",
    "        \n",
    "    return cruise_f\n",
    "    \n",
    "    \n",
    "def check_cruise_speed(avg_fl,weight,m):\n",
    "    return ac_perf.is_mach_in_envelope(avg_fl,weight,m)\n",
    "\n",
    "def estimate_cruise_speed(avg_fl, iedf_speed_request):\n",
    "    if type(iedf_speed_request)==float:\n",
    "        cruise_speed_kt = 10\n",
    "    else:\n",
    "        flv=np.array(list(iedf_speed_request.keys()))\n",
    "        i=abs(flv-avg_fl).argmin()\n",
    "        if (flv[i]-avg_fl)<0:\n",
    "            i_next = min(len(flv)-1,i+1)\n",
    "        else:\n",
    "            i_next = i\n",
    "\n",
    "        iedf_i = iedf_speed_request.get(flv[i])\n",
    "        iedf_i_next = iedf_speed_request.get(flv[i_next])\n",
    "\n",
    "        randomg=random.uniform(max(min(iedf_i.x),min(iedf_i_next.x)),1)  \n",
    "\n",
    "        cs_kt_i=iedf_i(randomg)\n",
    "        cs_kt_i_next=iedf_i_next(randomg)\n",
    "\n",
    "        cruise_speed_kt = u.proportional(cs_kt_i,cs_kt_i_next,flv[i],flv[i_next],avg_fl)\n",
    "        \n",
    "    return cruise_speed_kt\n",
    "    \n",
    "    \n",
    "    \n",
    "\n",
    "min_crco_cost=120\n",
    "max_crco_cost=250\n",
    "    \n",
    "d_s_fp['crco_cost'] = np.round((np.random.random(size=len(d_s_fp))*\n",
    "                                       (max_crco_cost-min_crco_cost)+min_crco_cost),2)\n",
    "\n",
    "\n",
    "\n",
    "d_s_fp['avg_fl']=d_s_fp['iedf_fl'].apply(lambda iedf_f: int(10 * round(2*iedf_f(random.uniform(min(iedf_f.x),1))/10) /2))\n",
    "\n",
    "\n",
    "#Compute climb/descent/cruise distances\n",
    "d_s_fp['climb_nm']=d_s_fp['iedf_climb'].apply(lambda iedf_c: np.round(iedf_c(random.uniform(min(iedf_c.x),1)),1))\n",
    "d_s_fp['descent_nm']=d_s_fp['iedf_descent'].apply(lambda iedf_d: np.round(iedf_d(random.uniform(min(iedf_d.x),1)),1))\n",
    "d_s_fp['cruise_nm']=d_s_fp['fp_distance_nm']-d_s_fp['climb_nm']-d_s_fp['descent_nm']\n",
    "\n",
    "#If cruise negative, climb and descent are too long\n",
    "i_c_neg = d_s_fp['cruise_nm']<0\n",
    "\n",
    "#Reduce climb and descent as half of the extra cruise we have computed\n",
    "d_s_fp.loc[i_c_neg, 'descent_nm']=d_s_fp.loc[i_c_neg, 'descent_nm']\\\n",
    "            -np.round(-d_s_fp.loc[i_c_neg, 'cruise_nm']/2)\n",
    "\n",
    "d_s_fp.loc[i_c_neg, 'climb_nm']=d_s_fp.loc[i_c_neg, 'fp_distance_nm']-d_s_fp.loc[i_c_neg, 'descent_nm']\n",
    "\n",
    "d_s_fp.loc[i_c_neg, 'cruise_nm']=0\n",
    "\n",
    "#If the climb or the descent are now negative, we have removed too much climb/descent\n",
    "#then divide the fligth distance between climb and descent evenly\n",
    "i_climb_desc_neg=(d_s_fp['climb_nm']<0) | (d_s_fp['descent_nm']<0)\n",
    "d_s_fp.loc[i_climb_desc_neg, 'climb_nm']=np.ceil(d_s_fp.loc[i_climb_desc_neg, 'fp_distance_nm']/2)\n",
    "d_s_fp.loc[i_climb_desc_neg, 'descent_nm']=d_s_fp.loc[i_climb_desc_neg, 'fp_distance_nm']\\\n",
    "                                                -d_s_fp.loc[i_climb_desc_neg, 'climb_nm']\n",
    "\n",
    "    \n",
    "#Compute climb and descent times based on the lineal distributions of time, \n",
    "#with a random considering the sd error of the lineal fitting of time as a\n",
    "#function of climb/descent distance  \n",
    "d_s_fp['climb_min'] = d_s_fp.apply(lambda x:random_time(x['climb_nm'],x['coef_climb'],x['sd_error_climb']),axis=1)\n",
    "d_s_fp['descent_min'] = d_s_fp.apply(lambda x: random_time(x['descent_nm'],x['coef_descent'],x['sd_error_descent']),axis=1)\n",
    "\n",
    "\n",
    "\n",
    "#Estimate cruise speed/wind and cruise weight\n",
    "d_s_fp['cruise_nom_kt'] = d_s_fp.apply(lambda x: estimate_cruise_speed(x['avg_fl'], x['cruise_speed_request']),axis=1)\n",
    "d_s_fp['cruise_nom_m'] = d_s_fp.apply(lambda x: uc.kt2m(x['cruise_nom_kt'],x['avg_fl']), axis=1)\n",
    "\n",
    "d_s_fp['cruise_nom_kt'] = d_s_fp['cruise_nom_kt'].astype(np.double).round(2)\n",
    "\n",
    "\n",
    "#min_wind=-50\n",
    "#max_wind=50\n",
    "\n",
    "#d_s_fp['cruise_avg_wind_kt'] = np.round((np.random.random(size=len(d_s_fp))*\n",
    "#                                       (max_wind-min_wind)+min_wind),2)\n",
    "\n",
    "d_s_fp['cruise_avg_wind_kt'] = d_s_fp['wind_iedf'].apply(lambda x: \n",
    "                                                         x.get('iedf')(random.uniform(max(min(x.get('iedf').x),0.2),0.8)))\n",
    "\n",
    "d_s_fp['cruise_ground_kt']=d_s_fp['cruise_avg_wind_kt']+d_s_fp['cruise_nom_kt']\n",
    "\n",
    "d_s_fp['cruise_min']=(60*d_s_fp['cruise_nm']/d_s_fp['cruise_ground_kt']) #I need to round this\n",
    "\n",
    "d_s_fp['cruise_avg_weight_kg'] = d_s_fp['ac_perf'].apply(lambda x: x.wref if type(x)!=float else 67000)\n",
    "\n",
    "\n",
    "\n",
    "\n",
    "#Estimate climb/descent and cruise fuel\n",
    "d_s_fp['cruise_fuel_kg'] = d_s_fp.apply(lambda x: estimate_cruise_fuel(x['avg_fl'],x['cruise_nom_m'],\n",
    "                                                                x['cruise_avg_weight_kg'],x['cruise_min'],\n",
    "                                                                x['ac_perf']), axis=1)\n",
    "\n",
    "d_s_fp['climb_fuel_kg'] = d_s_fp.apply(lambda x: estimate_climb_fuel(x['climb_min'],x['avg_fl'],x['ac_perf']), axis=1)\n",
    "d_s_fp['descent_fuel_kg'] = d_s_fp.apply(lambda x: estimate_climb_fuel(x['descent_min'],x['avg_fl'],x['ac_perf']), axis=1)\n",
    "\n",
    "\n",
    "#Estimate total time and fuel\n",
    "d_s_fp['total_min']=d_s_fp['climb_min']+d_s_fp['cruise_min']+d_s_fp['descent_min']\n",
    "d_s_fp['total_fuel_kg']=d_s_fp['climb_fuel_kg']+d_s_fp['cruise_fuel_kg']+d_s_fp['descent_fuel_kg']\n",
    "  \n",
    "    \n",
    "    \n",
    "    \n",
    "    \n",
    "    \n",
    "d_s_fp[['icao_model','ac_eq','ac_implementing','fp_distance_nm','climb_nm','climb_min',\n",
    "                                         'avg_fl','cruise_avg_weight_kg','cruise_nom_kt','cruise_nom_m',\n",
    "                                         'cruise_avg_wind_kt','cruise_ground_kt',\n",
    "                                         'cruise_nm','cruise_min',\n",
    "                                         'descent_nm','descent_min',\n",
    "                                         'climb_fuel_kg','descent_fuel_kg','cruise_fuel_kg',\n",
    "                                        'total_min','total_fuel_kg']].head()"
   ]
  },
  {
   "cell_type": "code",
   "execution_count": null,
   "metadata": {
    "collapsed": true
   },
   "outputs": [],
   "source": [
    "d_s_fp.head()"
   ]
  },
  {
   "cell_type": "code",
   "execution_count": null,
   "metadata": {
    "collapsed": true
   },
   "outputs": [],
   "source": []
  },
  {
   "cell_type": "code",
   "execution_count": null,
   "metadata": {
    "collapsed": true
   },
   "outputs": [],
   "source": [
    "mysql_vista.add_possible_flights(d_s_fp)"
   ]
  },
  {
   "cell_type": "code",
   "execution_count": null,
   "metadata": {
    "collapsed": true
   },
   "outputs": [],
   "source": []
  },
  {
   "cell_type": "code",
   "execution_count": null,
   "metadata": {
    "collapsed": true
   },
   "outputs": [],
   "source": []
  },
  {
   "cell_type": "code",
   "execution_count": null,
   "metadata": {
    "collapsed": true
   },
   "outputs": [],
   "source": [
    "d_s_fp_all['ac_type_eq'].unique()"
   ]
  },
  {
   "cell_type": "code",
   "execution_count": null,
   "metadata": {
    "collapsed": true
   },
   "outputs": [],
   "source": [
    "#_s_fp.loc[d_s_fp['icao_model']=='DH8B'].head()\n",
    "d_s_fp.loc[50117,:]"
   ]
  },
  {
   "cell_type": "code",
   "execution_count": null,
   "metadata": {
    "collapsed": true
   },
   "outputs": [],
   "source": [
    "mysql_vista.add_possible_flights(d_s_fp)"
   ]
  },
  {
   "cell_type": "code",
   "execution_count": null,
   "metadata": {
    "collapsed": true
   },
   "outputs": [],
   "source": []
  },
  {
   "cell_type": "code",
   "execution_count": null,
   "metadata": {
    "collapsed": true
   },
   "outputs": [],
   "source": []
  },
  {
   "cell_type": "code",
   "execution_count": null,
   "metadata": {
    "collapsed": true
   },
   "outputs": [],
   "source": []
  },
  {
   "cell_type": "code",
   "execution_count": null,
   "metadata": {
    "collapsed": true
   },
   "outputs": [],
   "source": []
  },
  {
   "cell_type": "code",
   "execution_count": null,
   "metadata": {
    "collapsed": true
   },
   "outputs": [],
   "source": []
  },
  {
   "cell_type": "code",
   "execution_count": null,
   "metadata": {
    "collapsed": true
   },
   "outputs": [],
   "source": []
  },
  {
   "cell_type": "code",
   "execution_count": null,
   "metadata": {
    "collapsed": true
   },
   "outputs": [],
   "source": [
    "#OLDER STUFF FROM HERE DOWN"
   ]
  },
  {
   "cell_type": "code",
   "execution_count": null,
   "metadata": {
    "collapsed": true
   },
   "outputs": [],
   "source": [
    "d_s_fp[['id','fpool_id', 'climb_nm','climb_min','cruise_nm','cruise_min','descent_nm','descent_min','total_min',\n",
    "        'avg_fl','cruise_nominal_kt','cruise_avg_wind_kt','cruise_avg_weight_kg','crco_cost', 'fuel_usage_kg']].rename(\n",
    "    columns = {'id':'schedule_id'})"
   ]
  },
  {
   "cell_type": "code",
   "execution_count": null,
   "metadata": {
    "collapsed": true
   },
   "outputs": [],
   "source": [
    "import random\n",
    "\n",
    "def f_fit(x,a,b):\n",
    "    return a + b*x\n",
    "\n",
    "def random_time(dist,ldist):\n",
    "    time = round(np.random.normal(f_fit(dist,*ldist.get('coef')),ldist.get('sd_error')))\n",
    "    while time<0:\n",
    "        time = round(np.random.normal(f_fit(dist,*ldist.get('coef')),ldist.get('sd_error')))\n",
    "        \n",
    "    return time\n",
    "\n",
    "\n",
    "\n",
    "def estimate_performances(d_estimated,\n",
    "                          dict_climb_iedf,dict_descent_iedf,dict_fl_iedf,\n",
    "                          descent_time_lineal_dict,climb_time_lineal_dict):\n",
    "    \n",
    "    min_fuel=900\n",
    "    max_fuel=1500\n",
    "    \n",
    "    \n",
    "    \n",
    "    d_estimated['p_key'] = d_estimated['ac_type_eq'] + \"_\"\\\n",
    "                           +d_estimated['f_dist_type'].cat.categories[d_estimated['f_dist_type'].cat.codes].tolist()\n",
    "    \n",
    "    d_estimated['iedf_climb'] = d_estimated['p_key'].apply(lambda x: dict_climb_iedf.get(x).get('iedf') \n",
    "                                                         if not pd.isnull(dict_climb_iedf.get(x))\n",
    "                                                         else np.nan) \n",
    "    \n",
    "    d_estimated['iedf_descent'] = d_estimated['p_key'].apply(lambda x: dict_descent_iedf.get(x).get('iedf')\n",
    "                                                           if not pd.isnull(dict_descent_iedf.get(x))\n",
    "                                                           else np.nan)\n",
    "    d_estimated['iedf_fl'] = d_estimated['p_key'].apply(lambda x: dict_fl_iedf.get(x).get('iedf')\n",
    "                                                     if not pd.isnull(dict_fl_iedf.get(x))\n",
    "                                                      else np.nan)\n",
    "    \n",
    "    d_estimated['descent_lineal'] = d_estimated['ac_type_eq'].apply(lambda x: descent_time_lineal_dict.get(x))\n",
    "    d_estimated['climb_lineal'] = d_estimated['ac_type_eq'].apply(lambda x: climb_time_lineal_dict.get(x))\n",
    "    \n",
    "\n",
    "    indexes_ok = ~(pd.isnull(d_estimated['iedf_climb']) | pd.isnull(d_estimated['iedf_descent']) | pd.isnull(d_estimated['iedf_fl']) \n",
    "                   | pd.isnull(d_estimated['descent_lineal']) | pd.isnull(d_estimated['climb_lineal']))\n",
    "\n",
    "    d_estimated['climb_nm']=-1\n",
    "    d_estimated['descent_nm']=-1\n",
    "    d_estimated['avg_fl']=-1\n",
    "    d_estimated['climb_min']=-1\n",
    "    d_estimated['descent_min']=-1\n",
    "    d_estimated['climb_descent_nm']=-1\n",
    "    d_estimated['cruise_nm']=-1\n",
    "    d_estimated['rmv_climb_desc_nm']=0\n",
    "    \n",
    "    \n",
    "    d_estimated.loc[indexes_ok,'climb_nm']=d_estimated.loc[indexes_ok,'iedf_climb']\\\n",
    "                                             .apply(lambda iedf_c: np.round(iedf_c(random.uniform(min(iedf_c.x),1)),1))\n",
    "    \n",
    "    \n",
    "    d_estimated.loc[indexes_ok,'descent_nm']=d_estimated.loc[indexes_ok,'iedf_descent']\\\n",
    "                                             .apply(lambda iedf_d: np.round(iedf_d(random.uniform(min(iedf_d.x),1)),1))\n",
    "        \n",
    "        \n",
    "    \n",
    "    d_estimated.loc[indexes_ok,'avg_fl']=d_estimated.loc[indexes_ok,'iedf_fl']\\\n",
    "                                             .apply(lambda iedf_f: np.round(iedf_f(random.uniform(min(iedf_f.x),1))))\n",
    "    \n",
    "    \n",
    "    d_estimated.loc[indexes_ok,'climb_descent_nm']=d_estimated.loc[indexes_ok,'climb_nm']\\\n",
    "                                                   +d_estimated.loc[indexes_ok,'descent_nm']\n",
    "        \n",
    "    \n",
    "    d_estimated.loc[indexes_ok, 'cruise_nm']=d_estimated.loc[indexes_ok,'fp_distance_nm']\\\n",
    "                                             -d_estimated.loc[indexes_ok,'climb_descent_nm']\n",
    "        \n",
    "           \n",
    "    if (d_estimated['cruise_nm']<0).any():\n",
    "            \n",
    "        d_estimated.loc[(d_estimated['cruise_nm']<0), 'rmv_climb_desc_nm']=-d_estimated.loc[(d_estimated['cruise_nm']<0), 'cruise_nm']\n",
    "                    \n",
    "        d_estimated.loc[(d_estimated['cruise_nm']<0), 'descent_nm']=\\\n",
    "            d_estimated.loc[(d_estimated['cruise_nm']<0), 'descent_nm']\\\n",
    "            -np.round(d_estimated.loc[(d_estimated['cruise_nm']<0), 'rmv_climb_desc_nm']/2)\n",
    "\n",
    "        d_estimated.loc[(d_estimated['cruise_nm']<0), 'climb_nm']=\\\n",
    "            d_estimated.loc[(d_estimated['cruise_nm']<0), 'fp_distance_nm']\\\n",
    "            -d_estimated.loc[(d_estimated['cruise_nm']<0), 'descent_nm']\n",
    "\n",
    "\n",
    "        i_climb_desc_neg=(d_estimated['climb_nm']<0) | (d_estimated['descent_nm']<0)\n",
    "        d_estimated.loc[i_climb_desc_neg, 'climb_nm']=np.ceil(d_estimated.loc[i_climb_desc_neg, 'fp_distance_nm']/2)\n",
    "        d_estimated.loc[i_climb_desc_neg, 'descent_nm']=d_estimated.loc[i_climb_desc_neg, 'fp_distance_nm']\\\n",
    "                                                        -d_estimated.loc[i_climb_desc_neg, 'climb_nm']\n",
    "\n",
    "\n",
    "    d_estimated.loc[indexes_ok,'climb_descent_nm']=d_estimated.loc[indexes_ok,'climb_nm']\\\n",
    "                                                   +d_estimated.loc[indexes_ok,'descent_nm']\n",
    "\n",
    "    d_estimated.loc[indexes_ok, 'cruise_nm']=d_estimated.loc[indexes_ok,'fp_distance_nm']\\\n",
    "                                             -d_estimated.loc[indexes_ok,'climb_descent_nm']\n",
    "\n",
    "\n",
    "    d_estimated.loc[indexes_ok,'climb_min']=d_estimated.loc[indexes_ok].apply(lambda x: \n",
    "                                                                              random_time(x['climb_nm'],x['climb_lineal']),axis=1);\n",
    "                                                                                            \n",
    "    \n",
    "    \n",
    "    d_estimated.loc[indexes_ok,'descent_min']=d_estimated.loc[indexes_ok].apply(lambda x: \n",
    "                                                                                random_time(x['descent_nm'],x['descent_lineal']),axis=1);\n",
    "                                                                                            \n",
    "    \n",
    "    \n",
    "    \n",
    "    d_estimated['fuel_usage_kg']=np.random.random()*(max_fuel-min_fuel)+min_fuel\n",
    "    d_estimated['cruise_nominal_kt']=480\n",
    "    d_estimated['cruise_avg_weight_kg']=186000\n",
    "    d_estimated['cruise_avg_wind_kt']=43\n",
    "    \n",
    "    d_estimated['cruise_ground_kt']=d_estimated['cruise_avg_wind_kt']+d_estimated['cruise_nominal_kt']\n",
    "\n",
    "    d_estimated['cruise_min']=round(60*d_estimated['cruise_nm']/d_estimated['cruise_ground_kt'])\n",
    "    \n",
    "    d_estimated['total_min']=d_estimated['climb_min']+d_estimated['cruise_min']+d_estimated['descent_min']\n",
    "    \n",
    "     \n",
    "    return d_estimated, indexes_ok\n",
    "\n",
    "\n",
    "def create_flight_plans(d_schedules, run_id):\n",
    "    #flight_plan_table=ddb.create_flight_plan_table(dynamodb)\n",
    "    min_crco_cost=120\n",
    "    max_crco_cost=250\n",
    "    fuel_price=0.86\n",
    "\n",
    "\n",
    "    d_schedules['ac_type_eq']=d_schedules['aircraft_type'].apply(lambda x: dict_ac_eq_perf.get(x,'-'))\n",
    "    \n",
    "    d_schedules['p_key'] = d_schedules['ac_type_eq'] + \"_\"\\\n",
    "                           +d_schedules['f_dist_type'].cat.categories[d_schedules['f_dist_type'].cat.codes].tolist()\n",
    "    \n",
    "    d_schedules['iedf_climb'] = d_schedules['p_key'].apply(lambda x: dict_climb_iedf.get(x).get('iedf') \n",
    "                                                         if not pd.isnull(dict_climb_iedf.get(x))\n",
    "                                                         else np.nan) \n",
    "    \n",
    "    d_schedules['iedf_descent'] = d_schedules['p_key'].apply(lambda x: dict_descent_iedf.get(x).get('iedf')\n",
    "                                                           if not pd.isnull(dict_descent_iedf.get(x))\n",
    "                                                           else np.nan)\n",
    "    d_schedules['iedf_fl'] = d_schedules['p_key'].apply(lambda x: dict_fl_iedf.get(x).get('iedf')\n",
    "                                                     if not pd.isnull(dict_fl_iedf.get(x))\n",
    "                                                      else np.nan)\n",
    "    \n",
    "    d_schedules['descent_lineal'] = d_schedules['ac_type_eq'].apply(lambda x: descent_time_lineal_dict.get(x))\n",
    "    d_schedules['climb_lineal'] = d_schedules['ac_type_eq'].apply(lambda x: climb_time_lineal_dict.get(x))\n",
    "    \n",
    "\n",
    "    \n",
    "    \n",
    "    \n",
    "    for i in range(len(d_schedules)):\n",
    "        ori = d_schedules.loc[i,'icao_orig']\n",
    "        des = d_schedules.loc[i,'icao_dest']\n",
    "        ac_type = d_schedules.loc[i,'aircraft_type']\n",
    "        \n",
    "\n",
    "        index_o_d=(d_fp_pool.loc[:,'icao_orig']==ori) & (d_fp_pool.loc[:,'icao_dest']==des)\n",
    "\n",
    "        potential_fp=d_fp_pool.loc[index_o_d].copy()\n",
    "\n",
    "        if len(potential_fp)>2:\n",
    "            print(ori+\" \"+des+\" \"+str(len(d_fp_pool.loc[index_o_d])))\n",
    "            \n",
    "            #The climb/descent/fl should be selected based on AC performances.\n",
    "            #The CRCO charges should be estimated based on NAS usage\n",
    "            #I neeed to incorporate the cost of fuel also\n",
    "            #Think if in preference use total time or not. Now only charges and fuel cost\n",
    "            \n",
    "            \n",
    "            potential_fp['schedule_id']=d_schedules.loc[i,'id']\n",
    "            \n",
    "            potential_fp['crco_cost']=(np.random.random(size=len(potential_fp))*\n",
    "                                       (max_crco_cost-min_crco_cost)+min_crco_cost)\n",
    "            \n",
    "            potential_fp['crco_cost']=potential_fp['crco_cost'].apply(lambda x: round(x,2))\n",
    "            \n",
    "            \n",
    "            d_estimated = potential_fp[['fp_distance_nm','f_dist_type']].copy().reset_index()\n",
    "            d_estimated['ac_type_eq'] = dict_ac_eq_perf.get(ac_type,'-')\n",
    "            d_estimated['ac_type'] = ac_type\n",
    "            \n",
    "            \n",
    "            ep, indexes_ok = estimate_performances(d_estimated,dict_climb_iedf,\n",
    "                                                   dict_descent_iedf,dict_fl_iedf,\n",
    "                                                   descent_time_lineal_dict,climb_time_lineal_dict)\n",
    "            \n",
    "            \n",
    "            \n",
    "            return ep, indexes_ok\n",
    "            \n",
    "\n",
    "            '''\n",
    "            \n",
    "                \n",
    "            potential_fp['estimated_cost']=potential_fp.apply(lambda x: x['crco_cost']+fuel_price*x['fuel_usage_kg'],axis=1)\n",
    "\n",
    "   \n",
    "            potential_fp['flight_plan_run_key']=potential_fp['fp_pool_run_key'].apply(\n",
    "                lambda x: d_schedules.ix[i,'schedule_run_key']+\"_\"+x+\"_\"+str(run_id))\n",
    "            potential_fp['flight_id']=d_schedules.ix[i,'code']\n",
    "            \n",
    "            \n",
    "            actype = d_schedules.loc[i,'aircraft_type']\n",
    "            potential_fp['run']=run_id\n",
    "            potential_fp['icao_orig']=ori\n",
    "            potential_fp['icao_dest']=des\n",
    "            \n",
    "            potential_fp['excluded']=0\n",
    "\n",
    "\n",
    "            x=[1 / e for e in potential_fp['estimated_cost'].tolist()]\n",
    "\n",
    "            xorig=x.copy()\n",
    "            choice=[]\n",
    "            while len(x)>0:\n",
    "                selected=(u.weighted_choice(x))\n",
    "                choice=choice+[xorig.index(x[selected])]\n",
    "                del(x[selected])\n",
    "\n",
    "            #choice=weighted_choice_sub(potential_fp['estimated_cost'])\n",
    "            potential_fp['preference']=choice\n",
    "            #potential_fp.ix[potential_fp.index[choice],'preference']=1\n",
    "\n",
    "            #ddb.fill_flight_plan_table(flight_plan_table,potential_fp)\n",
    "            #print(\"AVAILABLE \"+str(len(potential_fp)))\n",
    "            '''\n",
    "\n",
    "        else:\n",
    "            #O-D pair in schedule missing on pool of possible flight plans\n",
    "            print(ori+\" \"+des+\" MISSING\")\n",
    "            \n",
    "\n",
    "\n",
    "\n",
    "ep, i =create_flight_plans(d_schedules,1)\n",
    "ep"
   ]
  },
  {
   "cell_type": "code",
   "execution_count": null,
   "metadata": {
    "collapsed": true
   },
   "outputs": [],
   "source": [
    "ep.loc[i]"
   ]
  },
  {
   "cell_type": "code",
   "execution_count": null,
   "metadata": {
    "collapsed": true
   },
   "outputs": [],
   "source": []
  },
  {
   "cell_type": "code",
   "execution_count": null,
   "metadata": {
    "collapsed": true
   },
   "outputs": [],
   "source": [
    "d_schedules.head()\n",
    "print(potential_fp.keys())\n",
    "potential_fp[['key','flight_plan_run_key']]\n",
    "\n",
    "for i in potential_fp.index.values:\n",
    "    print(i)\n",
    "    \n",
    "potential_fp"
   ]
  },
  {
   "cell_type": "code",
   "execution_count": null,
   "metadata": {
    "collapsed": true
   },
   "outputs": [],
   "source": [
    "potential_fp['nas_used'].iloc[0]"
   ]
  },
  {
   "cell_type": "code",
   "execution_count": null,
   "metadata": {
    "collapsed": true
   },
   "outputs": [],
   "source": [
    "import random\n",
    "\n",
    "def weighted_choice(weights):\n",
    "    rnd = random.random() * sum(weights)\n",
    "    for i, w in enumerate(weights):\n",
    "        rnd -= w\n",
    "        if rnd < 0:\n",
    "            return i\n",
    "        \n",
    "weights=[10002, 1]\n",
    "weighted_choice(weights)"
   ]
  },
  {
   "cell_type": "code",
   "execution_count": null,
   "metadata": {
    "collapsed": true
   },
   "outputs": [],
   "source": [
    "x=[0.1, 2300, 10]\n",
    "print(x)\n",
    "print([1 / e for e in x])\n",
    "\n",
    "x=[1 / e for e in x]\n",
    "xorig=x.copy()\n",
    "print(x)\n",
    "selectedv=[]\n",
    "selected=[]\n",
    "while len(x)>0:\n",
    "    choice=(weighted_choice_sub(x))\n",
    "    selectedv=selectedv+[x[choice]]\n",
    "    selected=selected+[xorig.index(x[choice])]\n",
    "    \n",
    "    \n",
    "    del(x[choice])\n",
    "\n",
    "\n",
    "\n",
    "print(xorig)\n",
    "print(selectedv)\n",
    "print(selected)\n",
    "\n",
    "\n"
   ]
  },
  {
   "cell_type": "code",
   "execution_count": null,
   "metadata": {
    "collapsed": true
   },
   "outputs": [],
   "source": [
    "d_schedules.head()"
   ]
  },
  {
   "cell_type": "code",
   "execution_count": null,
   "metadata": {
    "collapsed": true
   },
   "outputs": [],
   "source": [
    "d_fp_pool.head()"
   ]
  },
  {
   "cell_type": "code",
   "execution_count": null,
   "metadata": {
    "collapsed": true
   },
   "outputs": [],
   "source": []
  }
 ],
 "metadata": {
  "kernelspec": {
   "display_name": "Python 3",
   "language": "python",
   "name": "python3"
  },
  "language_info": {
   "codemirror_mode": {
    "name": "ipython",
    "version": 3
   },
   "file_extension": ".py",
   "mimetype": "text/x-python",
   "name": "python",
   "nbconvert_exporter": "python",
   "pygments_lexer": "ipython3",
   "version": "3.6.0"
  }
 },
 "nbformat": 4,
 "nbformat_minor": 2
}
